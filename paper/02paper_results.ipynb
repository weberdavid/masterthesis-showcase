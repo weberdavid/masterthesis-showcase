{
 "cells": [
  {
   "cell_type": "code",
   "execution_count": 2,
   "id": "0615eb3a-e9df-4e5c-bbc8-e8fe51b7f9b5",
   "metadata": {},
   "outputs": [],
   "source": [
    "import numpy as np\n",
    "import pandas as pd\n",
    "import matplotlib.pyplot as plt\n",
    "%matplotlib inline\n",
    "\n",
    "# Krippendorff's Alpha\n",
    "import simpledorff\n",
    "\n",
    "from scipy.stats import chisquare\n",
    "from sklearn.metrics import confusion_matrix, ConfusionMatrixDisplay"
   ]
  },
  {
   "cell_type": "code",
   "execution_count": 170,
   "id": "54757413-d70b-4523-a08d-89bd73847b87",
   "metadata": {},
   "outputs": [],
   "source": [
    "# Experiment 1 preprocessing of data\n",
    "def preprocess_experiment1_results(path):\n",
    "    data = pd.read_csv(path)\n",
    "    columns = ['HITId',\n",
    "               'WorkerId',\n",
    "               'Input.image_url',\n",
    "               'Answer.algorithms.alg1-cmr',\n",
    "               'Answer.algorithms.alg1-smr',\n",
    "               'Answer.algorithms.alg2-cmr',\n",
    "               'Answer.algorithms.alg2-smr',\n",
    "               'Answer.algorithms.equally']\n",
    "    data = data[columns]\n",
    "    \n",
    "    # Extract the img_id, image_class and algorithms of the image_url\n",
    "    data['img_id'] = data['Input.image_url'].str.split('_').apply(lambda x: x[0])\n",
    "    data['img_class'] = data['Input.image_url'].str.split('_').apply(lambda x: x[2])\n",
    "    data['alg1'] = data['Input.image_url'].str.split('_').apply(lambda x: x[1])\n",
    "    data['alg2'] = data['Input.image_url'].str.split('_').apply(lambda x: x[3].split('.')[0])\n",
    "    \n",
    "    # Get all answers, where nonpruned was voted as more reasonable\n",
    "    data.loc[((data['Answer.algorithms.alg1-smr'] == True) & (data['alg1'] == 'nonpruned') |\n",
    "              (data['Answer.algorithms.alg2-smr'] == True) & (data['alg2'] == 'nonpruned')), 'result'] = 'nonpruned-smr'\n",
    "    \n",
    "    data.loc[((data['Answer.algorithms.alg1-cmr'] == True) & (data['alg1'] == 'nonpruned') |\n",
    "              (data['Answer.algorithms.alg2-cmr'] == True) & (data['alg2'] == 'nonpruned')), 'result'] = 'nonpruned-cmr'\n",
    "  \n",
    "\n",
    "    \n",
    "    # Get all answers, where 2pruned was voted as more reasonable\n",
    "    data.loc[((data['Answer.algorithms.alg1-smr'] == True) & (data['alg1'] == '2pruned') |\n",
    "              (data['Answer.algorithms.alg2-smr'] == True) & (data['alg2'] == '2pruned')), 'result'] = '2pruned-smr'\n",
    "    \n",
    "    data.loc[((data['Answer.algorithms.alg1-cmr'] == True) & (data['alg1'] == '2pruned') |\n",
    "              (data['Answer.algorithms.alg2-cmr'] == True) & (data['alg2'] == '2pruned')), 'result'] = '2pruned-cmr'\n",
    "    \n",
    "    \n",
    "    \n",
    "    # Get all answers, where 4pruned was voted as more reasonable\n",
    "    data.loc[((data['Answer.algorithms.alg1-smr'] == True) & (data['alg1'] == '4pruned') |\n",
    "              (data['Answer.algorithms.alg2-smr'] == True) & (data['alg2'] == '4pruned')), 'result'] = '4pruned-smr'\n",
    "    \n",
    "    data.loc[((data['Answer.algorithms.alg1-cmr'] == True) & (data['alg1'] == '4pruned') |\n",
    "              (data['Answer.algorithms.alg2-cmr'] == True) & (data['alg2'] == '4pruned')), 'result'] = '4pruned-cmr'\n",
    "    \n",
    "    \n",
    "    \n",
    "    # Get all answers, where 8pruned was voted as more reasonable\n",
    "    data.loc[((data['Answer.algorithms.alg1-smr'] == True) & (data['alg1'] == '8pruned') |\n",
    "              (data['Answer.algorithms.alg2-smr'] == True) & (data['alg2'] == '8pruned')), 'result'] = '8pruned-smr'\n",
    "    \n",
    "    data.loc[((data['Answer.algorithms.alg1-cmr'] == True) & (data['alg1'] == '8pruned') |\n",
    "              (data['Answer.algorithms.alg2-cmr'] == True) & (data['alg2'] == '8pruned')), 'result'] = '8pruned-cmr'\n",
    "    \n",
    "    \n",
    "    \n",
    "    # Get all answers, where both algorithms were equally reasonable\n",
    "    data.loc[data['Answer.algorithms.equally']==True, 'result'] = 'equally-reasonable'\n",
    "    \n",
    "    # Creat overall results column\n",
    "    data['algorithm_result'] = data['result'].str.split('-').apply(lambda x: x[0])\n",
    "    \n",
    "    \n",
    "    \n",
    "    # For reliability\n",
    "    data.loc[data['Answer.algorithms.alg1-smr']==True, 'annotation_result'] = 'alg1-smr'\n",
    "    data.loc[data['Answer.algorithms.alg1-cmr']==True, 'annotation_result'] = 'alg1-cmr'\n",
    "    data.loc[data['Answer.algorithms.alg2-smr']==True, 'annotation_result'] = 'alg2-smr'\n",
    "    data.loc[data['Answer.algorithms.alg2-cmr']==True, 'annotation_result'] = 'alg2-cmr'\n",
    "    data.loc[data['Answer.algorithms.equally']==True, 'annotation_result'] = 'equally-reasonable'\n",
    "    \n",
    "    return data"
   ]
  },
  {
   "cell_type": "markdown",
   "id": "cba93098-cb46-41a9-93b9-70e29af5921e",
   "metadata": {},
   "source": [
    "# Experiment 1 - Grad-CAM Heat-Maps\n",
    "This experiment investigates the reasonability of algorithms when they classify images. You will decide which of the algorithms makes a more reasonable decision based on the parts of the image it uses for its decision.\n",
    "\n",
    "The image in the middle is the original image with its predicted class shown above the image. The images on the left and right have a heatmap, ranging from blue to red, overlayed. The whole range of the heatmap is shown here.\n",
    "\n",
    "\n",
    "The blue areas indicate the least important parts of the image to the algorithm, the red areas indicate the most important parts of the image to the algorithm. Therefore, more important (red) areas help the algorithm to make its correct decision more than less important (blue) areas. You will decide which of the algorithms makes a more reasonable decision based on the parts of the image it uses most for its decision. If you think that none of the algorithms seems more reasonable than the other, select \"Both algorithms seem equally reasonable\"."
   ]
  },
  {
   "cell_type": "code",
   "execution_count": 171,
   "id": "19a83d76-0bc4-4717-b9cb-a932ca4644aa",
   "metadata": {},
   "outputs": [
    {
     "data": {
      "text/html": [
       "<div>\n",
       "<style scoped>\n",
       "    .dataframe tbody tr th:only-of-type {\n",
       "        vertical-align: middle;\n",
       "    }\n",
       "\n",
       "    .dataframe tbody tr th {\n",
       "        vertical-align: top;\n",
       "    }\n",
       "\n",
       "    .dataframe thead th {\n",
       "        text-align: right;\n",
       "    }\n",
       "</style>\n",
       "<table border=\"1\" class=\"dataframe\">\n",
       "  <thead>\n",
       "    <tr style=\"text-align: right;\">\n",
       "      <th></th>\n",
       "      <th>HITId</th>\n",
       "      <th>WorkerId</th>\n",
       "      <th>Input.image_url</th>\n",
       "      <th>Answer.algorithms.alg1-cmr</th>\n",
       "      <th>Answer.algorithms.alg1-smr</th>\n",
       "      <th>Answer.algorithms.alg2-cmr</th>\n",
       "      <th>Answer.algorithms.alg2-smr</th>\n",
       "      <th>Answer.algorithms.equally</th>\n",
       "      <th>img_id</th>\n",
       "      <th>img_class</th>\n",
       "      <th>alg1</th>\n",
       "      <th>alg2</th>\n",
       "      <th>result</th>\n",
       "      <th>algorithm_result</th>\n",
       "      <th>annotation_result</th>\n",
       "    </tr>\n",
       "  </thead>\n",
       "  <tbody>\n",
       "    <tr>\n",
       "      <th>0</th>\n",
       "      <td>3PZDSVZ3KD3RAKPJX9UT1OFNQ2Z4NB</td>\n",
       "      <td>A3VQX8TVTJGOM5</td>\n",
       "      <td>22_8pruned_6-garbagetruck_nonpruned.png</td>\n",
       "      <td>False</td>\n",
       "      <td>False</td>\n",
       "      <td>False</td>\n",
       "      <td>True</td>\n",
       "      <td>False</td>\n",
       "      <td>22</td>\n",
       "      <td>6-garbagetruck</td>\n",
       "      <td>8pruned</td>\n",
       "      <td>nonpruned</td>\n",
       "      <td>nonpruned-smr</td>\n",
       "      <td>nonpruned</td>\n",
       "      <td>alg2-smr</td>\n",
       "    </tr>\n",
       "    <tr>\n",
       "      <th>1</th>\n",
       "      <td>3PZDSVZ3KD3RAKPJX9UT1OFNQ2Z4NB</td>\n",
       "      <td>A3GMEOJFNKDT79</td>\n",
       "      <td>22_8pruned_6-garbagetruck_nonpruned.png</td>\n",
       "      <td>False</td>\n",
       "      <td>False</td>\n",
       "      <td>True</td>\n",
       "      <td>False</td>\n",
       "      <td>False</td>\n",
       "      <td>22</td>\n",
       "      <td>6-garbagetruck</td>\n",
       "      <td>8pruned</td>\n",
       "      <td>nonpruned</td>\n",
       "      <td>nonpruned-cmr</td>\n",
       "      <td>nonpruned</td>\n",
       "      <td>alg2-cmr</td>\n",
       "    </tr>\n",
       "    <tr>\n",
       "      <th>2</th>\n",
       "      <td>3PZDSVZ3KD3RAKPJX9UT1OFNQ2Z4NB</td>\n",
       "      <td>A2AQKM2HBFD9C1</td>\n",
       "      <td>22_8pruned_6-garbagetruck_nonpruned.png</td>\n",
       "      <td>False</td>\n",
       "      <td>False</td>\n",
       "      <td>True</td>\n",
       "      <td>False</td>\n",
       "      <td>False</td>\n",
       "      <td>22</td>\n",
       "      <td>6-garbagetruck</td>\n",
       "      <td>8pruned</td>\n",
       "      <td>nonpruned</td>\n",
       "      <td>nonpruned-cmr</td>\n",
       "      <td>nonpruned</td>\n",
       "      <td>alg2-cmr</td>\n",
       "    </tr>\n",
       "    <tr>\n",
       "      <th>3</th>\n",
       "      <td>3PZDSVZ3KD3RAKPJX9UT1OFNQ2Z4NB</td>\n",
       "      <td>A21DHQV0B6WUT6</td>\n",
       "      <td>22_8pruned_6-garbagetruck_nonpruned.png</td>\n",
       "      <td>False</td>\n",
       "      <td>False</td>\n",
       "      <td>False</td>\n",
       "      <td>True</td>\n",
       "      <td>False</td>\n",
       "      <td>22</td>\n",
       "      <td>6-garbagetruck</td>\n",
       "      <td>8pruned</td>\n",
       "      <td>nonpruned</td>\n",
       "      <td>nonpruned-smr</td>\n",
       "      <td>nonpruned</td>\n",
       "      <td>alg2-smr</td>\n",
       "    </tr>\n",
       "    <tr>\n",
       "      <th>4</th>\n",
       "      <td>3PZDSVZ3KD3RAKPJX9UT1OFNQ2Z4NB</td>\n",
       "      <td>AY0TTDEU9ZZ4B</td>\n",
       "      <td>22_8pruned_6-garbagetruck_nonpruned.png</td>\n",
       "      <td>False</td>\n",
       "      <td>False</td>\n",
       "      <td>False</td>\n",
       "      <td>True</td>\n",
       "      <td>False</td>\n",
       "      <td>22</td>\n",
       "      <td>6-garbagetruck</td>\n",
       "      <td>8pruned</td>\n",
       "      <td>nonpruned</td>\n",
       "      <td>nonpruned-smr</td>\n",
       "      <td>nonpruned</td>\n",
       "      <td>alg2-smr</td>\n",
       "    </tr>\n",
       "  </tbody>\n",
       "</table>\n",
       "</div>"
      ],
      "text/plain": [
       "                            HITId        WorkerId  \\\n",
       "0  3PZDSVZ3KD3RAKPJX9UT1OFNQ2Z4NB  A3VQX8TVTJGOM5   \n",
       "1  3PZDSVZ3KD3RAKPJX9UT1OFNQ2Z4NB  A3GMEOJFNKDT79   \n",
       "2  3PZDSVZ3KD3RAKPJX9UT1OFNQ2Z4NB  A2AQKM2HBFD9C1   \n",
       "3  3PZDSVZ3KD3RAKPJX9UT1OFNQ2Z4NB  A21DHQV0B6WUT6   \n",
       "4  3PZDSVZ3KD3RAKPJX9UT1OFNQ2Z4NB   AY0TTDEU9ZZ4B   \n",
       "\n",
       "                           Input.image_url  Answer.algorithms.alg1-cmr  \\\n",
       "0  22_8pruned_6-garbagetruck_nonpruned.png                       False   \n",
       "1  22_8pruned_6-garbagetruck_nonpruned.png                       False   \n",
       "2  22_8pruned_6-garbagetruck_nonpruned.png                       False   \n",
       "3  22_8pruned_6-garbagetruck_nonpruned.png                       False   \n",
       "4  22_8pruned_6-garbagetruck_nonpruned.png                       False   \n",
       "\n",
       "   Answer.algorithms.alg1-smr  Answer.algorithms.alg2-cmr  \\\n",
       "0                       False                       False   \n",
       "1                       False                        True   \n",
       "2                       False                        True   \n",
       "3                       False                       False   \n",
       "4                       False                       False   \n",
       "\n",
       "   Answer.algorithms.alg2-smr  Answer.algorithms.equally img_id  \\\n",
       "0                        True                      False     22   \n",
       "1                       False                      False     22   \n",
       "2                       False                      False     22   \n",
       "3                        True                      False     22   \n",
       "4                        True                      False     22   \n",
       "\n",
       "        img_class     alg1       alg2         result algorithm_result  \\\n",
       "0  6-garbagetruck  8pruned  nonpruned  nonpruned-smr        nonpruned   \n",
       "1  6-garbagetruck  8pruned  nonpruned  nonpruned-cmr        nonpruned   \n",
       "2  6-garbagetruck  8pruned  nonpruned  nonpruned-cmr        nonpruned   \n",
       "3  6-garbagetruck  8pruned  nonpruned  nonpruned-smr        nonpruned   \n",
       "4  6-garbagetruck  8pruned  nonpruned  nonpruned-smr        nonpruned   \n",
       "\n",
       "  annotation_result  \n",
       "0          alg2-smr  \n",
       "1          alg2-cmr  \n",
       "2          alg2-cmr  \n",
       "3          alg2-smr  \n",
       "4          alg2-smr  "
      ]
     },
     "execution_count": 171,
     "metadata": {},
     "output_type": "execute_result"
    }
   ],
   "source": [
    "hm_results = preprocess_experiment1_results('./paper-experiment1-results.csv')\n",
    "hm_results.head()"
   ]
  },
  {
   "cell_type": "code",
   "execution_count": 172,
   "id": "f81b5a55-0a39-4073-8c95-d28d3c40817a",
   "metadata": {},
   "outputs": [
    {
     "data": {
      "text/plain": [
       "0.06989738525294764"
      ]
     },
     "execution_count": 172,
     "metadata": {},
     "output_type": "execute_result"
    }
   ],
   "source": [
    "# Interannotator Agreement\n",
    "simpledorff.calculate_krippendorffs_alpha_for_df(hm_results,\n",
    "                                                 experiment_col='Input.image_url',\n",
    "                                                 annotator_col='WorkerId',\n",
    "                                                 class_col='annotation_result')"
   ]
  },
  {
   "cell_type": "code",
   "execution_count": 102,
   "id": "521514a4-9107-4d38-9deb-f26f5bd5d3dd",
   "metadata": {},
   "outputs": [
    {
     "data": {
      "text/plain": [
       "15000"
      ]
     },
     "execution_count": 102,
     "metadata": {},
     "output_type": "execute_result"
    }
   ],
   "source": [
    "# How many datapoints\n",
    "len(hm_results)"
   ]
  },
  {
   "cell_type": "code",
   "execution_count": 103,
   "id": "ea516c0c-438b-4ac7-994f-024f5bda2c86",
   "metadata": {
    "tags": []
   },
   "outputs": [
    {
     "data": {
      "text/plain": [
       "False    0.710133\n",
       "True     0.289867\n",
       "Name: Answer.algorithms.equally, dtype: float64"
      ]
     },
     "execution_count": 103,
     "metadata": {},
     "output_type": "execute_result"
    }
   ],
   "source": [
    "# 'Both algorithms equally reasonable'\n",
    "hm_results['Answer.algorithms.equally'].value_counts(normalize=True)"
   ]
  },
  {
   "cell_type": "code",
   "execution_count": 104,
   "id": "58ef0f54-22fd-4506-ad45-ecba499913d0",
   "metadata": {
    "tags": []
   },
   "outputs": [
    {
     "data": {
      "text/plain": [
       "5-frenchhorn        0.135925\n",
       "0-fish              0.117065\n",
       "7-gaspump           0.114305\n",
       "3-chainsaw          0.105106\n",
       "8-golfball          0.100966\n",
       "6-garbagetruck      0.096596\n",
       "1-dog               0.094296\n",
       "9-parachute         0.085097\n",
       "2-cassetteplayer    0.082107\n",
       "4-church            0.068537\n",
       "Name: img_class, dtype: float64"
      ]
     },
     "execution_count": 104,
     "metadata": {},
     "output_type": "execute_result"
    }
   ],
   "source": [
    "# 'Both equally' grouped by Class\n",
    "# Total: \n",
    "hm_results.loc[hm_results['Answer.algorithms.equally'] == True]['img_class'].value_counts(normalize=True) #/ 1296"
   ]
  },
  {
   "cell_type": "code",
   "execution_count": null,
   "id": "02d61477-f406-4721-8b03-1e84a3e392f9",
   "metadata": {},
   "outputs": [],
   "source": []
  },
  {
   "cell_type": "markdown",
   "id": "33adb0f5-6f9c-4189-8fcc-642e0a418a63",
   "metadata": {},
   "source": [
    "### 2Pruned VS Non-Pruned"
   ]
  },
  {
   "cell_type": "code",
   "execution_count": 105,
   "id": "ef9b643b-9d67-41b4-a4cc-0e46b025f74a",
   "metadata": {},
   "outputs": [
    {
     "data": {
      "text/plain": [
       "2500"
      ]
     },
     "execution_count": 105,
     "metadata": {},
     "output_type": "execute_result"
    }
   ],
   "source": [
    "#### Compare non-pruned VS 2pruned\n",
    "hm_results_np_2 = hm_results.loc[((hm_results['alg1'] == '2pruned') & (hm_results['alg2'] == 'nonpruned')) |\n",
    "                                ((hm_results['alg2'] == '2pruned') & (hm_results['alg1'] == 'nonpruned'))]\n",
    "len(hm_results_np_2)"
   ]
  },
  {
   "cell_type": "code",
   "execution_count": 106,
   "id": "03ed0a15-a7da-4005-80e5-3dce2b33e6a8",
   "metadata": {},
   "outputs": [
    {
     "data": {
      "text/html": [
       "<div>\n",
       "<style scoped>\n",
       "    .dataframe tbody tr th:only-of-type {\n",
       "        vertical-align: middle;\n",
       "    }\n",
       "\n",
       "    .dataframe tbody tr th {\n",
       "        vertical-align: top;\n",
       "    }\n",
       "\n",
       "    .dataframe thead th {\n",
       "        text-align: right;\n",
       "    }\n",
       "</style>\n",
       "<table border=\"1\" class=\"dataframe\">\n",
       "  <thead>\n",
       "    <tr style=\"text-align: right;\">\n",
       "      <th></th>\n",
       "      <th>HITId</th>\n",
       "      <th>WorkerId</th>\n",
       "      <th>Input.image_url</th>\n",
       "      <th>Answer.algorithms.alg1-cmr</th>\n",
       "      <th>Answer.algorithms.alg1-smr</th>\n",
       "      <th>Answer.algorithms.alg2-cmr</th>\n",
       "      <th>Answer.algorithms.alg2-smr</th>\n",
       "      <th>Answer.algorithms.equally</th>\n",
       "      <th>img_id</th>\n",
       "      <th>img_class</th>\n",
       "      <th>alg1</th>\n",
       "      <th>alg2</th>\n",
       "      <th>result</th>\n",
       "      <th>algorithm_result</th>\n",
       "      <th>annotation_result</th>\n",
       "    </tr>\n",
       "  </thead>\n",
       "  <tbody>\n",
       "    <tr>\n",
       "      <th>40</th>\n",
       "      <td>3ZICQFRS4941U6RRLQVDQ7Z51BAZZZ</td>\n",
       "      <td>A21DHQV0B6WUT6</td>\n",
       "      <td>388_nonpruned_3-chainsaw_2pruned.png</td>\n",
       "      <td>False</td>\n",
       "      <td>False</td>\n",
       "      <td>False</td>\n",
       "      <td>False</td>\n",
       "      <td>True</td>\n",
       "      <td>388</td>\n",
       "      <td>3-chainsaw</td>\n",
       "      <td>nonpruned</td>\n",
       "      <td>2pruned</td>\n",
       "      <td>equally-reasonable</td>\n",
       "      <td>equally</td>\n",
       "      <td>equally-reasonable</td>\n",
       "    </tr>\n",
       "    <tr>\n",
       "      <th>41</th>\n",
       "      <td>3ZICQFRS4941U6RRLQVDQ7Z51BAZZZ</td>\n",
       "      <td>ASY5AZCZEM04L</td>\n",
       "      <td>388_nonpruned_3-chainsaw_2pruned.png</td>\n",
       "      <td>True</td>\n",
       "      <td>False</td>\n",
       "      <td>False</td>\n",
       "      <td>False</td>\n",
       "      <td>False</td>\n",
       "      <td>388</td>\n",
       "      <td>3-chainsaw</td>\n",
       "      <td>nonpruned</td>\n",
       "      <td>2pruned</td>\n",
       "      <td>nonpruned-cmr</td>\n",
       "      <td>nonpruned</td>\n",
       "      <td>alg1-cmr</td>\n",
       "    </tr>\n",
       "    <tr>\n",
       "      <th>42</th>\n",
       "      <td>3ZICQFRS4941U6RRLQVDQ7Z51BAZZZ</td>\n",
       "      <td>A3DMT9RYTT0K0N</td>\n",
       "      <td>388_nonpruned_3-chainsaw_2pruned.png</td>\n",
       "      <td>False</td>\n",
       "      <td>False</td>\n",
       "      <td>False</td>\n",
       "      <td>True</td>\n",
       "      <td>False</td>\n",
       "      <td>388</td>\n",
       "      <td>3-chainsaw</td>\n",
       "      <td>nonpruned</td>\n",
       "      <td>2pruned</td>\n",
       "      <td>2pruned-smr</td>\n",
       "      <td>2pruned</td>\n",
       "      <td>alg2-smr</td>\n",
       "    </tr>\n",
       "    <tr>\n",
       "      <th>43</th>\n",
       "      <td>3ZICQFRS4941U6RRLQVDQ7Z51BAZZZ</td>\n",
       "      <td>AQ2BRBVLX3LW7</td>\n",
       "      <td>388_nonpruned_3-chainsaw_2pruned.png</td>\n",
       "      <td>False</td>\n",
       "      <td>False</td>\n",
       "      <td>True</td>\n",
       "      <td>False</td>\n",
       "      <td>False</td>\n",
       "      <td>388</td>\n",
       "      <td>3-chainsaw</td>\n",
       "      <td>nonpruned</td>\n",
       "      <td>2pruned</td>\n",
       "      <td>2pruned-cmr</td>\n",
       "      <td>2pruned</td>\n",
       "      <td>alg2-cmr</td>\n",
       "    </tr>\n",
       "    <tr>\n",
       "      <th>44</th>\n",
       "      <td>3ZICQFRS4941U6RRLQVDQ7Z51BAZZZ</td>\n",
       "      <td>ATHD5EY9W9BK</td>\n",
       "      <td>388_nonpruned_3-chainsaw_2pruned.png</td>\n",
       "      <td>False</td>\n",
       "      <td>True</td>\n",
       "      <td>False</td>\n",
       "      <td>False</td>\n",
       "      <td>False</td>\n",
       "      <td>388</td>\n",
       "      <td>3-chainsaw</td>\n",
       "      <td>nonpruned</td>\n",
       "      <td>2pruned</td>\n",
       "      <td>nonpruned-smr</td>\n",
       "      <td>nonpruned</td>\n",
       "      <td>alg1-smr</td>\n",
       "    </tr>\n",
       "    <tr>\n",
       "      <th>60</th>\n",
       "      <td>3IZVJEBJ7I6Z6W7GJLY2T96AW7CZ67</td>\n",
       "      <td>AQB0TQPOGOFQE</td>\n",
       "      <td>21_2pruned_8-golfball_nonpruned.png</td>\n",
       "      <td>False</td>\n",
       "      <td>False</td>\n",
       "      <td>False</td>\n",
       "      <td>False</td>\n",
       "      <td>True</td>\n",
       "      <td>21</td>\n",
       "      <td>8-golfball</td>\n",
       "      <td>2pruned</td>\n",
       "      <td>nonpruned</td>\n",
       "      <td>equally-reasonable</td>\n",
       "      <td>equally</td>\n",
       "      <td>equally-reasonable</td>\n",
       "    </tr>\n",
       "    <tr>\n",
       "      <th>61</th>\n",
       "      <td>3IZVJEBJ7I6Z6W7GJLY2T96AW7CZ67</td>\n",
       "      <td>A3DS9DP2JE8I4Z</td>\n",
       "      <td>21_2pruned_8-golfball_nonpruned.png</td>\n",
       "      <td>False</td>\n",
       "      <td>False</td>\n",
       "      <td>False</td>\n",
       "      <td>False</td>\n",
       "      <td>True</td>\n",
       "      <td>21</td>\n",
       "      <td>8-golfball</td>\n",
       "      <td>2pruned</td>\n",
       "      <td>nonpruned</td>\n",
       "      <td>equally-reasonable</td>\n",
       "      <td>equally</td>\n",
       "      <td>equally-reasonable</td>\n",
       "    </tr>\n",
       "    <tr>\n",
       "      <th>62</th>\n",
       "      <td>3IZVJEBJ7I6Z6W7GJLY2T96AW7CZ67</td>\n",
       "      <td>A171VJ9J60DSJU</td>\n",
       "      <td>21_2pruned_8-golfball_nonpruned.png</td>\n",
       "      <td>False</td>\n",
       "      <td>False</td>\n",
       "      <td>False</td>\n",
       "      <td>False</td>\n",
       "      <td>True</td>\n",
       "      <td>21</td>\n",
       "      <td>8-golfball</td>\n",
       "      <td>2pruned</td>\n",
       "      <td>nonpruned</td>\n",
       "      <td>equally-reasonable</td>\n",
       "      <td>equally</td>\n",
       "      <td>equally-reasonable</td>\n",
       "    </tr>\n",
       "    <tr>\n",
       "      <th>63</th>\n",
       "      <td>3IZVJEBJ7I6Z6W7GJLY2T96AW7CZ67</td>\n",
       "      <td>A9E9L9MWEZOPN</td>\n",
       "      <td>21_2pruned_8-golfball_nonpruned.png</td>\n",
       "      <td>False</td>\n",
       "      <td>True</td>\n",
       "      <td>False</td>\n",
       "      <td>False</td>\n",
       "      <td>False</td>\n",
       "      <td>21</td>\n",
       "      <td>8-golfball</td>\n",
       "      <td>2pruned</td>\n",
       "      <td>nonpruned</td>\n",
       "      <td>2pruned-smr</td>\n",
       "      <td>2pruned</td>\n",
       "      <td>alg1-smr</td>\n",
       "    </tr>\n",
       "    <tr>\n",
       "      <th>64</th>\n",
       "      <td>3IZVJEBJ7I6Z6W7GJLY2T96AW7CZ67</td>\n",
       "      <td>A1MT1ZJR1CK533</td>\n",
       "      <td>21_2pruned_8-golfball_nonpruned.png</td>\n",
       "      <td>True</td>\n",
       "      <td>False</td>\n",
       "      <td>False</td>\n",
       "      <td>False</td>\n",
       "      <td>False</td>\n",
       "      <td>21</td>\n",
       "      <td>8-golfball</td>\n",
       "      <td>2pruned</td>\n",
       "      <td>nonpruned</td>\n",
       "      <td>2pruned-cmr</td>\n",
       "      <td>2pruned</td>\n",
       "      <td>alg1-cmr</td>\n",
       "    </tr>\n",
       "  </tbody>\n",
       "</table>\n",
       "</div>"
      ],
      "text/plain": [
       "                             HITId        WorkerId  \\\n",
       "40  3ZICQFRS4941U6RRLQVDQ7Z51BAZZZ  A21DHQV0B6WUT6   \n",
       "41  3ZICQFRS4941U6RRLQVDQ7Z51BAZZZ   ASY5AZCZEM04L   \n",
       "42  3ZICQFRS4941U6RRLQVDQ7Z51BAZZZ  A3DMT9RYTT0K0N   \n",
       "43  3ZICQFRS4941U6RRLQVDQ7Z51BAZZZ   AQ2BRBVLX3LW7   \n",
       "44  3ZICQFRS4941U6RRLQVDQ7Z51BAZZZ    ATHD5EY9W9BK   \n",
       "60  3IZVJEBJ7I6Z6W7GJLY2T96AW7CZ67   AQB0TQPOGOFQE   \n",
       "61  3IZVJEBJ7I6Z6W7GJLY2T96AW7CZ67  A3DS9DP2JE8I4Z   \n",
       "62  3IZVJEBJ7I6Z6W7GJLY2T96AW7CZ67  A171VJ9J60DSJU   \n",
       "63  3IZVJEBJ7I6Z6W7GJLY2T96AW7CZ67   A9E9L9MWEZOPN   \n",
       "64  3IZVJEBJ7I6Z6W7GJLY2T96AW7CZ67  A1MT1ZJR1CK533   \n",
       "\n",
       "                         Input.image_url  Answer.algorithms.alg1-cmr  \\\n",
       "40  388_nonpruned_3-chainsaw_2pruned.png                       False   \n",
       "41  388_nonpruned_3-chainsaw_2pruned.png                        True   \n",
       "42  388_nonpruned_3-chainsaw_2pruned.png                       False   \n",
       "43  388_nonpruned_3-chainsaw_2pruned.png                       False   \n",
       "44  388_nonpruned_3-chainsaw_2pruned.png                       False   \n",
       "60   21_2pruned_8-golfball_nonpruned.png                       False   \n",
       "61   21_2pruned_8-golfball_nonpruned.png                       False   \n",
       "62   21_2pruned_8-golfball_nonpruned.png                       False   \n",
       "63   21_2pruned_8-golfball_nonpruned.png                       False   \n",
       "64   21_2pruned_8-golfball_nonpruned.png                        True   \n",
       "\n",
       "    Answer.algorithms.alg1-smr  Answer.algorithms.alg2-cmr  \\\n",
       "40                       False                       False   \n",
       "41                       False                       False   \n",
       "42                       False                       False   \n",
       "43                       False                        True   \n",
       "44                        True                       False   \n",
       "60                       False                       False   \n",
       "61                       False                       False   \n",
       "62                       False                       False   \n",
       "63                        True                       False   \n",
       "64                       False                       False   \n",
       "\n",
       "    Answer.algorithms.alg2-smr  Answer.algorithms.equally img_id   img_class  \\\n",
       "40                       False                       True    388  3-chainsaw   \n",
       "41                       False                      False    388  3-chainsaw   \n",
       "42                        True                      False    388  3-chainsaw   \n",
       "43                       False                      False    388  3-chainsaw   \n",
       "44                       False                      False    388  3-chainsaw   \n",
       "60                       False                       True     21  8-golfball   \n",
       "61                       False                       True     21  8-golfball   \n",
       "62                       False                       True     21  8-golfball   \n",
       "63                       False                      False     21  8-golfball   \n",
       "64                       False                      False     21  8-golfball   \n",
       "\n",
       "         alg1       alg2              result algorithm_result  \\\n",
       "40  nonpruned    2pruned  equally-reasonable          equally   \n",
       "41  nonpruned    2pruned       nonpruned-cmr        nonpruned   \n",
       "42  nonpruned    2pruned         2pruned-smr          2pruned   \n",
       "43  nonpruned    2pruned         2pruned-cmr          2pruned   \n",
       "44  nonpruned    2pruned       nonpruned-smr        nonpruned   \n",
       "60    2pruned  nonpruned  equally-reasonable          equally   \n",
       "61    2pruned  nonpruned  equally-reasonable          equally   \n",
       "62    2pruned  nonpruned  equally-reasonable          equally   \n",
       "63    2pruned  nonpruned         2pruned-smr          2pruned   \n",
       "64    2pruned  nonpruned         2pruned-cmr          2pruned   \n",
       "\n",
       "     annotation_result  \n",
       "40  equally-reasonable  \n",
       "41            alg1-cmr  \n",
       "42            alg2-smr  \n",
       "43            alg2-cmr  \n",
       "44            alg1-smr  \n",
       "60  equally-reasonable  \n",
       "61  equally-reasonable  \n",
       "62  equally-reasonable  \n",
       "63            alg1-smr  \n",
       "64            alg1-cmr  "
      ]
     },
     "execution_count": 106,
     "metadata": {},
     "output_type": "execute_result"
    }
   ],
   "source": [
    "hm_results_np_2.head(10)"
   ]
  },
  {
   "cell_type": "code",
   "execution_count": 107,
   "id": "4882922b-517f-472b-9339-d780fa629c7c",
   "metadata": {},
   "outputs": [
    {
     "data": {
      "text/plain": [
       "(False    0.5684\n",
       " True     0.4316\n",
       " Name: Answer.algorithms.equally, dtype: float64,\n",
       " False    1421\n",
       " True     1079\n",
       " Name: Answer.algorithms.equally, dtype: int64)"
      ]
     },
     "execution_count": 107,
     "metadata": {},
     "output_type": "execute_result"
    }
   ],
   "source": [
    "# 'Both algorithms equally reasonable'\n",
    "hm_results_np_2['Answer.algorithms.equally'].value_counts(normalize=True), hm_results_np_2['Answer.algorithms.equally'].value_counts()"
   ]
  },
  {
   "cell_type": "code",
   "execution_count": 108,
   "id": "dd7f2546-3669-4ae9-a36a-b2ef96f53312",
   "metadata": {},
   "outputs": [
    {
     "data": {
      "text/plain": [
       "8-golfball          0.548\n",
       "5-frenchhorn        0.548\n",
       "0-fish              0.488\n",
       "7-gaspump           0.460\n",
       "3-chainsaw          0.428\n",
       "9-parachute         0.428\n",
       "6-garbagetruck      0.424\n",
       "1-dog               0.396\n",
       "2-cassetteplayer    0.364\n",
       "4-church            0.232\n",
       "Name: img_class, dtype: float64"
      ]
     },
     "execution_count": 108,
     "metadata": {},
     "output_type": "execute_result"
    }
   ],
   "source": [
    "# 'Both equally' grouped by Class\n",
    "hm_results_np_2.loc[hm_results_np_2['Answer.algorithms.equally'] == True]['img_class'].value_counts() / 250"
   ]
  },
  {
   "cell_type": "code",
   "execution_count": 109,
   "id": "e3719c7f-bece-4c69-acbc-944125f9757b",
   "metadata": {},
   "outputs": [
    {
     "data": {
      "text/plain": [
       "(equally-reasonable    1079\n",
       " 2pruned-smr            435\n",
       " nonpruned-smr          433\n",
       " 2pruned-cmr            284\n",
       " nonpruned-cmr          269\n",
       " Name: result, dtype: int64,\n",
       " equally-reasonable    0.4316\n",
       " 2pruned-smr           0.1740\n",
       " nonpruned-smr         0.1732\n",
       " 2pruned-cmr           0.1136\n",
       " nonpruned-cmr         0.1076\n",
       " Name: result, dtype: float64)"
      ]
     },
     "execution_count": 109,
     "metadata": {},
     "output_type": "execute_result"
    }
   ],
   "source": [
    "# How do reasonabilities differ?\n",
    "hm_results_np_2['result'].value_counts(), hm_results_np_2['result'].value_counts(normalize=True)"
   ]
  },
  {
   "cell_type": "code",
   "execution_count": 112,
   "id": "f35bc246-a82b-47d0-944d-1206d732f225",
   "metadata": {},
   "outputs": [
    {
     "data": {
      "text/plain": [
       "(equally      1079\n",
       " 2pruned       719\n",
       " nonpruned     702\n",
       " Name: algorithm_result, dtype: int64,\n",
       " equally      0.4316\n",
       " 2pruned      0.2876\n",
       " nonpruned    0.2808\n",
       " Name: algorithm_result, dtype: float64)"
      ]
     },
     "execution_count": 112,
     "metadata": {},
     "output_type": "execute_result"
    }
   ],
   "source": [
    "# Which algorithm is more reasonable?\n",
    "hm_results_np_2['algorithm_result'].value_counts(), hm_results_np_2['algorithm_result'].value_counts(normalize=True)"
   ]
  },
  {
   "cell_type": "code",
   "execution_count": 158,
   "id": "f33a5ac5-9240-4cbd-92f2-e0740450b0b3",
   "metadata": {},
   "outputs": [
    {
     "data": {
      "text/plain": [
       "2pruned      0.505982\n",
       "nonpruned    0.494018\n",
       "Name: algorithm_result, dtype: float64"
      ]
     },
     "execution_count": 158,
     "metadata": {},
     "output_type": "execute_result"
    }
   ],
   "source": [
    "hm_results_np_2.loc[hm_results_np_2['algorithm_result'] != 'equally']['algorithm_result'].value_counts(normalize=True)"
   ]
  },
  {
   "cell_type": "code",
   "execution_count": null,
   "id": "13e7231b-93cd-4325-ab96-7c6304923fe1",
   "metadata": {},
   "outputs": [],
   "source": [
    "# What do we test / how?\n",
    "chisquare([818, 715], [766.5, 766.5])"
   ]
  },
  {
   "cell_type": "code",
   "execution_count": 141,
   "id": "2feb6670-6823-4e90-bd05-c6b562e762df",
   "metadata": {},
   "outputs": [
    {
     "data": {
      "text/plain": [
       "4-church            108\n",
       "9-parachute          79\n",
       "7-gaspump            75\n",
       "2-cassetteplayer     73\n",
       "3-chainsaw           73\n",
       "6-garbagetruck       71\n",
       "1-dog                67\n",
       "8-golfball           63\n",
       "0-fish               59\n",
       "5-frenchhorn         51\n",
       "Name: img_class, dtype: int64"
      ]
     },
     "execution_count": 141,
     "metadata": {},
     "output_type": "execute_result"
    }
   ],
   "source": [
    "#2pruned more reasonable per class\n",
    "hm_results_np_2.loc[(hm_results_np_2['algorithm_result'] == '2pruned')]['img_class'].value_counts(sort=True)"
   ]
  },
  {
   "cell_type": "code",
   "execution_count": 142,
   "id": "f5346b53-42b6-4cbe-892d-e0bb09d46d68",
   "metadata": {},
   "outputs": [
    {
     "data": {
      "text/plain": [
       "2-cassetteplayer    86\n",
       "4-church            84\n",
       "1-dog               84\n",
       "6-garbagetruck      73\n",
       "3-chainsaw          70\n",
       "0-fish              69\n",
       "9-parachute         64\n",
       "5-frenchhorn        62\n",
       "7-gaspump           60\n",
       "8-golfball          50\n",
       "Name: img_class, dtype: int64"
      ]
     },
     "execution_count": 142,
     "metadata": {},
     "output_type": "execute_result"
    }
   ],
   "source": [
    "#non-pruned more reasonable per class\n",
    "hm_results_np_2.loc[(hm_results_np_2['algorithm_result'] == 'nonpruned')]['img_class'].value_counts(sort=True)"
   ]
  },
  {
   "cell_type": "code",
   "execution_count": null,
   "id": "e15612cc-36b8-4765-803b-e7e201d7be8d",
   "metadata": {},
   "outputs": [],
   "source": []
  },
  {
   "cell_type": "code",
   "execution_count": null,
   "id": "d679200d-b98b-4349-ad65-8c8eda48df13",
   "metadata": {},
   "outputs": [],
   "source": []
  },
  {
   "cell_type": "markdown",
   "id": "31d86fda-7930-4f63-a3e5-f85187b16114",
   "metadata": {
    "tags": []
   },
   "source": [
    "### nonpruned VS 4pruned"
   ]
  },
  {
   "cell_type": "code",
   "execution_count": 113,
   "id": "245f3720-0e8a-48b8-9934-861201cb106c",
   "metadata": {},
   "outputs": [
    {
     "data": {
      "text/plain": [
       "2500"
      ]
     },
     "execution_count": 113,
     "metadata": {},
     "output_type": "execute_result"
    }
   ],
   "source": [
    "hm_results_np_4 = hm_results.loc[((hm_results['alg1'] == '4pruned') & (hm_results['alg2'] == 'nonpruned')) |\n",
    "                                ((hm_results['alg2'] == '4pruned') & (hm_results['alg1'] == 'nonpruned'))]\n",
    "len(hm_results_np_4)"
   ]
  },
  {
   "cell_type": "code",
   "execution_count": 114,
   "id": "ccee388d-5674-4af3-b3fc-373387aed7ac",
   "metadata": {},
   "outputs": [
    {
     "data": {
      "text/plain": [
       "(False    0.7264\n",
       " True     0.2736\n",
       " Name: Answer.algorithms.equally, dtype: float64,\n",
       " False    1816\n",
       " True      684\n",
       " Name: Answer.algorithms.equally, dtype: int64)"
      ]
     },
     "execution_count": 114,
     "metadata": {},
     "output_type": "execute_result"
    }
   ],
   "source": [
    "# 'Both algorithms equally reasonable'\n",
    "hm_results_np_4['Answer.algorithms.equally'].value_counts(normalize=True), hm_results_np_4['Answer.algorithms.equally'].value_counts()"
   ]
  },
  {
   "cell_type": "code",
   "execution_count": 115,
   "id": "6a85bf3e-2510-4b52-bb7f-b6fa9e600b1b",
   "metadata": {},
   "outputs": [
    {
     "data": {
      "text/plain": [
       "0-fish              0.388\n",
       "5-frenchhorn        0.340\n",
       "7-gaspump           0.332\n",
       "3-chainsaw          0.328\n",
       "8-golfball          0.264\n",
       "6-garbagetruck      0.264\n",
       "1-dog               0.240\n",
       "9-parachute         0.216\n",
       "2-cassetteplayer    0.200\n",
       "4-church            0.164\n",
       "Name: img_class, dtype: float64"
      ]
     },
     "execution_count": 115,
     "metadata": {},
     "output_type": "execute_result"
    }
   ],
   "source": [
    "# 'Both equally' grouped by Class\n",
    "hm_results_np_4.loc[hm_results_np_4['Answer.algorithms.equally'] == True]['img_class'].value_counts() / 250"
   ]
  },
  {
   "cell_type": "code",
   "execution_count": 116,
   "id": "18d41167-ea41-4a55-ace1-189d0bc70d85",
   "metadata": {},
   "outputs": [
    {
     "data": {
      "text/plain": [
       "(equally-reasonable    684\n",
       " 4pruned-smr           527\n",
       " nonpruned-smr         521\n",
       " 4pruned-cmr           389\n",
       " nonpruned-cmr         379\n",
       " Name: result, dtype: int64,\n",
       " equally-reasonable    0.2736\n",
       " 4pruned-smr           0.2108\n",
       " nonpruned-smr         0.2084\n",
       " 4pruned-cmr           0.1556\n",
       " nonpruned-cmr         0.1516\n",
       " Name: result, dtype: float64)"
      ]
     },
     "execution_count": 116,
     "metadata": {},
     "output_type": "execute_result"
    }
   ],
   "source": [
    "# How do reasonabilities differ?\n",
    "hm_results_np_4['result'].value_counts(), hm_results_np_4['result'].value_counts(normalize=True)"
   ]
  },
  {
   "cell_type": "code",
   "execution_count": 117,
   "id": "9c029d99-3c1d-4522-adb7-af74fb0bc8dc",
   "metadata": {},
   "outputs": [
    {
     "data": {
      "text/plain": [
       "(4pruned      916\n",
       " nonpruned    900\n",
       " equally      684\n",
       " Name: algorithm_result, dtype: int64,\n",
       " 4pruned      0.3664\n",
       " nonpruned    0.3600\n",
       " equally      0.2736\n",
       " Name: algorithm_result, dtype: float64)"
      ]
     },
     "execution_count": 117,
     "metadata": {},
     "output_type": "execute_result"
    }
   ],
   "source": [
    "# Which algorithm is more reasonable?\n",
    "hm_results_np_4['algorithm_result'].value_counts(), hm_results_np_4['algorithm_result'].value_counts(normalize=True)"
   ]
  },
  {
   "cell_type": "code",
   "execution_count": 162,
   "id": "ddd661e0-f04e-47ec-92b2-829ea06beb32",
   "metadata": {},
   "outputs": [
    {
     "data": {
      "text/plain": [
       "4pruned      0.504405\n",
       "nonpruned    0.495595\n",
       "Name: algorithm_result, dtype: float64"
      ]
     },
     "execution_count": 162,
     "metadata": {},
     "output_type": "execute_result"
    }
   ],
   "source": [
    "hm_results_np_4.loc[hm_results_np_4['algorithm_result'] != 'equally']['algorithm_result'].value_counts(normalize=True)"
   ]
  },
  {
   "cell_type": "code",
   "execution_count": null,
   "id": "67a1e113-d6b1-41b8-b7ec-df7cf96054da",
   "metadata": {},
   "outputs": [],
   "source": [
    "# What do we test / how?\n",
    "chisquare([818, 715], [766.5, 766.5])"
   ]
  },
  {
   "cell_type": "code",
   "execution_count": 154,
   "id": "4e10853f-66c9-4c68-b39d-cd060b32c03a",
   "metadata": {},
   "outputs": [
    {
     "data": {
      "text/plain": [
       "2-cassetteplayer    114\n",
       "1-dog               111\n",
       "9-parachute         101\n",
       "6-garbagetruck       98\n",
       "7-gaspump            95\n",
       "4-church             95\n",
       "3-chainsaw           86\n",
       "8-golfball           82\n",
       "5-frenchhorn         73\n",
       "0-fish               61\n",
       "Name: img_class, dtype: int64"
      ]
     },
     "execution_count": 154,
     "metadata": {},
     "output_type": "execute_result"
    }
   ],
   "source": [
    "#4pruned more reasonable per class\n",
    "hm_results_np_4.loc[(hm_results_np_4['algorithm_result'] == '4pruned')]['img_class'].value_counts(sort=True)"
   ]
  },
  {
   "cell_type": "code",
   "execution_count": 155,
   "id": "1d349588-9061-402b-bec9-3f6fd92a97c0",
   "metadata": {},
   "outputs": [
    {
     "data": {
      "text/plain": [
       "4-church            114\n",
       "8-golfball          102\n",
       "9-parachute          95\n",
       "0-fish               92\n",
       "5-frenchhorn         92\n",
       "2-cassetteplayer     86\n",
       "6-garbagetruck       86\n",
       "3-chainsaw           82\n",
       "1-dog                79\n",
       "7-gaspump            72\n",
       "Name: img_class, dtype: int64"
      ]
     },
     "execution_count": 155,
     "metadata": {},
     "output_type": "execute_result"
    }
   ],
   "source": [
    "#nonpruned more reasonable per class\n",
    "hm_results_np_4.loc[(hm_results_np_4['algorithm_result'] == 'nonpruned')]['img_class'].value_counts(sort=True)"
   ]
  },
  {
   "cell_type": "code",
   "execution_count": null,
   "id": "c2f4f689-c981-4ba3-af4b-94f70a58f65b",
   "metadata": {},
   "outputs": [],
   "source": []
  },
  {
   "cell_type": "code",
   "execution_count": null,
   "id": "b2af8633-0795-43d9-8305-deeaf8b351e9",
   "metadata": {},
   "outputs": [],
   "source": []
  },
  {
   "cell_type": "markdown",
   "id": "1b9602a0-68c5-4e49-964f-522e8681024b",
   "metadata": {
    "tags": []
   },
   "source": [
    "### nonpruned VS 8pruned"
   ]
  },
  {
   "cell_type": "code",
   "execution_count": 118,
   "id": "e5142329-6fbb-4753-a868-98e9860b6abe",
   "metadata": {},
   "outputs": [
    {
     "data": {
      "text/plain": [
       "2500"
      ]
     },
     "execution_count": 118,
     "metadata": {},
     "output_type": "execute_result"
    }
   ],
   "source": [
    "hm_results_np_8 = hm_results.loc[((hm_results['alg1'] == '8pruned') & (hm_results['alg2'] == 'nonpruned')) |\n",
    "                                ((hm_results['alg2'] == '8pruned') & (hm_results['alg1'] == 'nonpruned'))]\n",
    "len(hm_results_np_8)"
   ]
  },
  {
   "cell_type": "code",
   "execution_count": 119,
   "id": "3f3140ca-1b49-4ab6-860b-b1f57bb986f4",
   "metadata": {},
   "outputs": [
    {
     "data": {
      "text/plain": [
       "(False    0.79\n",
       " True     0.21\n",
       " Name: Answer.algorithms.equally, dtype: float64,\n",
       " False    1975\n",
       " True      525\n",
       " Name: Answer.algorithms.equally, dtype: int64)"
      ]
     },
     "execution_count": 119,
     "metadata": {},
     "output_type": "execute_result"
    }
   ],
   "source": [
    "# 'Both algorithms equally reasonable'\n",
    "hm_results_np_8['Answer.algorithms.equally'].value_counts(normalize=True), hm_results_np_8['Answer.algorithms.equally'].value_counts()"
   ]
  },
  {
   "cell_type": "code",
   "execution_count": 120,
   "id": "12448157-73c3-45e4-89a9-39afcd0f04c0",
   "metadata": {},
   "outputs": [
    {
     "data": {
      "text/plain": [
       "5-frenchhorn        0.356\n",
       "6-garbagetruck      0.252\n",
       "0-fish              0.244\n",
       "7-gaspump           0.232\n",
       "3-chainsaw          0.208\n",
       "8-golfball          0.200\n",
       "2-cassetteplayer    0.156\n",
       "9-parachute         0.156\n",
       "1-dog               0.156\n",
       "4-church            0.140\n",
       "Name: img_class, dtype: float64"
      ]
     },
     "execution_count": 120,
     "metadata": {},
     "output_type": "execute_result"
    }
   ],
   "source": [
    "# 'Both equally' grouped by Class\n",
    "hm_results_np_8.loc[hm_results_np_8['Answer.algorithms.equally'] == True]['img_class'].value_counts() / 250"
   ]
  },
  {
   "cell_type": "code",
   "execution_count": 121,
   "id": "99d35257-e86d-4970-bc60-d7ad0331cdbf",
   "metadata": {},
   "outputs": [
    {
     "data": {
      "text/plain": [
       "(8pruned-smr           581\n",
       " nonpruned-smr         575\n",
       " equally-reasonable    525\n",
       " 8pruned-cmr           425\n",
       " nonpruned-cmr         394\n",
       " Name: result, dtype: int64,\n",
       " 8pruned-smr           0.2324\n",
       " nonpruned-smr         0.2300\n",
       " equally-reasonable    0.2100\n",
       " 8pruned-cmr           0.1700\n",
       " nonpruned-cmr         0.1576\n",
       " Name: result, dtype: float64)"
      ]
     },
     "execution_count": 121,
     "metadata": {},
     "output_type": "execute_result"
    }
   ],
   "source": [
    "# How do reasonabilities differ?\n",
    "hm_results_np_8['result'].value_counts(), hm_results_np_8['result'].value_counts(normalize=True)"
   ]
  },
  {
   "cell_type": "code",
   "execution_count": 122,
   "id": "bfeb33ec-97f7-40ad-9e45-007829f1ddc4",
   "metadata": {},
   "outputs": [
    {
     "data": {
      "text/plain": [
       "(8pruned      1006\n",
       " nonpruned     969\n",
       " equally       525\n",
       " Name: algorithm_result, dtype: int64,\n",
       " 8pruned      0.4024\n",
       " nonpruned    0.3876\n",
       " equally      0.2100\n",
       " Name: algorithm_result, dtype: float64)"
      ]
     },
     "execution_count": 122,
     "metadata": {},
     "output_type": "execute_result"
    }
   ],
   "source": [
    "# Which algorithm is more reasonable?\n",
    "hm_results_np_8['algorithm_result'].value_counts(), hm_results_np_8['algorithm_result'].value_counts(normalize=True)"
   ]
  },
  {
   "cell_type": "code",
   "execution_count": 163,
   "id": "b216c069-64ad-452b-97a3-b744e69ffc98",
   "metadata": {},
   "outputs": [
    {
     "data": {
      "text/plain": [
       "8pruned      0.509367\n",
       "nonpruned    0.490633\n",
       "Name: algorithm_result, dtype: float64"
      ]
     },
     "execution_count": 163,
     "metadata": {},
     "output_type": "execute_result"
    }
   ],
   "source": [
    "hm_results_np_8.loc[hm_results_np_8['algorithm_result'] != 'equally']['algorithm_result'].value_counts(normalize=True)"
   ]
  },
  {
   "cell_type": "code",
   "execution_count": 123,
   "id": "04e007c2-c401-47f1-9be6-d45611854f49",
   "metadata": {},
   "outputs": [
    {
     "data": {
      "text/plain": [
       "Power_divergenceResult(statistic=339.95471318349547, pvalue=6.527295377513491e-76)"
      ]
     },
     "execution_count": 123,
     "metadata": {},
     "output_type": "execute_result"
    }
   ],
   "source": [
    "# What do we test / how?\n",
    "chisquare([1006, 969], [1490.5, 1490.5])"
   ]
  },
  {
   "cell_type": "code",
   "execution_count": 152,
   "id": "21c103b9-ca03-48d2-bcad-6c9b1b3537ba",
   "metadata": {},
   "outputs": [
    {
     "data": {
      "text/plain": [
       "4-church            118\n",
       "9-parachute         116\n",
       "1-dog               116\n",
       "2-cassetteplayer    112\n",
       "6-garbagetruck      104\n",
       "3-chainsaw          100\n",
       "8-golfball           89\n",
       "0-fish               89\n",
       "7-gaspump            88\n",
       "5-frenchhorn         74\n",
       "Name: img_class, dtype: int64"
      ]
     },
     "execution_count": 152,
     "metadata": {},
     "output_type": "execute_result"
    }
   ],
   "source": [
    "#8pruned more reasonable per class\n",
    "hm_results_np_8.loc[(hm_results_np_8['algorithm_result'] == '8pruned')]['img_class'].value_counts(sort=True)"
   ]
  },
  {
   "cell_type": "code",
   "execution_count": 153,
   "id": "26475db8-aca9-45fa-8233-6209cd83d55d",
   "metadata": {},
   "outputs": [
    {
     "data": {
      "text/plain": [
       "8-golfball          111\n",
       "7-gaspump           104\n",
       "0-fish              100\n",
       "2-cassetteplayer     99\n",
       "3-chainsaw           98\n",
       "4-church             97\n",
       "9-parachute          95\n",
       "1-dog                95\n",
       "5-frenchhorn         87\n",
       "6-garbagetruck       83\n",
       "Name: img_class, dtype: int64"
      ]
     },
     "execution_count": 153,
     "metadata": {},
     "output_type": "execute_result"
    }
   ],
   "source": [
    "#nonpruned more reasonable per class\n",
    "hm_results_np_8.loc[(hm_results_np_8['algorithm_result'] == 'nonpruned')]['img_class'].value_counts(sort=True)"
   ]
  },
  {
   "cell_type": "code",
   "execution_count": null,
   "id": "2f362fb9-9488-4340-b14d-42dcd880a52b",
   "metadata": {},
   "outputs": [],
   "source": []
  },
  {
   "cell_type": "code",
   "execution_count": null,
   "id": "109d8ab8-0d56-4d9e-95d0-b6c89754ee22",
   "metadata": {},
   "outputs": [],
   "source": []
  },
  {
   "cell_type": "markdown",
   "id": "1971542b-5d81-4d40-a590-e839ae43f39f",
   "metadata": {
    "tags": []
   },
   "source": [
    "### 2pruned VS 4pruned"
   ]
  },
  {
   "cell_type": "code",
   "execution_count": 124,
   "id": "063c2daa-308b-44c1-9565-5673a15b8100",
   "metadata": {},
   "outputs": [
    {
     "data": {
      "text/plain": [
       "2500"
      ]
     },
     "execution_count": 124,
     "metadata": {},
     "output_type": "execute_result"
    }
   ],
   "source": [
    "hm_results_2_4 = hm_results.loc[((hm_results['alg1'] == '2pruned') & (hm_results['alg2'] == '4pruned')) |\n",
    "                                ((hm_results['alg2'] == '2pruned') & (hm_results['alg1'] == '4pruned'))]\n",
    "len(hm_results_2_4)"
   ]
  },
  {
   "cell_type": "code",
   "execution_count": 125,
   "id": "39f71c9e-bf8c-4f88-b60a-5f34090d4c18",
   "metadata": {},
   "outputs": [
    {
     "data": {
      "text/plain": [
       "(False    0.6952\n",
       " True     0.3048\n",
       " Name: Answer.algorithms.equally, dtype: float64,\n",
       " False    1738\n",
       " True      762\n",
       " Name: Answer.algorithms.equally, dtype: int64)"
      ]
     },
     "execution_count": 125,
     "metadata": {},
     "output_type": "execute_result"
    }
   ],
   "source": [
    "# 'Both algorithms equally reasonable'\n",
    "hm_results_2_4['Answer.algorithms.equally'].value_counts(normalize=True), hm_results_2_4['Answer.algorithms.equally'].value_counts()"
   ]
  },
  {
   "cell_type": "code",
   "execution_count": 126,
   "id": "ac9f93dc-40a9-41d2-b277-fedcba8c229a",
   "metadata": {},
   "outputs": [
    {
     "data": {
      "text/plain": [
       "7-gaspump           0.392\n",
       "5-frenchhorn        0.380\n",
       "3-chainsaw          0.380\n",
       "0-fish              0.360\n",
       "1-dog               0.312\n",
       "4-church            0.272\n",
       "6-garbagetruck      0.256\n",
       "2-cassetteplayer    0.240\n",
       "8-golfball          0.228\n",
       "9-parachute         0.228\n",
       "Name: img_class, dtype: float64"
      ]
     },
     "execution_count": 126,
     "metadata": {},
     "output_type": "execute_result"
    }
   ],
   "source": [
    "# 'Both equally' grouped by Class\n",
    "hm_results_2_4.loc[hm_results_2_4['Answer.algorithms.equally'] == True]['img_class'].value_counts() / 250"
   ]
  },
  {
   "cell_type": "code",
   "execution_count": 127,
   "id": "ab3c15cd-7c6f-4217-a9a0-04b08112c0be",
   "metadata": {},
   "outputs": [
    {
     "data": {
      "text/plain": [
       "(equally-reasonable    762\n",
       " 2pruned-smr           536\n",
       " 4pruned-smr           517\n",
       " 4pruned-cmr           345\n",
       " 2pruned-cmr           340\n",
       " Name: result, dtype: int64,\n",
       " equally-reasonable    0.3048\n",
       " 2pruned-smr           0.2144\n",
       " 4pruned-smr           0.2068\n",
       " 4pruned-cmr           0.1380\n",
       " 2pruned-cmr           0.1360\n",
       " Name: result, dtype: float64)"
      ]
     },
     "execution_count": 127,
     "metadata": {},
     "output_type": "execute_result"
    }
   ],
   "source": [
    "# How do reasonabilities differ?\n",
    "hm_results_2_4['result'].value_counts(), hm_results_2_4['result'].value_counts(normalize=True)"
   ]
  },
  {
   "cell_type": "code",
   "execution_count": 128,
   "id": "dae633d0-a330-423a-9a1c-ef4067585908",
   "metadata": {},
   "outputs": [
    {
     "data": {
      "text/plain": [
       "(2pruned    876\n",
       " 4pruned    862\n",
       " equally    762\n",
       " Name: algorithm_result, dtype: int64,\n",
       " 2pruned    0.3504\n",
       " 4pruned    0.3448\n",
       " equally    0.3048\n",
       " Name: algorithm_result, dtype: float64)"
      ]
     },
     "execution_count": 128,
     "metadata": {},
     "output_type": "execute_result"
    }
   ],
   "source": [
    "# Which algorithm is more reasonable?\n",
    "hm_results_2_4['algorithm_result'].value_counts(), hm_results_2_4['algorithm_result'].value_counts(normalize=True)"
   ]
  },
  {
   "cell_type": "code",
   "execution_count": 164,
   "id": "caad431a-730a-46bb-809f-662e45b96087",
   "metadata": {},
   "outputs": [
    {
     "data": {
      "text/plain": [
       "2pruned    0.504028\n",
       "4pruned    0.495972\n",
       "Name: algorithm_result, dtype: float64"
      ]
     },
     "execution_count": 164,
     "metadata": {},
     "output_type": "execute_result"
    }
   ],
   "source": [
    "hm_results_2_4.loc[hm_results_2_4['algorithm_result'] != 'equally']['algorithm_result'].value_counts(normalize=True)"
   ]
  },
  {
   "cell_type": "code",
   "execution_count": null,
   "id": "ae9c11f0-d1bf-4de7-9700-e4d65ca6f8b7",
   "metadata": {},
   "outputs": [],
   "source": [
    "# What do we test / how?\n",
    "chisquare([818, 715], [766.5, 766.5])"
   ]
  },
  {
   "cell_type": "code",
   "execution_count": 149,
   "id": "6e4a3857-5571-4c9c-a27d-19af377d8896",
   "metadata": {},
   "outputs": [
    {
     "data": {
      "text/plain": [
       "8-golfball          121\n",
       "9-parachute          97\n",
       "4-church             94\n",
       "6-garbagetruck       87\n",
       "2-cassetteplayer     85\n",
       "5-frenchhorn         81\n",
       "1-dog                81\n",
       "0-fish               80\n",
       "3-chainsaw           76\n",
       "7-gaspump            74\n",
       "Name: img_class, dtype: int64"
      ]
     },
     "execution_count": 149,
     "metadata": {},
     "output_type": "execute_result"
    }
   ],
   "source": [
    "#2pruned more reasonable per class\n",
    "hm_results_2_4.loc[(hm_results_2_4['algorithm_result'] == '2pruned')]['img_class'].value_counts(sort=True)"
   ]
  },
  {
   "cell_type": "code",
   "execution_count": 147,
   "id": "2fe97307-a9fb-4266-94f8-b7114651e224",
   "metadata": {},
   "outputs": [
    {
     "data": {
      "text/plain": [
       "2-cassetteplayer    105\n",
       "6-garbagetruck       99\n",
       "9-parachute          96\n",
       "1-dog                91\n",
       "4-church             88\n",
       "0-fish               80\n",
       "3-chainsaw           79\n",
       "7-gaspump            78\n",
       "5-frenchhorn         74\n",
       "8-golfball           72\n",
       "Name: img_class, dtype: int64"
      ]
     },
     "execution_count": 147,
     "metadata": {},
     "output_type": "execute_result"
    }
   ],
   "source": [
    "#4pruned more reasonable per class\n",
    "hm_results_2_4.loc[(hm_results_2_4['algorithm_result'] == '4pruned')]['img_class'].value_counts(sort=True)"
   ]
  },
  {
   "cell_type": "code",
   "execution_count": null,
   "id": "fbfb0895-8a33-4f8e-a77f-7d1c47c0ac28",
   "metadata": {},
   "outputs": [],
   "source": []
  },
  {
   "cell_type": "code",
   "execution_count": null,
   "id": "185c0fb7-9034-42a3-b6a5-2cd1dce10524",
   "metadata": {},
   "outputs": [],
   "source": []
  },
  {
   "cell_type": "markdown",
   "id": "b763a7a6-36c7-4416-b576-fc41a4fa20b6",
   "metadata": {
    "tags": []
   },
   "source": [
    "### 2pruned VS 8pruned"
   ]
  },
  {
   "cell_type": "code",
   "execution_count": 129,
   "id": "aeb2c746-321e-496e-ab8b-fb778ca22b20",
   "metadata": {},
   "outputs": [
    {
     "data": {
      "text/plain": [
       "2500"
      ]
     },
     "execution_count": 129,
     "metadata": {},
     "output_type": "execute_result"
    }
   ],
   "source": [
    "hm_results_2_8 = hm_results.loc[((hm_results['alg1'] == '2pruned') & (hm_results['alg2'] == '8pruned')) |\n",
    "                                ((hm_results['alg2'] == '2pruned') & (hm_results['alg1'] == '8pruned'))]\n",
    "len(hm_results_2_8)"
   ]
  },
  {
   "cell_type": "code",
   "execution_count": 130,
   "id": "c97dd150-2a83-419d-8213-dc4cca0169c4",
   "metadata": {},
   "outputs": [
    {
     "data": {
      "text/plain": [
       "(False    0.7724\n",
       " True     0.2276\n",
       " Name: Answer.algorithms.equally, dtype: float64,\n",
       " False    1931\n",
       " True      569\n",
       " Name: Answer.algorithms.equally, dtype: int64)"
      ]
     },
     "execution_count": 130,
     "metadata": {},
     "output_type": "execute_result"
    }
   ],
   "source": [
    "# 'Both algorithms equally reasonable'\n",
    "hm_results_2_8['Answer.algorithms.equally'].value_counts(normalize=True), hm_results_2_8['Answer.algorithms.equally'].value_counts()"
   ]
  },
  {
   "cell_type": "code",
   "execution_count": 131,
   "id": "401ce456-825c-4e80-900a-33708204a455",
   "metadata": {},
   "outputs": [
    {
     "data": {
      "text/plain": [
       "5-frenchhorn        0.348\n",
       "7-gaspump           0.292\n",
       "0-fish              0.264\n",
       "8-golfball          0.236\n",
       "1-dog               0.224\n",
       "3-chainsaw          0.196\n",
       "2-cassetteplayer    0.196\n",
       "9-parachute         0.188\n",
       "6-garbagetruck      0.172\n",
       "4-church            0.160\n",
       "Name: img_class, dtype: float64"
      ]
     },
     "execution_count": 131,
     "metadata": {},
     "output_type": "execute_result"
    }
   ],
   "source": [
    "# 'Both equally' grouped by Class\n",
    "hm_results_2_8.loc[hm_results_2_8['Answer.algorithms.equally'] == True]['img_class'].value_counts() / 250"
   ]
  },
  {
   "cell_type": "code",
   "execution_count": 132,
   "id": "36dc7942-9345-410a-a92c-e8e3a540963d",
   "metadata": {},
   "outputs": [
    {
     "data": {
      "text/plain": [
       "(2pruned-smr           572\n",
       " equally-reasonable    569\n",
       " 8pruned-smr           554\n",
       " 8pruned-cmr           404\n",
       " 2pruned-cmr           401\n",
       " Name: result, dtype: int64,\n",
       " 2pruned-smr           0.2288\n",
       " equally-reasonable    0.2276\n",
       " 8pruned-smr           0.2216\n",
       " 8pruned-cmr           0.1616\n",
       " 2pruned-cmr           0.1604\n",
       " Name: result, dtype: float64)"
      ]
     },
     "execution_count": 132,
     "metadata": {},
     "output_type": "execute_result"
    }
   ],
   "source": [
    "# How do reasonabilities differ?\n",
    "hm_results_2_8['result'].value_counts(), hm_results_2_8['result'].value_counts(normalize=True)"
   ]
  },
  {
   "cell_type": "code",
   "execution_count": 133,
   "id": "9b35d97e-c98f-45b5-9564-efc39f7fedca",
   "metadata": {},
   "outputs": [
    {
     "data": {
      "text/plain": [
       "(2pruned    973\n",
       " 8pruned    958\n",
       " equally    569\n",
       " Name: algorithm_result, dtype: int64,\n",
       " 2pruned    0.3892\n",
       " 8pruned    0.3832\n",
       " equally    0.2276\n",
       " Name: algorithm_result, dtype: float64)"
      ]
     },
     "execution_count": 133,
     "metadata": {},
     "output_type": "execute_result"
    }
   ],
   "source": [
    "# Which algorithm is more reasonable?\n",
    "hm_results_2_8['algorithm_result'].value_counts(), hm_results_2_8['algorithm_result'].value_counts(normalize=True)"
   ]
  },
  {
   "cell_type": "code",
   "execution_count": 165,
   "id": "29508cae-fff1-453f-94da-99071cda8216",
   "metadata": {},
   "outputs": [
    {
     "data": {
      "text/plain": [
       "2pruned    0.503884\n",
       "8pruned    0.496116\n",
       "Name: algorithm_result, dtype: float64"
      ]
     },
     "execution_count": 165,
     "metadata": {},
     "output_type": "execute_result"
    }
   ],
   "source": [
    "hm_results_2_8.loc[hm_results_2_8['algorithm_result'] != 'equally']['algorithm_result'].value_counts(normalize=True)"
   ]
  },
  {
   "cell_type": "code",
   "execution_count": null,
   "id": "a8591116-eec5-45dc-bf1d-a46d2431ded5",
   "metadata": {},
   "outputs": [],
   "source": [
    "# What do we test / how?\n",
    "chisquare([818, 715], [766.5, 766.5])"
   ]
  },
  {
   "cell_type": "code",
   "execution_count": 145,
   "id": "31540806-2f6f-48e2-8c32-bbf9557f6cab",
   "metadata": {},
   "outputs": [
    {
     "data": {
      "text/plain": [
       "8-golfball          121\n",
       "3-chainsaw          112\n",
       "4-church            103\n",
       "0-fish              102\n",
       "2-cassetteplayer    102\n",
       "6-garbagetruck      101\n",
       "1-dog                88\n",
       "5-frenchhorn         82\n",
       "9-parachute          82\n",
       "7-gaspump            80\n",
       "Name: img_class, dtype: int64"
      ]
     },
     "execution_count": 145,
     "metadata": {},
     "output_type": "execute_result"
    }
   ],
   "source": [
    "#2pruned more reasonable per class\n",
    "hm_results_2_8.loc[(hm_results_2_8['algorithm_result'] == '2pruned')]['img_class'].value_counts(sort=True)"
   ]
  },
  {
   "cell_type": "code",
   "execution_count": 146,
   "id": "8d085607-228a-4b58-908c-6bf15b59d605",
   "metadata": {},
   "outputs": [
    {
     "data": {
      "text/plain": [
       "9-parachute         121\n",
       "4-church            107\n",
       "6-garbagetruck      106\n",
       "1-dog               106\n",
       "2-cassetteplayer     99\n",
       "7-gaspump            97\n",
       "3-chainsaw           89\n",
       "0-fish               82\n",
       "5-frenchhorn         81\n",
       "8-golfball           70\n",
       "Name: img_class, dtype: int64"
      ]
     },
     "execution_count": 146,
     "metadata": {},
     "output_type": "execute_result"
    }
   ],
   "source": [
    "#8pruned more reasonable per class\n",
    "hm_results_2_8.loc[(hm_results_2_8['algorithm_result'] == '8pruned')]['img_class'].value_counts(sort=True)"
   ]
  },
  {
   "cell_type": "code",
   "execution_count": null,
   "id": "239c0f15-f0d7-4abe-96fa-45609deed6ea",
   "metadata": {},
   "outputs": [],
   "source": []
  },
  {
   "cell_type": "code",
   "execution_count": null,
   "id": "93d50f19-58a1-498a-bbab-c449f7c6fd24",
   "metadata": {},
   "outputs": [],
   "source": []
  },
  {
   "cell_type": "markdown",
   "id": "b251a0f0-e4fc-4530-b218-78fa2165c44f",
   "metadata": {
    "tags": []
   },
   "source": [
    "### 4pruned VS 8pruned"
   ]
  },
  {
   "cell_type": "code",
   "execution_count": 134,
   "id": "619f8755-8039-4388-829b-f74ebdd966ea",
   "metadata": {},
   "outputs": [
    {
     "data": {
      "text/plain": [
       "2500"
      ]
     },
     "execution_count": 134,
     "metadata": {},
     "output_type": "execute_result"
    }
   ],
   "source": [
    "hm_results_4_8 = hm_results.loc[((hm_results['alg1'] == '4pruned') & (hm_results['alg2'] == '8pruned')) |\n",
    "                                ((hm_results['alg2'] == '4pruned') & (hm_results['alg1'] == '8pruned'))]\n",
    "len(hm_results_4_8)"
   ]
  },
  {
   "cell_type": "code",
   "execution_count": 135,
   "id": "93e490d8-2fa5-4a6d-8dd9-fad3f746e09a",
   "metadata": {},
   "outputs": [
    {
     "data": {
      "text/plain": [
       "(False    0.7084\n",
       " True     0.2916\n",
       " Name: Answer.algorithms.equally, dtype: float64,\n",
       " False    1771\n",
       " True      729\n",
       " Name: Answer.algorithms.equally, dtype: int64)"
      ]
     },
     "execution_count": 135,
     "metadata": {},
     "output_type": "execute_result"
    }
   ],
   "source": [
    "# 'Both algorithms equally reasonable'\n",
    "hm_results_4_8['Answer.algorithms.equally'].value_counts(normalize=True), hm_results_4_8['Answer.algorithms.equally'].value_counts()"
   ]
  },
  {
   "cell_type": "code",
   "execution_count": 136,
   "id": "e6c4e468-d889-457c-b3e4-86f9bf5df8b4",
   "metadata": {},
   "outputs": [
    {
     "data": {
      "text/plain": [
       "5-frenchhorn        0.392\n",
       "6-garbagetruck      0.312\n",
       "1-dog               0.312\n",
       "0-fish              0.292\n",
       "3-chainsaw          0.288\n",
       "8-golfball          0.280\n",
       "7-gaspump           0.280\n",
       "2-cassetteplayer    0.272\n",
       "9-parachute         0.264\n",
       "4-church            0.224\n",
       "Name: img_class, dtype: float64"
      ]
     },
     "execution_count": 136,
     "metadata": {},
     "output_type": "execute_result"
    }
   ],
   "source": [
    "# 'Both equally' grouped by Class\n",
    "hm_results_4_8.loc[hm_results_4_8['Answer.algorithms.equally'] == True]['img_class'].value_counts() / 250"
   ]
  },
  {
   "cell_type": "code",
   "execution_count": 137,
   "id": "0600011e-3553-4934-a3a0-fb6606351be3",
   "metadata": {},
   "outputs": [
    {
     "data": {
      "text/plain": [
       "(equally-reasonable    729\n",
       " 8pruned-smr           546\n",
       " 4pruned-smr           522\n",
       " 8pruned-cmr           360\n",
       " 4pruned-cmr           343\n",
       " Name: result, dtype: int64,\n",
       " equally-reasonable    0.2916\n",
       " 8pruned-smr           0.2184\n",
       " 4pruned-smr           0.2088\n",
       " 8pruned-cmr           0.1440\n",
       " 4pruned-cmr           0.1372\n",
       " Name: result, dtype: float64)"
      ]
     },
     "execution_count": 137,
     "metadata": {},
     "output_type": "execute_result"
    }
   ],
   "source": [
    "# How do reasonabilities differ?\n",
    "hm_results_4_8['result'].value_counts(), hm_results_4_8['result'].value_counts(normalize=True)"
   ]
  },
  {
   "cell_type": "code",
   "execution_count": 138,
   "id": "860d355d-fda6-45b5-849d-82bb526088f9",
   "metadata": {},
   "outputs": [
    {
     "data": {
      "text/plain": [
       "(8pruned    906\n",
       " 4pruned    865\n",
       " equally    729\n",
       " Name: algorithm_result, dtype: int64,\n",
       " 8pruned    0.3624\n",
       " 4pruned    0.3460\n",
       " equally    0.2916\n",
       " Name: algorithm_result, dtype: float64)"
      ]
     },
     "execution_count": 138,
     "metadata": {},
     "output_type": "execute_result"
    }
   ],
   "source": [
    "# Which algorithm is more reasonable?\n",
    "hm_results_4_8['algorithm_result'].value_counts(), hm_results_4_8['algorithm_result'].value_counts(normalize=True)"
   ]
  },
  {
   "cell_type": "code",
   "execution_count": 166,
   "id": "0f4a63dc-9d65-481b-862a-ce065518c1d4",
   "metadata": {},
   "outputs": [
    {
     "data": {
      "text/plain": [
       "8pruned    0.511575\n",
       "4pruned    0.488425\n",
       "Name: algorithm_result, dtype: float64"
      ]
     },
     "execution_count": 166,
     "metadata": {},
     "output_type": "execute_result"
    }
   ],
   "source": [
    "hm_results_4_8.loc[hm_results_4_8['algorithm_result'] != 'equally']['algorithm_result'].value_counts(normalize=True)"
   ]
  },
  {
   "cell_type": "code",
   "execution_count": null,
   "id": "724c4b3d-2909-4872-b41b-93576ca8934f",
   "metadata": {},
   "outputs": [],
   "source": [
    "# What do we test / how?\n",
    "chisquare([818, 715], [766.5, 766.5])"
   ]
  },
  {
   "cell_type": "code",
   "execution_count": 143,
   "id": "34f1e89e-f9e6-4afb-9315-1d5cd6ae7146",
   "metadata": {},
   "outputs": [
    {
     "data": {
      "text/plain": [
       "4-church            112\n",
       "7-gaspump           104\n",
       "9-parachute         101\n",
       "3-chainsaw           99\n",
       "0-fish               91\n",
       "6-garbagetruck       90\n",
       "2-cassetteplayer     83\n",
       "5-frenchhorn         79\n",
       "8-golfball           76\n",
       "1-dog                71\n",
       "Name: img_class, dtype: int64"
      ]
     },
     "execution_count": 143,
     "metadata": {},
     "output_type": "execute_result"
    }
   ],
   "source": [
    "#8pruned more reasonable per class\n",
    "hm_results_4_8.loc[(hm_results_4_8['algorithm_result'] == '8pruned')]['img_class'].value_counts(sort=True)"
   ]
  },
  {
   "cell_type": "code",
   "execution_count": 144,
   "id": "b755ff7a-772c-4c3e-a383-4d4af90da2ea",
   "metadata": {},
   "outputs": [
    {
     "data": {
      "text/plain": [
       "8-golfball          104\n",
       "1-dog               101\n",
       "2-cassetteplayer     99\n",
       "0-fish               86\n",
       "9-parachute          83\n",
       "6-garbagetruck       82\n",
       "4-church             82\n",
       "3-chainsaw           79\n",
       "7-gaspump            76\n",
       "5-frenchhorn         73\n",
       "Name: img_class, dtype: int64"
      ]
     },
     "execution_count": 144,
     "metadata": {},
     "output_type": "execute_result"
    }
   ],
   "source": [
    "#4pruned more reasonable per class\n",
    "hm_results_4_8.loc[(hm_results_4_8['algorithm_result'] == '4pruned')]['img_class'].value_counts(sort=True)"
   ]
  },
  {
   "cell_type": "code",
   "execution_count": null,
   "id": "32b826f1-c655-48a7-828c-7f0d727ae90e",
   "metadata": {},
   "outputs": [],
   "source": []
  },
  {
   "cell_type": "code",
   "execution_count": null,
   "id": "0eda48ba-7887-4da7-ae6b-783ae3835ca0",
   "metadata": {},
   "outputs": [],
   "source": []
  },
  {
   "cell_type": "code",
   "execution_count": null,
   "id": "2ebd8c50-e140-48c6-a2b9-5b925d9cdbf0",
   "metadata": {},
   "outputs": [],
   "source": []
  },
  {
   "cell_type": "code",
   "execution_count": null,
   "id": "f1e98bd6-14f2-4fd1-b043-d3d1edd14a1e",
   "metadata": {},
   "outputs": [],
   "source": []
  },
  {
   "cell_type": "markdown",
   "id": "3cc410c5-5741-448d-9790-cf66417f0fb9",
   "metadata": {},
   "source": [
    "# Experiment 2 - What is on the picture?\n",
    "Given Parts of an Image, choose what you see on the Image\n",
    "\n",
    "You will be shown parts of an image. Based on what you see on the image, choose one of the ten categories.\n",
    "\n",
    "You will be shown parts of an image. Based on what you see on the image, choose one of the ten categories below.\n",
    "If you are not sure what is on the image, choose 'I don't know / None of the above'."
   ]
  },
  {
   "cell_type": "code",
   "execution_count": 9,
   "id": "9605f33c-24d3-49a4-8b35-a38c2a465b9f",
   "metadata": {},
   "outputs": [],
   "source": [
    "def preprocess_experiment2_results(path):\n",
    "    exp2 = pd.read_csv(path)\n",
    "    columns = ['HITId'\n",
    "           , 'WorkerId'\n",
    "           , 'Input.image_url'\n",
    "           , 'Answer.classes.0-fish'\n",
    "           , 'Answer.classes.1-dog'\n",
    "           , 'Answer.classes.2-cassetteplayer'\n",
    "           , 'Answer.classes.3-chainsaw'\n",
    "           , 'Answer.classes.4-church'\n",
    "           , 'Answer.classes.5-frenchhorn'\n",
    "           , 'Answer.classes.6-garbagetruck'\n",
    "           , 'Answer.classes.7-gaspump'\n",
    "           , 'Answer.classes.8-golfball'\n",
    "           , 'Answer.classes.9-parachute'\n",
    "           , 'Answer.classes.none']\n",
    "    exp2 = exp2[columns]\n",
    "    \n",
    "    # Extract the img_id, image_class and algorithms of the image_url\n",
    "    exp2['img_id'] = exp2['Input.image_url'].str.split('_').apply(lambda x: x[0])\n",
    "    exp2['img_class'] = exp2['Input.image_url'].str.split('_').apply(lambda x: x[1])\n",
    "    exp2['algorithm'] = exp2['Input.image_url'].str.split('_').apply(lambda x: x[2])\n",
    "    exp2['algorithm'] = exp2['algorithm'].str.split('.').apply(lambda x: x[0])\n",
    "    \n",
    "    # Create column with 1.0 for correct, 0.0 for wrong\n",
    "    for label in classes:\n",
    "        exp2.loc[(exp2['img_class'] == label) & (exp2['Answer.classes.{}'.format(label)] == True), 'correct'] = 1\n",
    "        exp2['correct'].fillna(0, inplace=True)\n",
    "    \n",
    "    return exp2"
   ]
  },
  {
   "cell_type": "code",
   "execution_count": 10,
   "id": "e171ca00-7c2a-42d9-9a9b-bbed663f8d2a",
   "metadata": {},
   "outputs": [],
   "source": [
    "# Imagenette Classes\n",
    "classes = ['0-fish', \n",
    "           '1-dog', \n",
    "           '2-cassetteplayer', \n",
    "           '3-chainsaw',\n",
    "           '4-church', \n",
    "           '5-frenchhorn', \n",
    "           '6-garbagetruck', \n",
    "           '7-gaspump', \n",
    "           '8-golfball', \n",
    "           '9-parachute']"
   ]
  },
  {
   "cell_type": "code",
   "execution_count": 11,
   "id": "d6bfb7b0-a2f9-4b67-9107-bc5062f769d4",
   "metadata": {
    "tags": []
   },
   "outputs": [],
   "source": [
    "# Load CSV\n",
    "exp2 = preprocess_experiment2_results('./paper-experiment2-results.csv')"
   ]
  },
  {
   "cell_type": "code",
   "execution_count": 12,
   "id": "dc468f9b-79f7-4b3d-8da1-c3f38cd42da3",
   "metadata": {},
   "outputs": [
    {
     "data": {
      "text/html": [
       "<div>\n",
       "<style scoped>\n",
       "    .dataframe tbody tr th:only-of-type {\n",
       "        vertical-align: middle;\n",
       "    }\n",
       "\n",
       "    .dataframe tbody tr th {\n",
       "        vertical-align: top;\n",
       "    }\n",
       "\n",
       "    .dataframe thead th {\n",
       "        text-align: right;\n",
       "    }\n",
       "</style>\n",
       "<table border=\"1\" class=\"dataframe\">\n",
       "  <thead>\n",
       "    <tr style=\"text-align: right;\">\n",
       "      <th></th>\n",
       "      <th>HITId</th>\n",
       "      <th>WorkerId</th>\n",
       "      <th>Input.image_url</th>\n",
       "      <th>Answer.classes.0-fish</th>\n",
       "      <th>Answer.classes.1-dog</th>\n",
       "      <th>Answer.classes.2-cassetteplayer</th>\n",
       "      <th>Answer.classes.3-chainsaw</th>\n",
       "      <th>Answer.classes.4-church</th>\n",
       "      <th>Answer.classes.5-frenchhorn</th>\n",
       "      <th>Answer.classes.6-garbagetruck</th>\n",
       "      <th>Answer.classes.7-gaspump</th>\n",
       "      <th>Answer.classes.8-golfball</th>\n",
       "      <th>Answer.classes.9-parachute</th>\n",
       "      <th>Answer.classes.none</th>\n",
       "      <th>img_id</th>\n",
       "      <th>img_class</th>\n",
       "      <th>algorithm</th>\n",
       "      <th>correct</th>\n",
       "    </tr>\n",
       "  </thead>\n",
       "  <tbody>\n",
       "    <tr>\n",
       "      <th>0</th>\n",
       "      <td>3SA4EMRVK3OAEHJVUNKJTAU595Y0P1</td>\n",
       "      <td>A2OZOWPYLB094C</td>\n",
       "      <td>325_7-gaspump_8pruned.png</td>\n",
       "      <td>False</td>\n",
       "      <td>False</td>\n",
       "      <td>False</td>\n",
       "      <td>False</td>\n",
       "      <td>False</td>\n",
       "      <td>False</td>\n",
       "      <td>False</td>\n",
       "      <td>False</td>\n",
       "      <td>False</td>\n",
       "      <td>False</td>\n",
       "      <td>True</td>\n",
       "      <td>325</td>\n",
       "      <td>7-gaspump</td>\n",
       "      <td>8pruned</td>\n",
       "      <td>0.0</td>\n",
       "    </tr>\n",
       "    <tr>\n",
       "      <th>1</th>\n",
       "      <td>3SA4EMRVK3OAEHJVUNKJTAU595Y0P1</td>\n",
       "      <td>A1VG41XDAI37MX</td>\n",
       "      <td>325_7-gaspump_8pruned.png</td>\n",
       "      <td>False</td>\n",
       "      <td>False</td>\n",
       "      <td>False</td>\n",
       "      <td>False</td>\n",
       "      <td>False</td>\n",
       "      <td>False</td>\n",
       "      <td>False</td>\n",
       "      <td>False</td>\n",
       "      <td>False</td>\n",
       "      <td>False</td>\n",
       "      <td>True</td>\n",
       "      <td>325</td>\n",
       "      <td>7-gaspump</td>\n",
       "      <td>8pruned</td>\n",
       "      <td>0.0</td>\n",
       "    </tr>\n",
       "    <tr>\n",
       "      <th>2</th>\n",
       "      <td>3SA4EMRVK3OAEHJVUNKJTAU595Y0P1</td>\n",
       "      <td>A1DXFMUVK5015A</td>\n",
       "      <td>325_7-gaspump_8pruned.png</td>\n",
       "      <td>False</td>\n",
       "      <td>False</td>\n",
       "      <td>False</td>\n",
       "      <td>False</td>\n",
       "      <td>False</td>\n",
       "      <td>False</td>\n",
       "      <td>False</td>\n",
       "      <td>False</td>\n",
       "      <td>False</td>\n",
       "      <td>False</td>\n",
       "      <td>True</td>\n",
       "      <td>325</td>\n",
       "      <td>7-gaspump</td>\n",
       "      <td>8pruned</td>\n",
       "      <td>0.0</td>\n",
       "    </tr>\n",
       "    <tr>\n",
       "      <th>3</th>\n",
       "      <td>3SA4EMRVK3OAEHJVUNKJTAU595Y0P1</td>\n",
       "      <td>AGC1N8XA7OBQY</td>\n",
       "      <td>325_7-gaspump_8pruned.png</td>\n",
       "      <td>False</td>\n",
       "      <td>False</td>\n",
       "      <td>False</td>\n",
       "      <td>False</td>\n",
       "      <td>False</td>\n",
       "      <td>False</td>\n",
       "      <td>False</td>\n",
       "      <td>True</td>\n",
       "      <td>False</td>\n",
       "      <td>False</td>\n",
       "      <td>False</td>\n",
       "      <td>325</td>\n",
       "      <td>7-gaspump</td>\n",
       "      <td>8pruned</td>\n",
       "      <td>1.0</td>\n",
       "    </tr>\n",
       "    <tr>\n",
       "      <th>4</th>\n",
       "      <td>3SA4EMRVK3OAEHJVUNKJTAU595Y0P1</td>\n",
       "      <td>A2KBTDHM44J7X4</td>\n",
       "      <td>325_7-gaspump_8pruned.png</td>\n",
       "      <td>False</td>\n",
       "      <td>False</td>\n",
       "      <td>False</td>\n",
       "      <td>False</td>\n",
       "      <td>False</td>\n",
       "      <td>False</td>\n",
       "      <td>False</td>\n",
       "      <td>False</td>\n",
       "      <td>False</td>\n",
       "      <td>False</td>\n",
       "      <td>True</td>\n",
       "      <td>325</td>\n",
       "      <td>7-gaspump</td>\n",
       "      <td>8pruned</td>\n",
       "      <td>0.0</td>\n",
       "    </tr>\n",
       "  </tbody>\n",
       "</table>\n",
       "</div>"
      ],
      "text/plain": [
       "                            HITId        WorkerId            Input.image_url  \\\n",
       "0  3SA4EMRVK3OAEHJVUNKJTAU595Y0P1  A2OZOWPYLB094C  325_7-gaspump_8pruned.png   \n",
       "1  3SA4EMRVK3OAEHJVUNKJTAU595Y0P1  A1VG41XDAI37MX  325_7-gaspump_8pruned.png   \n",
       "2  3SA4EMRVK3OAEHJVUNKJTAU595Y0P1  A1DXFMUVK5015A  325_7-gaspump_8pruned.png   \n",
       "3  3SA4EMRVK3OAEHJVUNKJTAU595Y0P1   AGC1N8XA7OBQY  325_7-gaspump_8pruned.png   \n",
       "4  3SA4EMRVK3OAEHJVUNKJTAU595Y0P1  A2KBTDHM44J7X4  325_7-gaspump_8pruned.png   \n",
       "\n",
       "   Answer.classes.0-fish  Answer.classes.1-dog  \\\n",
       "0                  False                 False   \n",
       "1                  False                 False   \n",
       "2                  False                 False   \n",
       "3                  False                 False   \n",
       "4                  False                 False   \n",
       "\n",
       "   Answer.classes.2-cassetteplayer  Answer.classes.3-chainsaw  \\\n",
       "0                            False                      False   \n",
       "1                            False                      False   \n",
       "2                            False                      False   \n",
       "3                            False                      False   \n",
       "4                            False                      False   \n",
       "\n",
       "   Answer.classes.4-church  Answer.classes.5-frenchhorn  \\\n",
       "0                    False                        False   \n",
       "1                    False                        False   \n",
       "2                    False                        False   \n",
       "3                    False                        False   \n",
       "4                    False                        False   \n",
       "\n",
       "   Answer.classes.6-garbagetruck  Answer.classes.7-gaspump  \\\n",
       "0                          False                     False   \n",
       "1                          False                     False   \n",
       "2                          False                     False   \n",
       "3                          False                      True   \n",
       "4                          False                     False   \n",
       "\n",
       "   Answer.classes.8-golfball  Answer.classes.9-parachute  Answer.classes.none  \\\n",
       "0                      False                       False                 True   \n",
       "1                      False                       False                 True   \n",
       "2                      False                       False                 True   \n",
       "3                      False                       False                False   \n",
       "4                      False                       False                 True   \n",
       "\n",
       "  img_id  img_class algorithm  correct  \n",
       "0    325  7-gaspump   8pruned      0.0  \n",
       "1    325  7-gaspump   8pruned      0.0  \n",
       "2    325  7-gaspump   8pruned      0.0  \n",
       "3    325  7-gaspump   8pruned      1.0  \n",
       "4    325  7-gaspump   8pruned      0.0  "
      ]
     },
     "execution_count": 12,
     "metadata": {},
     "output_type": "execute_result"
    }
   ],
   "source": [
    "exp2.head(5)"
   ]
  },
  {
   "cell_type": "code",
   "execution_count": 13,
   "id": "c687105c-ccdd-4e25-a716-3be94a492ae2",
   "metadata": {
    "collapsed": true,
    "jupyter": {
     "outputs_hidden": true
    },
    "tags": []
   },
   "outputs": [
    {
     "data": {
      "text/plain": [
       "<sklearn.metrics._plot.confusion_matrix.ConfusionMatrixDisplay at 0x7f981610eb20>"
      ]
     },
     "execution_count": 13,
     "metadata": {},
     "output_type": "execute_result"
    },
    {
     "data": {
      "image/png": "[encoded data removed]",
      "text/plain": [
       "<Figure size 576x576 with 2 Axes>"
      ]
     },
     "metadata": {
      "needs_background": "light"
     },
     "output_type": "display_data"
    }
   ],
   "source": [
    "# create \"img_answer\" column for confusion matrix\n",
    "# Imagenette Classes\n",
    "conf_classes = ['0-fish', \n",
    "                '1-dog', \n",
    "                '2-cassetteplayer', \n",
    "                '3-chainsaw',\n",
    "                '4-church', \n",
    "                '5-frenchhorn', \n",
    "                '6-garbagetruck', \n",
    "                '7-gaspump', \n",
    "                '8-golfball', \n",
    "                '9-parachute',\n",
    "                'none']\n",
    "\n",
    "for label in conf_classes:\n",
    "    exp2.loc[exp2['Answer.classes.{}'.format(label)] == True, 'img_answer'] = label\n",
    "\n",
    "# Create Confusion Matrix\n",
    "cmatrix = confusion_matrix(exp2['img_class'], exp2['img_answer'], labels=conf_classes)\n",
    "\n",
    "# Plot Confusion Matrix\n",
    "disp = ConfusionMatrixDisplay(confusion_matrix=cmatrix, display_labels=conf_classes)\n",
    "fig, ax = plt.subplots(figsize=(8, 8))\n",
    "disp.plot(xticks_rotation='vertical', ax=ax)"
   ]
  },
  {
   "cell_type": "code",
   "execution_count": 14,
   "id": "ef839419-5030-4274-a943-18c241d4e301",
   "metadata": {},
   "outputs": [
    {
     "data": {
      "text/plain": [
       "0.7413709657056397"
      ]
     },
     "execution_count": 14,
     "metadata": {},
     "output_type": "execute_result"
    }
   ],
   "source": [
    "# Interannotator Agreement\n",
    "simpledorff.calculate_krippendorffs_alpha_for_df(exp2,\n",
    "                                                 experiment_col='Input.image_url',\n",
    "                                                 annotator_col='WorkerId',\n",
    "                                                 class_col='img_answer')"
   ]
  },
  {
   "cell_type": "code",
   "execution_count": null,
   "id": "34c5e94c-ed78-40df-b09b-7e39bbf7bf15",
   "metadata": {},
   "outputs": [],
   "source": [
    "# Img IDs where Turkers agree least often (maximum 15)\n",
    "exp2.loc[exp2['img_id'].apply(lambda x: len(exp2.loc[(exp2['img_id']==x) & (exp2['img_class']==exp2['img_answer'])])) <= 5]['img_id'].unique()"
   ]
  },
  {
   "cell_type": "code",
   "execution_count": null,
   "id": "bb0ec01c-547a-4edc-95b7-0d03faec8552",
   "metadata": {},
   "outputs": [],
   "source": []
  },
  {
   "cell_type": "code",
   "execution_count": 15,
   "id": "7240f766-807f-4071-88aa-b79fe1538cd2",
   "metadata": {},
   "outputs": [
    {
     "data": {
      "text/plain": [
       "5000"
      ]
     },
     "execution_count": 15,
     "metadata": {},
     "output_type": "execute_result"
    }
   ],
   "source": [
    "# Total of 5000 answers\n",
    "len(exp2)"
   ]
  },
  {
   "cell_type": "code",
   "execution_count": 16,
   "id": "68a835cf-cb8a-4c4e-b025-244c52b258ef",
   "metadata": {},
   "outputs": [
    {
     "data": {
      "text/plain": [
       "6-garbagetruck      500\n",
       "3-chainsaw          500\n",
       "9-parachute         500\n",
       "2-cassetteplayer    500\n",
       "0-fish              500\n",
       "4-church            500\n",
       "1-dog               500\n",
       "8-golfball          500\n",
       "5-frenchhorn        500\n",
       "7-gaspump           500\n",
       "Name: img_class, dtype: int64"
      ]
     },
     "execution_count": 16,
     "metadata": {},
     "output_type": "execute_result"
    }
   ],
   "source": [
    "# Check if every class was answered 500 times\n",
    "exp2['img_class'].value_counts()"
   ]
  },
  {
   "cell_type": "code",
   "execution_count": 17,
   "id": "7bc54728-132a-4f96-a28d-8a1cd4ac7e29",
   "metadata": {},
   "outputs": [
    {
     "data": {
      "text/plain": [
       "False    4350\n",
       "True      650\n",
       "Name: Answer.classes.none, dtype: int64"
      ]
     },
     "execution_count": 17,
     "metadata": {},
     "output_type": "execute_result"
    }
   ],
   "source": [
    "# How often not identifiable whats on the image?\n",
    "exp2['Answer.classes.none'].value_counts()"
   ]
  },
  {
   "cell_type": "code",
   "execution_count": 18,
   "id": "3ef49319-5d1b-4a99-b4bf-9adc7f064a29",
   "metadata": {},
   "outputs": [
    {
     "data": {
      "text/plain": [
       "(4082, 0.8164)"
      ]
     },
     "execution_count": 18,
     "metadata": {},
     "output_type": "execute_result"
    }
   ],
   "source": [
    "# Total correct\n",
    "len(exp2.loc[(exp2['correct'] == 1)]), len(exp2.loc[(exp2['correct'] == 1)]) / len(exp2)"
   ]
  },
  {
   "cell_type": "code",
   "execution_count": 19,
   "id": "fc1fe679-1fde-4ffc-bfcf-0813b6746c41",
   "metadata": {},
   "outputs": [
    {
     "data": {
      "text/plain": [
       "(918, 0.1836)"
      ]
     },
     "execution_count": 19,
     "metadata": {},
     "output_type": "execute_result"
    }
   ],
   "source": [
    "# Total wrong\n",
    "len(exp2.loc[(exp2['correct'] == 0)]), len(exp2.loc[(exp2['correct'] == 0)]) / len(exp2)"
   ]
  },
  {
   "cell_type": "code",
   "execution_count": null,
   "id": "684f8f19-99fc-4cd2-92b6-494c8e33ade2",
   "metadata": {},
   "outputs": [],
   "source": [
    "#######################\n",
    "# Chisquare: Whether correct results are significant:\n",
    "# correct for 2pruned, 32pruned - expected: as much correct as in nonpruned\n",
    "#chisquare([2160, 2033], [2146, 2146]), chisquare([2160, 2033, 2146], [2146, 2146, 2146])"
   ]
  },
  {
   "cell_type": "markdown",
   "id": "d55d131b-4177-4418-9a09-8a6cec0b23c4",
   "metadata": {},
   "source": [
    "## Overall: Correct per Class and per Models"
   ]
  },
  {
   "cell_type": "code",
   "execution_count": 20,
   "id": "dca78edd-4c8b-4566-a56a-56dde2fdb3ca",
   "metadata": {},
   "outputs": [
    {
     "data": {
      "text/plain": [
       "1-dog               0.964\n",
       "8-golfball          0.940\n",
       "4-church            0.902\n",
       "5-frenchhorn        0.882\n",
       "6-garbagetruck      0.856\n",
       "0-fish              0.808\n",
       "7-gaspump           0.774\n",
       "9-parachute         0.738\n",
       "2-cassetteplayer    0.724\n",
       "3-chainsaw          0.576\n",
       "Name: img_class, dtype: float64"
      ]
     },
     "execution_count": 20,
     "metadata": {},
     "output_type": "execute_result"
    }
   ],
   "source": [
    "# Overview of how many correct per class for all three models, maximum = 500 per class\n",
    "exp2['img_class'].loc[(exp2['correct'] == 1)].value_counts() / 500"
   ]
  },
  {
   "cell_type": "code",
   "execution_count": 21,
   "id": "5c0442d3-c3d0-4d5f-a080-8358fd0e3959",
   "metadata": {},
   "outputs": [
    {
     "data": {
      "text/plain": [
       "4pruned    2052\n",
       "8pruned    2030\n",
       "Name: algorithm, dtype: int64"
      ]
     },
     "execution_count": 21,
     "metadata": {},
     "output_type": "execute_result"
    }
   ],
   "source": [
    "# Overview of how many correct per model, per model maximum = 2500; total 5000\n",
    "exp2['algorithm'].loc[(exp2['correct'] == 1)].value_counts()"
   ]
  },
  {
   "cell_type": "code",
   "execution_count": 22,
   "id": "c73b5bcc-a59d-4b2c-84dc-aae0d9482f70",
   "metadata": {
    "collapsed": true,
    "jupyter": {
     "outputs_hidden": true
    },
    "tags": []
   },
   "outputs": [
    {
     "name": "stdout",
     "output_type": "stream",
     "text": [
      "0-fish\n",
      "4pruned    210\n",
      "8pruned    194\n",
      "Name: algorithm, dtype: int64\n",
      "1-dog\n",
      "8pruned    243\n",
      "4pruned    239\n",
      "Name: algorithm, dtype: int64\n",
      "2-cassetteplayer\n",
      "4pruned    183\n",
      "8pruned    179\n",
      "Name: algorithm, dtype: int64\n",
      "3-chainsaw\n",
      "4pruned    147\n",
      "8pruned    141\n",
      "Name: algorithm, dtype: int64\n",
      "4-church\n",
      "4pruned    227\n",
      "8pruned    224\n",
      "Name: algorithm, dtype: int64\n",
      "5-frenchhorn\n",
      "8pruned    224\n",
      "4pruned    217\n",
      "Name: algorithm, dtype: int64\n",
      "6-garbagetruck\n",
      "4pruned    216\n",
      "8pruned    212\n",
      "Name: algorithm, dtype: int64\n",
      "7-gaspump\n",
      "4pruned    194\n",
      "8pruned    193\n",
      "Name: algorithm, dtype: int64\n",
      "8-golfball\n",
      "4pruned    241\n",
      "8pruned    229\n",
      "Name: algorithm, dtype: int64\n",
      "9-parachute\n",
      "8pruned    191\n",
      "4pruned    178\n",
      "Name: algorithm, dtype: int64\n"
     ]
    }
   ],
   "source": [
    "# For each class, how many corrects differ between models:\n",
    "for label in classes:\n",
    "    print(label)\n",
    "    print(exp2['algorithm'].loc[(exp2['correct'] == 1) & (exp2['img_class'] == label)].value_counts())"
   ]
  },
  {
   "cell_type": "code",
   "execution_count": null,
   "id": "f582ca53-4d8b-4e6e-b70c-192e1d989cc4",
   "metadata": {
    "tags": []
   },
   "outputs": [],
   "source": [
    "exp2.loc[(exp2['Answer.classes.1-dog'] == True) &\n",
    "        (exp2['algorithm'] == '32pruned')] \\\n",
    "    .groupby(['img_id']) \\\n",
    "    .aggregate('count') \\\n",
    "    .sort_values(by='HITId', ascending=False)"
   ]
  },
  {
   "cell_type": "code",
   "execution_count": null,
   "id": "5988dcc6-a726-4ecd-a392-1db46ff7e1cf",
   "metadata": {},
   "outputs": [],
   "source": []
  },
  {
   "cell_type": "markdown",
   "id": "23dcdc20-db9b-436d-8412-ca598ad89137",
   "metadata": {},
   "source": [
    "## 4-pruned"
   ]
  },
  {
   "cell_type": "code",
   "execution_count": 23,
   "id": "74056da9-9ad8-4214-9220-331331b1435a",
   "metadata": {},
   "outputs": [
    {
     "data": {
      "text/plain": [
       "2500"
      ]
     },
     "execution_count": 23,
     "metadata": {},
     "output_type": "execute_result"
    }
   ],
   "source": [
    "exp2_4p = exp2.loc[exp2['algorithm'] == '4pruned']\n",
    "len(exp2_4p)"
   ]
  },
  {
   "cell_type": "code",
   "execution_count": null,
   "id": "c4bedf62-ad9d-45ac-9b06-12c0f949bcc8",
   "metadata": {},
   "outputs": [],
   "source": [
    "# Img IDs where Turkers agree least often (maximum 5)\n",
    "exp2_4p.loc[exp2_4p['img_id'].apply(lambda x: len(exp2_4p.loc[(exp2_4p['img_id']==x) & (exp2_4p['img_class'] == exp2_4p['img_answer'])])) <= 2]['img_id'].unique()"
   ]
  },
  {
   "cell_type": "code",
   "execution_count": 24,
   "id": "47e7ed67-2798-40d8-8ede-68778fa91715",
   "metadata": {},
   "outputs": [
    {
     "data": {
      "text/plain": [
       "(2052, 0.8208)"
      ]
     },
     "execution_count": 24,
     "metadata": {},
     "output_type": "execute_result"
    }
   ],
   "source": [
    "# Total correct\n",
    "len(exp2_4p.loc[(exp2_4p['correct'] == 1)]), len(exp2_4p.loc[(exp2_4p['correct'] == 1)]) / len(exp2_4p)"
   ]
  },
  {
   "cell_type": "code",
   "execution_count": 25,
   "id": "5614d18e-bb56-4e7a-a787-6f83497fd437",
   "metadata": {},
   "outputs": [
    {
     "data": {
      "text/plain": [
       "False    2186\n",
       "True      314\n",
       "Name: Answer.classes.none, dtype: int64"
      ]
     },
     "execution_count": 25,
     "metadata": {},
     "output_type": "execute_result"
    }
   ],
   "source": [
    "# How often not identifiable whats on the image?\n",
    "exp2_4p['Answer.classes.none'].value_counts()"
   ]
  },
  {
   "cell_type": "code",
   "execution_count": 28,
   "id": "558b13b4-e0b5-43ce-b2f4-c985b75f2603",
   "metadata": {},
   "outputs": [
    {
     "data": {
      "text/plain": [
       "8-golfball          0.964\n",
       "1-dog               0.956\n",
       "4-church            0.908\n",
       "5-frenchhorn        0.868\n",
       "6-garbagetruck      0.864\n",
       "0-fish              0.840\n",
       "7-gaspump           0.776\n",
       "2-cassetteplayer    0.732\n",
       "9-parachute         0.712\n",
       "3-chainsaw          0.588\n",
       "Name: img_class, dtype: float64"
      ]
     },
     "execution_count": 28,
     "metadata": {},
     "output_type": "execute_result"
    }
   ],
   "source": [
    "# Correct answers for 4pruned, splitted by every class, maximum 250 per class\n",
    "exp2_4p['img_class'].loc[(exp2_4p['correct'] == 1)].value_counts() / 250"
   ]
  },
  {
   "cell_type": "code",
   "execution_count": 29,
   "id": "71e34318-4c71-4991-908e-311f87d069b5",
   "metadata": {
    "collapsed": true,
    "jupyter": {
     "outputs_hidden": true
    },
    "tags": []
   },
   "outputs": [
    {
     "data": {
      "text/plain": [
       "<sklearn.metrics._plot.confusion_matrix.ConfusionMatrixDisplay at 0x7f981b859c70>"
      ]
     },
     "execution_count": 29,
     "metadata": {},
     "output_type": "execute_result"
    },
    {
     "data": {
      "image/png": "[encoded data removed]",
      "text/plain": [
       "<Figure size 576x576 with 2 Axes>"
      ]
     },
     "metadata": {
      "needs_background": "light"
     },
     "output_type": "display_data"
    }
   ],
   "source": [
    "# Create Confusion Matrix\n",
    "cmatrix = confusion_matrix(exp2_4p['img_class'], exp2_4p['img_answer'], labels=conf_classes)\n",
    "\n",
    "# Plot Confusion Matrix\n",
    "disp = ConfusionMatrixDisplay(confusion_matrix=cmatrix, display_labels=conf_classes)\n",
    "fig, ax = plt.subplots(figsize=(8, 8))\n",
    "disp.plot(xticks_rotation='vertical', ax=ax)"
   ]
  },
  {
   "cell_type": "code",
   "execution_count": null,
   "id": "974ebf0b-bfae-4c4f-9cab-9b8bf1592f7c",
   "metadata": {},
   "outputs": [],
   "source": []
  },
  {
   "cell_type": "code",
   "execution_count": null,
   "id": "5fcfd4f8-468d-43d0-a346-b929d52336d7",
   "metadata": {},
   "outputs": [],
   "source": []
  },
  {
   "cell_type": "markdown",
   "id": "e311ea40-cced-45a7-bbd8-e09d5b47bb77",
   "metadata": {},
   "source": [
    "## 8-Pruned"
   ]
  },
  {
   "cell_type": "code",
   "execution_count": 30,
   "id": "0d558fa6-c9d4-4667-b0df-012e8bbd9083",
   "metadata": {},
   "outputs": [
    {
     "data": {
      "text/plain": [
       "2500"
      ]
     },
     "execution_count": 30,
     "metadata": {},
     "output_type": "execute_result"
    }
   ],
   "source": [
    "exp2_8p = exp2.loc[exp2['algorithm'] == '8pruned']\n",
    "len(exp2_8p)"
   ]
  },
  {
   "cell_type": "code",
   "execution_count": null,
   "id": "963aacc4-f23e-4fe6-a1a2-c3cdcf5d3049",
   "metadata": {},
   "outputs": [],
   "source": [
    "# Img IDs where Turkers agree least often (maximum 5)\n",
    "exp2_8p.loc[exp2_8p['img_id'].apply(lambda x: len(exp2_8p.loc[(exp2_8p['img_id']==x) & (exp2_8p['img_class'] == exp2_8p['img_answer'])])) <= 2]['img_id'].unique()"
   ]
  },
  {
   "cell_type": "code",
   "execution_count": 31,
   "id": "9f7fa745-eea6-420a-b166-f339fd5d3424",
   "metadata": {},
   "outputs": [
    {
     "data": {
      "text/plain": [
       "(2030, 0.812)"
      ]
     },
     "execution_count": 31,
     "metadata": {},
     "output_type": "execute_result"
    }
   ],
   "source": [
    "# Total correct\n",
    "len(exp2_8p.loc[(exp2_8p['correct'] == 1)]), len(exp2_8p.loc[(exp2_8p['correct'] == 1)]) / len(exp2_8p)"
   ]
  },
  {
   "cell_type": "code",
   "execution_count": 32,
   "id": "89e825d5-9bfc-4c38-a964-cd3c3be3b478",
   "metadata": {},
   "outputs": [
    {
     "data": {
      "text/plain": [
       "False    2164\n",
       "True      336\n",
       "Name: Answer.classes.none, dtype: int64"
      ]
     },
     "execution_count": 32,
     "metadata": {},
     "output_type": "execute_result"
    }
   ],
   "source": [
    "# How often not identifiable whats on the image?\n",
    "exp2_8p['Answer.classes.none'].value_counts()"
   ]
  },
  {
   "cell_type": "code",
   "execution_count": 33,
   "id": "78215bc2-2a3e-4379-b5ea-25d76eb5aeda",
   "metadata": {},
   "outputs": [
    {
     "data": {
      "text/plain": [
       "1-dog               0.972\n",
       "8-golfball          0.916\n",
       "4-church            0.896\n",
       "5-frenchhorn        0.896\n",
       "6-garbagetruck      0.848\n",
       "0-fish              0.776\n",
       "7-gaspump           0.772\n",
       "9-parachute         0.764\n",
       "2-cassetteplayer    0.716\n",
       "3-chainsaw          0.564\n",
       "Name: img_class, dtype: float64"
      ]
     },
     "execution_count": 33,
     "metadata": {},
     "output_type": "execute_result"
    }
   ],
   "source": [
    "# Correct answers for 8pruned, splitted by every class, maximum 250 per class\n",
    "exp2_8p['img_class'].loc[(exp2_8p['correct'] == 1)].value_counts() / 250"
   ]
  },
  {
   "cell_type": "code",
   "execution_count": 35,
   "id": "f4d08884-3f84-4e8c-abe0-4ccec9344138",
   "metadata": {
    "tags": []
   },
   "outputs": [
    {
     "data": {
      "text/plain": [
       "<sklearn.metrics._plot.confusion_matrix.ConfusionMatrixDisplay at 0x7f981bbd0a60>"
      ]
     },
     "execution_count": 35,
     "metadata": {},
     "output_type": "execute_result"
    },
    {
     "data": {
      "image/png": "[encoded data removed]",
      "text/plain": [
       "<Figure size 576x576 with 2 Axes>"
      ]
     },
     "metadata": {
      "needs_background": "light"
     },
     "output_type": "display_data"
    }
   ],
   "source": [
    "# Create Confusion Matrix\n",
    "cmatrix = confusion_matrix(exp2_8p['img_class'], exp2_8p['img_answer'], labels=conf_classes)\n",
    "\n",
    "# Plot Confusion Matrix\n",
    "disp = ConfusionMatrixDisplay(confusion_matrix=cmatrix, display_labels=conf_classes)\n",
    "fig, ax = plt.subplots(figsize=(8, 8))\n",
    "disp.plot(xticks_rotation='vertical', ax=ax)"
   ]
  },
  {
   "cell_type": "code",
   "execution_count": null,
   "id": "eeb06d6e-7687-4fc4-8247-45950b2ef212",
   "metadata": {},
   "outputs": [],
   "source": []
  }
 ],
 "metadata": {
  "kernelspec": {
   "display_name": "masterthesis",
   "language": "python",
   "name": "masterthesis"
  },
  "language_info": {
   "codemirror_mode": {
    "name": "ipython",
    "version": 3
   },
   "file_extension": ".py",
   "mimetype": "text/x-python",
   "name": "python",
   "nbconvert_exporter": "python",
   "pygments_lexer": "ipython3",
   "version": "3.8.8"
  }
 },
 "nbformat": 4,
 "nbformat_minor": 5
}
