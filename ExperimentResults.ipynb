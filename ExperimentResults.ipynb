{
 "cells": [
  {
   "cell_type": "code",
   "execution_count": 304,
   "id": "0615eb3a-e9df-4e5c-bbc8-e8fe51b7f9b5",
   "metadata": {},
   "outputs": [],
   "source": [
    "import numpy as np\n",
    "import pandas as pd\n",
    "import matplotlib.pyplot as plt\n",
    "%matplotlib inline\n",
    "\n",
    "from scipy.stats import chisquare"
   ]
  },
  {
   "cell_type": "code",
   "execution_count": 267,
   "id": "54757413-d70b-4523-a08d-89bd73847b87",
   "metadata": {},
   "outputs": [],
   "source": [
    "# Experiment 1 preprocessing of data\n",
    "def preprocess_experiment1_results(path):\n",
    "    data = pd.read_csv(path)\n",
    "    columns = ['HITId', 'WorkerId', 'Input.image_url', 'Answer.algorithms.alg1', 'Answer.algorithms.alg2', 'Answer.algorithms.none']\n",
    "    data = data[columns]\n",
    "    \n",
    "    # Extract the img_id, image_class and algorithms of the image_url\n",
    "    data['img_id'] = data['Input.image_url'].str.split('_').apply(lambda x: x[0])\n",
    "    data['img_class'] = data['Input.image_url'].str.split('_').apply(lambda x: x[2])\n",
    "    data['alg1'] = data['Input.image_url'].str.split('_').apply(lambda x: x[1])\n",
    "    data['alg2'] = data['Input.image_url'].str.split('_').apply(lambda x: x[3].split('.')[0])\n",
    "    \n",
    "    # Get all answers, where nonpruned was voted as more reasonable and set a new column 'nonpruned' to 1 for those cases, the others get 0\n",
    "    data.loc[((data['Answer.algorithms.alg1'] == True) & (data['alg1'] == 'nonpruned') |\n",
    "              (data['Answer.algorithms.alg2'] == True) & (data['alg2'] == 'nonpruned')), 'nonpruned'] = 1\n",
    "    data['nonpruned'].fillna(0, inplace=True)\n",
    "    \n",
    "    # Get all answers, where 2pruned was voted as more reasonable and set a new column '2pruned' to 1 for those cases, the others get 0\n",
    "    data.loc[((data['Answer.algorithms.alg1'] == True) & (data['alg1'] == '2pruned') |\n",
    "              (data['Answer.algorithms.alg2'] == True) & (data['alg2'] == '2pruned')), '2pruned'] = 1\n",
    "    data['2pruned'].fillna(0, inplace=True)\n",
    "    \n",
    "    # Get all answers, where 32pruned was voted as more reasonable and set a new column '32pruned' to 1 for those cases, the others get 0\n",
    "    data.loc[((data['Answer.algorithms.alg1'] == True) & (data['alg1'] == '32pruned') |\n",
    "              (data['Answer.algorithms.alg2'] == True) & (data['alg2'] == '32pruned')), '32pruned'] = 1\n",
    "    data['32pruned'].fillna(0, inplace=True)\n",
    "    \n",
    "    return data"
   ]
  },
  {
   "cell_type": "markdown",
   "id": "9310c08d-0eb8-4396-b056-a14cd8722a82",
   "metadata": {},
   "source": [
    "# Experiment 1 - Class-Specific Image Parts \n",
    "This experiment investigates the reasonability of algorithms when they classify images. You will decide which of the algorithms makes a more reasonable decision based on the parts of the image it uses for its decision.\n",
    "\n",
    "This experiment investigates the reasonability of algorithms when they classify images.\n",
    "The image in the middle is the original image with its predicted class shown above the image.\n",
    "The images on the left and right show only parts of the image that seem most important to the algorithm.\n",
    "You will decide which of the algorithms makes a more reasonable decision based on the parts of the image it uses for its decision.\n",
    "If you think that none of the algorithms seems more reasonable than the other, select \"Both algorithms seem equally reasonable\"."
   ]
  },
  {
   "cell_type": "markdown",
   "id": "bb8dfa34-28d1-4c8d-9b32-1c152836ccab",
   "metadata": {},
   "source": [
    "Some rows not filled with any '1' show that \"Both algorithms equally reasonable\" were chosen. These are ignored / left for now.\n",
    "- Maybe they should be removed?\n",
    "- Somehow put into the calculation / test later on?"
   ]
  },
  {
   "cell_type": "code",
   "execution_count": 342,
   "id": "f264d6ac-8598-49ed-a3c2-3a5fd5eb53f4",
   "metadata": {},
   "outputs": [
    {
     "data": {
      "text/html": [
       "<div>\n",
       "<style scoped>\n",
       "    .dataframe tbody tr th:only-of-type {\n",
       "        vertical-align: middle;\n",
       "    }\n",
       "\n",
       "    .dataframe tbody tr th {\n",
       "        vertical-align: top;\n",
       "    }\n",
       "\n",
       "    .dataframe thead th {\n",
       "        text-align: right;\n",
       "    }\n",
       "</style>\n",
       "<table border=\"1\" class=\"dataframe\">\n",
       "  <thead>\n",
       "    <tr style=\"text-align: right;\">\n",
       "      <th></th>\n",
       "      <th>HITId</th>\n",
       "      <th>WorkerId</th>\n",
       "      <th>Input.image_url</th>\n",
       "      <th>Answer.algorithms.alg1</th>\n",
       "      <th>Answer.algorithms.alg2</th>\n",
       "      <th>Answer.algorithms.none</th>\n",
       "      <th>img_id</th>\n",
       "      <th>img_class</th>\n",
       "      <th>alg1</th>\n",
       "      <th>alg2</th>\n",
       "      <th>nonpruned</th>\n",
       "      <th>2pruned</th>\n",
       "      <th>32pruned</th>\n",
       "    </tr>\n",
       "  </thead>\n",
       "  <tbody>\n",
       "    <tr>\n",
       "      <th>0</th>\n",
       "      <td>3GITHABAD67H76AWTVB589IP4QCN29</td>\n",
       "      <td>A3A1PY8GLGYRR5</td>\n",
       "      <td>167_32pruned_2-cassetteplayer_nonpruned.png</td>\n",
       "      <td>False</td>\n",
       "      <td>False</td>\n",
       "      <td>True</td>\n",
       "      <td>167</td>\n",
       "      <td>2-cassetteplayer</td>\n",
       "      <td>32pruned</td>\n",
       "      <td>nonpruned</td>\n",
       "      <td>0.0</td>\n",
       "      <td>0.0</td>\n",
       "      <td>0.0</td>\n",
       "    </tr>\n",
       "    <tr>\n",
       "      <th>1</th>\n",
       "      <td>3D4BBDG70PIN1K9O85GWB8T5B0Y3CI</td>\n",
       "      <td>AV5TLLCULVF0P</td>\n",
       "      <td>8_2pruned_2-cassetteplayer_nonpruned.png</td>\n",
       "      <td>False</td>\n",
       "      <td>True</td>\n",
       "      <td>False</td>\n",
       "      <td>8</td>\n",
       "      <td>2-cassetteplayer</td>\n",
       "      <td>2pruned</td>\n",
       "      <td>nonpruned</td>\n",
       "      <td>1.0</td>\n",
       "      <td>0.0</td>\n",
       "      <td>0.0</td>\n",
       "    </tr>\n",
       "    <tr>\n",
       "      <th>2</th>\n",
       "      <td>3Z56AA6ELCMZ7P8X4W88L7A1F556MA</td>\n",
       "      <td>A250KKS1WKKUFY</td>\n",
       "      <td>360_2pruned_4-church_nonpruned.png</td>\n",
       "      <td>False</td>\n",
       "      <td>False</td>\n",
       "      <td>True</td>\n",
       "      <td>360</td>\n",
       "      <td>4-church</td>\n",
       "      <td>2pruned</td>\n",
       "      <td>nonpruned</td>\n",
       "      <td>0.0</td>\n",
       "      <td>0.0</td>\n",
       "      <td>0.0</td>\n",
       "    </tr>\n",
       "    <tr>\n",
       "      <th>3</th>\n",
       "      <td>3OKP4QVBQAJ02HOEJ6RPO7SQF2IAGV</td>\n",
       "      <td>A2U9OZCL9ULYLZ</td>\n",
       "      <td>235_32pruned_8-golfball_nonpruned.png</td>\n",
       "      <td>False</td>\n",
       "      <td>False</td>\n",
       "      <td>True</td>\n",
       "      <td>235</td>\n",
       "      <td>8-golfball</td>\n",
       "      <td>32pruned</td>\n",
       "      <td>nonpruned</td>\n",
       "      <td>0.0</td>\n",
       "      <td>0.0</td>\n",
       "      <td>0.0</td>\n",
       "    </tr>\n",
       "    <tr>\n",
       "      <th>4</th>\n",
       "      <td>36FQTHX30BD4RFHIU5K10ONNTFY3BB</td>\n",
       "      <td>A3NXNCQ5PD9LO2</td>\n",
       "      <td>62_32pruned_3-chainsaw_nonpruned.png</td>\n",
       "      <td>False</td>\n",
       "      <td>False</td>\n",
       "      <td>True</td>\n",
       "      <td>62</td>\n",
       "      <td>3-chainsaw</td>\n",
       "      <td>32pruned</td>\n",
       "      <td>nonpruned</td>\n",
       "      <td>0.0</td>\n",
       "      <td>0.0</td>\n",
       "      <td>0.0</td>\n",
       "    </tr>\n",
       "  </tbody>\n",
       "</table>\n",
       "</div>"
      ],
      "text/plain": [
       "                            HITId        WorkerId  \\\n",
       "0  3GITHABAD67H76AWTVB589IP4QCN29  A3A1PY8GLGYRR5   \n",
       "1  3D4BBDG70PIN1K9O85GWB8T5B0Y3CI   AV5TLLCULVF0P   \n",
       "2  3Z56AA6ELCMZ7P8X4W88L7A1F556MA  A250KKS1WKKUFY   \n",
       "3  3OKP4QVBQAJ02HOEJ6RPO7SQF2IAGV  A2U9OZCL9ULYLZ   \n",
       "4  36FQTHX30BD4RFHIU5K10ONNTFY3BB  A3NXNCQ5PD9LO2   \n",
       "\n",
       "                               Input.image_url  Answer.algorithms.alg1  \\\n",
       "0  167_32pruned_2-cassetteplayer_nonpruned.png                   False   \n",
       "1     8_2pruned_2-cassetteplayer_nonpruned.png                   False   \n",
       "2           360_2pruned_4-church_nonpruned.png                   False   \n",
       "3        235_32pruned_8-golfball_nonpruned.png                   False   \n",
       "4         62_32pruned_3-chainsaw_nonpruned.png                   False   \n",
       "\n",
       "   Answer.algorithms.alg2  Answer.algorithms.none img_id         img_class  \\\n",
       "0                   False                    True    167  2-cassetteplayer   \n",
       "1                    True                   False      8  2-cassetteplayer   \n",
       "2                   False                    True    360          4-church   \n",
       "3                   False                    True    235        8-golfball   \n",
       "4                   False                    True     62        3-chainsaw   \n",
       "\n",
       "       alg1       alg2  nonpruned  2pruned  32pruned  \n",
       "0  32pruned  nonpruned        0.0      0.0       0.0  \n",
       "1   2pruned  nonpruned        1.0      0.0       0.0  \n",
       "2   2pruned  nonpruned        0.0      0.0       0.0  \n",
       "3  32pruned  nonpruned        0.0      0.0       0.0  \n",
       "4  32pruned  nonpruned        0.0      0.0       0.0  "
      ]
     },
     "execution_count": 342,
     "metadata": {},
     "output_type": "execute_result"
    }
   ],
   "source": [
    "# Load and pre-process CSV\n",
    "occ_results = preprocess_experiment1_results('experiments/experiment1-5000-results.csv')\n",
    "occ_results.head(5)"
   ]
  },
  {
   "cell_type": "code",
   "execution_count": 283,
   "id": "28a4f5f4-9f5c-43cd-8cbf-41bb2f5c1e7d",
   "metadata": {},
   "outputs": [
    {
     "data": {
      "text/plain": [
       "5000"
      ]
     },
     "execution_count": 283,
     "metadata": {},
     "output_type": "execute_result"
    }
   ],
   "source": [
    "# How many datapoints\n",
    "len(occ_results)"
   ]
  },
  {
   "cell_type": "code",
   "execution_count": 285,
   "id": "e0f9481e-8a8d-425e-8d36-858e35eb04f0",
   "metadata": {},
   "outputs": [
    {
     "data": {
      "text/plain": [
       "2pruned      0.5\n",
       "32pruned     0.5\n",
       "nonpruned    1.0\n",
       "dtype: float64"
      ]
     },
     "execution_count": 285,
     "metadata": {},
     "output_type": "execute_result"
    }
   ],
   "source": [
    "# How often did the models appear - expected: nonpruned twice as often as both others\n",
    "occ_results['alg1'].value_counts(normalize=True) + occ_results['alg2'].value_counts(normalize=True)"
   ]
  },
  {
   "cell_type": "code",
   "execution_count": 284,
   "id": "e2f8a578-b782-46df-9248-0f6abd59f509",
   "metadata": {},
   "outputs": [
    {
     "data": {
      "text/plain": [
       "False    0.5994\n",
       "True     0.4006\n",
       "Name: Answer.algorithms.none, dtype: float64"
      ]
     },
     "execution_count": 284,
     "metadata": {},
     "output_type": "execute_result"
    }
   ],
   "source": [
    "# 'Both algorithms equally reasonable'\n",
    "occ_results['Answer.algorithms.none'].value_counts(normalize=True)"
   ]
  },
  {
   "cell_type": "markdown",
   "id": "5ad11e71-5371-44ec-9617-0c416a794a09",
   "metadata": {},
   "source": [
    "### 2Pruned VS Non-Pruned"
   ]
  },
  {
   "cell_type": "code",
   "execution_count": 286,
   "id": "bc02f9ac-86a7-486d-a549-d71ef16319db",
   "metadata": {},
   "outputs": [
    {
     "data": {
      "text/plain": [
       "2500"
      ]
     },
     "execution_count": 286,
     "metadata": {},
     "output_type": "execute_result"
    }
   ],
   "source": [
    "# Compare non-pruned VS 2pruned\n",
    "occ_results_np_2 = occ_results.loc[(occ_results['alg1'] == '2pruned') | (occ_results['alg2'] == '2pruned')]\n",
    "len(occ_results_np_2)"
   ]
  },
  {
   "cell_type": "code",
   "execution_count": 287,
   "id": "bf64e027-a50b-44ef-a072-3a01ab81118a",
   "metadata": {},
   "outputs": [
    {
     "data": {
      "text/plain": [
       "(True     0.5372\n",
       " False    0.4628\n",
       " Name: Answer.algorithms.none, dtype: float64,\n",
       " True     1343\n",
       " False    1157\n",
       " Name: Answer.algorithms.none, dtype: int64)"
      ]
     },
     "execution_count": 287,
     "metadata": {},
     "output_type": "execute_result"
    }
   ],
   "source": [
    "# 'Both algorithms equally reasonable'\n",
    "occ_results_np_2['Answer.algorithms.none'].value_counts(normalize=True), occ_results_np_2['Answer.algorithms.none'].value_counts()"
   ]
  },
  {
   "cell_type": "code",
   "execution_count": 288,
   "id": "e9550d44-7229-4934-a672-34170ca5fcf2",
   "metadata": {},
   "outputs": [
    {
     "data": {
      "text/plain": [
       "(0.0    636\n",
       " 1.0    521\n",
       " Name: nonpruned, dtype: int64,\n",
       " 1.0    636\n",
       " 0.0    521\n",
       " Name: 2pruned, dtype: int64)"
      ]
     },
     "execution_count": 288,
     "metadata": {},
     "output_type": "execute_result"
    }
   ],
   "source": [
    "# How often was non-pruned more reasonable than 2pruned?\n",
    "occ_results_np_2.loc[occ_results_np_2['Answer.algorithms.none'] == 0]['nonpruned'].value_counts(), occ_results_np_2.loc[occ_results_np_2['Answer.algorithms.none'] == 0]['2pruned'].value_counts()"
   ]
  },
  {
   "cell_type": "code",
   "execution_count": null,
   "id": "107353a6-bec9-4206-9ee1-3a7ac245baec",
   "metadata": {},
   "outputs": [],
   "source": [
    "# observed values, opt: expected values (otherwise every category same likely)\n",
    "chisquare([110, 129], [120, 120])"
   ]
  },
  {
   "cell_type": "code",
   "execution_count": null,
   "id": "178beb73-030e-4e29-ad37-5f2199e85f34",
   "metadata": {},
   "outputs": [],
   "source": []
  },
  {
   "cell_type": "markdown",
   "id": "78cb2a3c-1855-430d-a1fb-580fed56aaa9",
   "metadata": {},
   "source": [
    "### 32Pruned VS Non-Pruned"
   ]
  },
  {
   "cell_type": "code",
   "execution_count": 289,
   "id": "61bde024-58cd-46a3-842c-ae90b1f3c948",
   "metadata": {},
   "outputs": [
    {
     "data": {
      "text/plain": [
       "2500"
      ]
     },
     "execution_count": 289,
     "metadata": {},
     "output_type": "execute_result"
    }
   ],
   "source": [
    "# Compare non-pruned VS 32pruned\n",
    "occ_results_np_32 = occ_results.loc[(occ_results['alg1'] == '32pruned') | (occ_results['alg2'] == '32pruned')]\n",
    "len(occ_results_np_32)"
   ]
  },
  {
   "cell_type": "code",
   "execution_count": 290,
   "id": "d5ed1b7d-a86f-4079-9349-51a19ab2f56d",
   "metadata": {},
   "outputs": [
    {
     "data": {
      "text/plain": [
       "(False    1840\n",
       " True      660\n",
       " Name: Answer.algorithms.none, dtype: int64,\n",
       " False    0.736\n",
       " True     0.264\n",
       " Name: Answer.algorithms.none, dtype: float64)"
      ]
     },
     "execution_count": 290,
     "metadata": {},
     "output_type": "execute_result"
    }
   ],
   "source": [
    "# Around 20% of 'Both algorithms equally reasonable'\n",
    "occ_results_np_32['Answer.algorithms.none'].value_counts(), occ_results_np_32['Answer.algorithms.none'].value_counts(normalize=True)"
   ]
  },
  {
   "cell_type": "code",
   "execution_count": 291,
   "id": "3332cd4d-f4b6-481f-be32-0dce5175110c",
   "metadata": {},
   "outputs": [
    {
     "data": {
      "text/plain": [
       "(1.0    997\n",
       " 0.0    843\n",
       " Name: nonpruned, dtype: int64,\n",
       " 0.0    997\n",
       " 1.0    843\n",
       " Name: 32pruned, dtype: int64)"
      ]
     },
     "execution_count": 291,
     "metadata": {},
     "output_type": "execute_result"
    }
   ],
   "source": [
    "# How often was non-pruned more reasonable than 32pruned?\n",
    "occ_results_np_32.loc[occ_results_np_32['Answer.algorithms.none'] == 0]['nonpruned'].value_counts(), occ_results_np_32.loc[occ_results_np_32['Answer.algorithms.none'] == 0]['32pruned'].value_counts()"
   ]
  },
  {
   "cell_type": "code",
   "execution_count": null,
   "id": "df700a50-4e52-4714-afed-007dd9f3b0c1",
   "metadata": {},
   "outputs": [],
   "source": [
    "chisquare([206, 195], [250, 250])"
   ]
  },
  {
   "cell_type": "code",
   "execution_count": null,
   "id": "9ffc3076-9f4f-4633-97e7-223daf9634b0",
   "metadata": {},
   "outputs": [],
   "source": []
  },
  {
   "cell_type": "markdown",
   "id": "cba93098-cb46-41a9-93b9-70e29af5921e",
   "metadata": {},
   "source": [
    "# Experiment 1 - Grad-CAM Heat-Maps\n",
    "This experiment investigates the reasonability of algorithms when they classify images. You will decide which of the algorithms makes a more reasonable decision based on the parts of the image it uses for its decision.\n",
    "\n",
    "The image in the middle is the original image with its predicted class shown above the image. The images on the left and right have a heatmap, ranging from blue to red, overlayed. The whole range of the heatmap is shown here.\n",
    "\n",
    "The blue areas indicate the least important parts of the image to the algorithm, the red areas indicate the most important parts of the image to the algorithm. Therefore, more important (red) areas help the algorithm to make its correct decision more than less important (blue) areas. You will decide which of the algorithms makes a more reasonable decision based on the parts of the image it uses most for its decision. If you think that none of the algorithms seems more reasonable than the other, select \"Both algorithms seem equally reasonable\"."
   ]
  },
  {
   "cell_type": "code",
   "execution_count": 268,
   "id": "19a83d76-0bc4-4717-b9cb-a932ca4644aa",
   "metadata": {},
   "outputs": [
    {
     "data": {
      "text/html": [
       "<div>\n",
       "<style scoped>\n",
       "    .dataframe tbody tr th:only-of-type {\n",
       "        vertical-align: middle;\n",
       "    }\n",
       "\n",
       "    .dataframe tbody tr th {\n",
       "        vertical-align: top;\n",
       "    }\n",
       "\n",
       "    .dataframe thead th {\n",
       "        text-align: right;\n",
       "    }\n",
       "</style>\n",
       "<table border=\"1\" class=\"dataframe\">\n",
       "  <thead>\n",
       "    <tr style=\"text-align: right;\">\n",
       "      <th></th>\n",
       "      <th>HITId</th>\n",
       "      <th>WorkerId</th>\n",
       "      <th>Input.image_url</th>\n",
       "      <th>Answer.algorithms.alg1</th>\n",
       "      <th>Answer.algorithms.alg2</th>\n",
       "      <th>Answer.algorithms.none</th>\n",
       "      <th>img_id</th>\n",
       "      <th>img_class</th>\n",
       "      <th>alg1</th>\n",
       "      <th>alg2</th>\n",
       "      <th>nonpruned</th>\n",
       "      <th>2pruned</th>\n",
       "      <th>32pruned</th>\n",
       "    </tr>\n",
       "  </thead>\n",
       "  <tbody>\n",
       "    <tr>\n",
       "      <th>0</th>\n",
       "      <td>3E9VAUV7C400O89EDCDVV7ZUK3VAYQ</td>\n",
       "      <td>A3U5D83UGFY23Y</td>\n",
       "      <td>388_2pruned_3-chainsaw_nonpruned.png</td>\n",
       "      <td>True</td>\n",
       "      <td>False</td>\n",
       "      <td>False</td>\n",
       "      <td>388</td>\n",
       "      <td>3-chainsaw</td>\n",
       "      <td>2pruned</td>\n",
       "      <td>nonpruned</td>\n",
       "      <td>0.0</td>\n",
       "      <td>1.0</td>\n",
       "      <td>0.0</td>\n",
       "    </tr>\n",
       "    <tr>\n",
       "      <th>1</th>\n",
       "      <td>3ZUE82NE1ING5TZ4BO1TAVMJO458FN</td>\n",
       "      <td>A2KLWSLNAXJUAZ</td>\n",
       "      <td>64_32pruned_7-gaspump_nonpruned.png</td>\n",
       "      <td>True</td>\n",
       "      <td>False</td>\n",
       "      <td>False</td>\n",
       "      <td>64</td>\n",
       "      <td>7-gaspump</td>\n",
       "      <td>32pruned</td>\n",
       "      <td>nonpruned</td>\n",
       "      <td>0.0</td>\n",
       "      <td>0.0</td>\n",
       "      <td>1.0</td>\n",
       "    </tr>\n",
       "    <tr>\n",
       "      <th>2</th>\n",
       "      <td>3CVDZS289PMVQI185PBCFDNE89UFMI</td>\n",
       "      <td>A3T1M3NZ5UIA56</td>\n",
       "      <td>221_2pruned_8-golfball_nonpruned.png</td>\n",
       "      <td>False</td>\n",
       "      <td>True</td>\n",
       "      <td>False</td>\n",
       "      <td>221</td>\n",
       "      <td>8-golfball</td>\n",
       "      <td>2pruned</td>\n",
       "      <td>nonpruned</td>\n",
       "      <td>1.0</td>\n",
       "      <td>0.0</td>\n",
       "      <td>0.0</td>\n",
       "    </tr>\n",
       "    <tr>\n",
       "      <th>3</th>\n",
       "      <td>38O9DZ0A7A990L44UEPO6YW395A62F</td>\n",
       "      <td>A1HDYTLK36Y0G5</td>\n",
       "      <td>219_2pruned_7-gaspump_nonpruned.png</td>\n",
       "      <td>True</td>\n",
       "      <td>False</td>\n",
       "      <td>False</td>\n",
       "      <td>219</td>\n",
       "      <td>7-gaspump</td>\n",
       "      <td>2pruned</td>\n",
       "      <td>nonpruned</td>\n",
       "      <td>0.0</td>\n",
       "      <td>1.0</td>\n",
       "      <td>0.0</td>\n",
       "    </tr>\n",
       "    <tr>\n",
       "      <th>4</th>\n",
       "      <td>3SD15I2WEAGYL30NYE3TP81VFJA63Q</td>\n",
       "      <td>A6B55HA085S5V</td>\n",
       "      <td>361_2pruned_5-frenchhorn_nonpruned.png</td>\n",
       "      <td>False</td>\n",
       "      <td>True</td>\n",
       "      <td>False</td>\n",
       "      <td>361</td>\n",
       "      <td>5-frenchhorn</td>\n",
       "      <td>2pruned</td>\n",
       "      <td>nonpruned</td>\n",
       "      <td>1.0</td>\n",
       "      <td>0.0</td>\n",
       "      <td>0.0</td>\n",
       "    </tr>\n",
       "  </tbody>\n",
       "</table>\n",
       "</div>"
      ],
      "text/plain": [
       "                            HITId        WorkerId  \\\n",
       "0  3E9VAUV7C400O89EDCDVV7ZUK3VAYQ  A3U5D83UGFY23Y   \n",
       "1  3ZUE82NE1ING5TZ4BO1TAVMJO458FN  A2KLWSLNAXJUAZ   \n",
       "2  3CVDZS289PMVQI185PBCFDNE89UFMI  A3T1M3NZ5UIA56   \n",
       "3  38O9DZ0A7A990L44UEPO6YW395A62F  A1HDYTLK36Y0G5   \n",
       "4  3SD15I2WEAGYL30NYE3TP81VFJA63Q   A6B55HA085S5V   \n",
       "\n",
       "                          Input.image_url  Answer.algorithms.alg1  \\\n",
       "0    388_2pruned_3-chainsaw_nonpruned.png                    True   \n",
       "1     64_32pruned_7-gaspump_nonpruned.png                    True   \n",
       "2    221_2pruned_8-golfball_nonpruned.png                   False   \n",
       "3     219_2pruned_7-gaspump_nonpruned.png                    True   \n",
       "4  361_2pruned_5-frenchhorn_nonpruned.png                   False   \n",
       "\n",
       "   Answer.algorithms.alg2  Answer.algorithms.none img_id     img_class  \\\n",
       "0                   False                   False    388    3-chainsaw   \n",
       "1                   False                   False     64     7-gaspump   \n",
       "2                    True                   False    221    8-golfball   \n",
       "3                   False                   False    219     7-gaspump   \n",
       "4                    True                   False    361  5-frenchhorn   \n",
       "\n",
       "       alg1       alg2  nonpruned  2pruned  32pruned  \n",
       "0   2pruned  nonpruned        0.0      1.0       0.0  \n",
       "1  32pruned  nonpruned        0.0      0.0       1.0  \n",
       "2   2pruned  nonpruned        1.0      0.0       0.0  \n",
       "3   2pruned  nonpruned        0.0      1.0       0.0  \n",
       "4   2pruned  nonpruned        1.0      0.0       0.0  "
      ]
     },
     "execution_count": 268,
     "metadata": {},
     "output_type": "execute_result"
    }
   ],
   "source": [
    "hm_results = preprocess_experiment1_results('experiments/experiment1-jet-1000-results.csv')\n",
    "hm_results.head()"
   ]
  },
  {
   "cell_type": "code",
   "execution_count": 269,
   "id": "521514a4-9107-4d38-9deb-f26f5bd5d3dd",
   "metadata": {},
   "outputs": [
    {
     "data": {
      "text/plain": [
       "1000"
      ]
     },
     "execution_count": 269,
     "metadata": {},
     "output_type": "execute_result"
    }
   ],
   "source": [
    "# How many datapoints\n",
    "len(hm_results)"
   ]
  },
  {
   "cell_type": "code",
   "execution_count": 274,
   "id": "ea516c0c-438b-4ac7-994f-024f5bda2c86",
   "metadata": {},
   "outputs": [
    {
     "data": {
      "text/plain": [
       "False    0.712\n",
       "True     0.288\n",
       "Name: Answer.algorithms.none, dtype: float64"
      ]
     },
     "execution_count": 274,
     "metadata": {},
     "output_type": "execute_result"
    }
   ],
   "source": [
    "# 'Both algorithms equally reasonable'\n",
    "# A lot less equally reasonable than with occlusion maps on top!\n",
    "hm_results['Answer.algorithms.none'].value_counts(normalize=True)"
   ]
  },
  {
   "cell_type": "code",
   "execution_count": null,
   "id": "02d61477-f406-4721-8b03-1e84a3e392f9",
   "metadata": {},
   "outputs": [],
   "source": []
  },
  {
   "cell_type": "markdown",
   "id": "33adb0f5-6f9c-4189-8fcc-642e0a418a63",
   "metadata": {},
   "source": [
    "### 2Pruned VS Non-Pruned"
   ]
  },
  {
   "cell_type": "code",
   "execution_count": 275,
   "id": "2f6f54dc-35c0-4b25-b722-54de1c88b547",
   "metadata": {},
   "outputs": [
    {
     "data": {
      "text/plain": [
       "2500"
      ]
     },
     "execution_count": 275,
     "metadata": {},
     "output_type": "execute_result"
    }
   ],
   "source": [
    "# Compare non-pruned VS 2pruned\n",
    "hm_results_np_2 = hm_results.loc[(hm_results['alg1'] == '2pruned') | (hm_results['alg2'] == '2pruned')]\n",
    "len(np_2)"
   ]
  },
  {
   "cell_type": "code",
   "execution_count": 276,
   "id": "4882922b-517f-472b-9339-d780fa629c7c",
   "metadata": {},
   "outputs": [
    {
     "data": {
      "text/plain": [
       "(False    0.562\n",
       " True     0.438\n",
       " Name: Answer.algorithms.none, dtype: float64,\n",
       " False    281\n",
       " True     219\n",
       " Name: Answer.algorithms.none, dtype: int64)"
      ]
     },
     "execution_count": 276,
     "metadata": {},
     "output_type": "execute_result"
    }
   ],
   "source": [
    "# 'Both algorithms equally reasonable'\n",
    "hm_results_np_2['Answer.algorithms.none'].value_counts(normalize=True), hm_results_np_2['Answer.algorithms.none'].value_counts()"
   ]
  },
  {
   "cell_type": "code",
   "execution_count": 280,
   "id": "e3719c7f-bece-4c69-acbc-944125f9757b",
   "metadata": {},
   "outputs": [
    {
     "data": {
      "text/plain": [
       "(1.0    144\n",
       " 0.0    137\n",
       " Name: nonpruned, dtype: int64,\n",
       " 0.0    144\n",
       " 1.0    137\n",
       " Name: 2pruned, dtype: int64)"
      ]
     },
     "execution_count": 280,
     "metadata": {},
     "output_type": "execute_result"
    }
   ],
   "source": [
    "# How often was non-pruned more reasonable than 2pruned?\n",
    "hm_results_np_2.loc[hm_results_np_2['Answer.algorithms.none'] == 0]['nonpruned'].value_counts(), hm_results_np_2.loc[hm_results_np_2['Answer.algorithms.none'] == 0]['2pruned'].value_counts()"
   ]
  },
  {
   "cell_type": "code",
   "execution_count": null,
   "id": "13e7231b-93cd-4325-ab96-7c6304923fe1",
   "metadata": {},
   "outputs": [],
   "source": []
  },
  {
   "cell_type": "markdown",
   "id": "4841c219-bdec-4f15-a064-4ad7f6578ef7",
   "metadata": {},
   "source": [
    "### 32Pruned VS Non-Pruned"
   ]
  },
  {
   "cell_type": "code",
   "execution_count": 277,
   "id": "27c39bab-9921-4346-8fcd-48d1835c8cbb",
   "metadata": {},
   "outputs": [
    {
     "data": {
      "text/plain": [
       "2500"
      ]
     },
     "execution_count": 277,
     "metadata": {},
     "output_type": "execute_result"
    }
   ],
   "source": [
    "# Compare non-pruned VS 32pruned\n",
    "hm_results_np_32 = hm_results.loc[(hm_results['alg1'] == '32pruned') | (hm_results['alg2'] == '32pruned')]\n",
    "len(np_32)"
   ]
  },
  {
   "cell_type": "code",
   "execution_count": 278,
   "id": "6f640a80-96b7-4a47-89c6-c9533cf8586c",
   "metadata": {},
   "outputs": [
    {
     "data": {
      "text/plain": [
       "(False    431\n",
       " True      69\n",
       " Name: Answer.algorithms.none, dtype: int64,\n",
       " False    0.862\n",
       " True     0.138\n",
       " Name: Answer.algorithms.none, dtype: float64)"
      ]
     },
     "execution_count": 278,
     "metadata": {},
     "output_type": "execute_result"
    }
   ],
   "source": [
    "# 'Both algorithms equally reasonable'\n",
    "hm_results_np_32['Answer.algorithms.none'].value_counts(), hm_results_np_32['Answer.algorithms.none'].value_counts(normalize=True)"
   ]
  },
  {
   "cell_type": "code",
   "execution_count": 281,
   "id": "69980a4b-58dc-4b39-b9ed-84351df22fd3",
   "metadata": {},
   "outputs": [
    {
     "data": {
      "text/plain": [
       "(1.0    234\n",
       " 0.0    197\n",
       " Name: nonpruned, dtype: int64,\n",
       " 0.0    234\n",
       " 1.0    197\n",
       " Name: 32pruned, dtype: int64)"
      ]
     },
     "execution_count": 281,
     "metadata": {},
     "output_type": "execute_result"
    }
   ],
   "source": [
    "# How often was non-pruned more reasonable than 32pruned?\n",
    "hm_results_np_32.loc[hm_results_np_32['Answer.algorithms.none'] == 0]['nonpruned'].value_counts(), hm_results_np_32.loc[hm_results_np_32['Answer.algorithms.none'] == 0]['32pruned'].value_counts()"
   ]
  },
  {
   "cell_type": "code",
   "execution_count": null,
   "id": "caab247e-8f3c-4131-b0a5-78f943964817",
   "metadata": {},
   "outputs": [],
   "source": []
  },
  {
   "cell_type": "code",
   "execution_count": null,
   "id": "d8d6e7a5-be71-4d91-928e-4dcb4a9700b0",
   "metadata": {},
   "outputs": [],
   "source": []
  },
  {
   "cell_type": "code",
   "execution_count": null,
   "id": "a8980368-2d24-4794-8650-52e39f7876a8",
   "metadata": {},
   "outputs": [],
   "source": []
  },
  {
   "cell_type": "markdown",
   "id": "3cc410c5-5741-448d-9790-cf66417f0fb9",
   "metadata": {},
   "source": [
    "# Experiment 2 - What is on the picture?\n",
    "Given Parts of an Image, choose what you see on the Image\n",
    "\n",
    "You will be shown parts of an image. Based on what you see on the image, choose one of the ten categories.\n",
    "\n",
    "You will be shown parts of an image. Based on what you see on the image, choose one of the ten categories below.\n",
    "If you are not sure what is on the image, choose 'I don't know / None of the above'."
   ]
  },
  {
   "cell_type": "code",
   "execution_count": 331,
   "id": "9605f33c-24d3-49a4-8b35-a38c2a465b9f",
   "metadata": {},
   "outputs": [],
   "source": [
    "def preprocess_experiment2_results(path):\n",
    "    exp2 = pd.read_csv(path)\n",
    "    columns = ['HITId'\n",
    "           , 'WorkerId'\n",
    "           , 'Input.image_url'\n",
    "           , 'Answer.classes.0-fish'\n",
    "           , 'Answer.classes.1-dog'\n",
    "           , 'Answer.classes.2-cassetteplayer'\n",
    "           , 'Answer.classes.3-chainsaw'\n",
    "           , 'Answer.classes.4-church'\n",
    "           , 'Answer.classes.5-frenchhorn'\n",
    "           , 'Answer.classes.6-garbagetruck'\n",
    "           , 'Answer.classes.7-gaspump'\n",
    "           , 'Answer.classes.8-golfball'\n",
    "           , 'Answer.classes.9-parachute'\n",
    "           , 'Answer.classes.none']\n",
    "    exp2 = exp2[columns]\n",
    "    \n",
    "    # Extract the img_id, image_class and algorithms of the image_url\n",
    "    exp2['img_id'] = exp2['Input.image_url'].str.split('_').apply(lambda x: x[0])\n",
    "    exp2['img_class'] = exp2['Input.image_url'].str.split('_').apply(lambda x: x[1])\n",
    "    exp2['algorithm'] = exp2['Input.image_url'].str.split('_').apply(lambda x: x[2])\n",
    "    exp2['algorithm'] = exp2['algorithm'].str.split('.').apply(lambda x: x[0])\n",
    "    \n",
    "    # Create column with 1.0 for correct, 0.0 for wrong\n",
    "    for label in classes:\n",
    "        exp2.loc[(exp2['img_class'] == label) & (exp2['Answer.classes.{}'.format(label)] == True), 'correct'] = 1\n",
    "        exp2['correct'].fillna(0, inplace=True)\n",
    "    \n",
    "    return exp2"
   ]
  },
  {
   "cell_type": "code",
   "execution_count": 332,
   "id": "e171ca00-7c2a-42d9-9a9b-bbed663f8d2a",
   "metadata": {},
   "outputs": [],
   "source": [
    "# Imagenette Classes\n",
    "classes = ['0-fish', \n",
    "           '1-dog', \n",
    "           '2-cassetteplayer', \n",
    "           '3-chainsaw',\n",
    "           '4-church', \n",
    "           '5-frenchhorn', \n",
    "           '6-garbagetruck', \n",
    "           '7-gaspump', \n",
    "           '8-golfball', \n",
    "           '9-parachute']"
   ]
  },
  {
   "cell_type": "code",
   "execution_count": 333,
   "id": "d6bfb7b0-a2f9-4b67-9107-bc5062f769d4",
   "metadata": {},
   "outputs": [
    {
     "data": {
      "text/html": [
       "<div>\n",
       "<style scoped>\n",
       "    .dataframe tbody tr th:only-of-type {\n",
       "        vertical-align: middle;\n",
       "    }\n",
       "\n",
       "    .dataframe tbody tr th {\n",
       "        vertical-align: top;\n",
       "    }\n",
       "\n",
       "    .dataframe thead th {\n",
       "        text-align: right;\n",
       "    }\n",
       "</style>\n",
       "<table border=\"1\" class=\"dataframe\">\n",
       "  <thead>\n",
       "    <tr style=\"text-align: right;\">\n",
       "      <th></th>\n",
       "      <th>HITId</th>\n",
       "      <th>WorkerId</th>\n",
       "      <th>Input.image_url</th>\n",
       "      <th>Answer.classes.0-fish</th>\n",
       "      <th>Answer.classes.1-dog</th>\n",
       "      <th>Answer.classes.2-cassetteplayer</th>\n",
       "      <th>Answer.classes.3-chainsaw</th>\n",
       "      <th>Answer.classes.4-church</th>\n",
       "      <th>Answer.classes.5-frenchhorn</th>\n",
       "      <th>Answer.classes.6-garbagetruck</th>\n",
       "      <th>Answer.classes.7-gaspump</th>\n",
       "      <th>Answer.classes.8-golfball</th>\n",
       "      <th>Answer.classes.9-parachute</th>\n",
       "      <th>Answer.classes.none</th>\n",
       "      <th>img_id</th>\n",
       "      <th>img_class</th>\n",
       "      <th>algorithm</th>\n",
       "      <th>correct</th>\n",
       "    </tr>\n",
       "  </thead>\n",
       "  <tbody>\n",
       "    <tr>\n",
       "      <th>0</th>\n",
       "      <td>3X4Q1O9UCP86BS7E0MSDJPZ25G47OP</td>\n",
       "      <td>ARUXF7MD6PFIJ</td>\n",
       "      <td>379_2-cassetteplayer_nonpruned.png</td>\n",
       "      <td>False</td>\n",
       "      <td>False</td>\n",
       "      <td>True</td>\n",
       "      <td>False</td>\n",
       "      <td>False</td>\n",
       "      <td>False</td>\n",
       "      <td>False</td>\n",
       "      <td>False</td>\n",
       "      <td>False</td>\n",
       "      <td>False</td>\n",
       "      <td>False</td>\n",
       "      <td>379</td>\n",
       "      <td>2-cassetteplayer</td>\n",
       "      <td>nonpruned</td>\n",
       "      <td>1.0</td>\n",
       "    </tr>\n",
       "    <tr>\n",
       "      <th>1</th>\n",
       "      <td>3X4Q1O9UCP86BS7E0MSDJPZ25G47OP</td>\n",
       "      <td>A3OSGBQXGDDRT5</td>\n",
       "      <td>379_2-cassetteplayer_nonpruned.png</td>\n",
       "      <td>False</td>\n",
       "      <td>False</td>\n",
       "      <td>True</td>\n",
       "      <td>False</td>\n",
       "      <td>False</td>\n",
       "      <td>False</td>\n",
       "      <td>False</td>\n",
       "      <td>False</td>\n",
       "      <td>False</td>\n",
       "      <td>False</td>\n",
       "      <td>False</td>\n",
       "      <td>379</td>\n",
       "      <td>2-cassetteplayer</td>\n",
       "      <td>nonpruned</td>\n",
       "      <td>1.0</td>\n",
       "    </tr>\n",
       "    <tr>\n",
       "      <th>2</th>\n",
       "      <td>3X4Q1O9UCP86BS7E0MSDJPZ25G47OP</td>\n",
       "      <td>A18V8FRN40LJ4J</td>\n",
       "      <td>379_2-cassetteplayer_nonpruned.png</td>\n",
       "      <td>False</td>\n",
       "      <td>False</td>\n",
       "      <td>True</td>\n",
       "      <td>False</td>\n",
       "      <td>False</td>\n",
       "      <td>False</td>\n",
       "      <td>False</td>\n",
       "      <td>False</td>\n",
       "      <td>False</td>\n",
       "      <td>False</td>\n",
       "      <td>False</td>\n",
       "      <td>379</td>\n",
       "      <td>2-cassetteplayer</td>\n",
       "      <td>nonpruned</td>\n",
       "      <td>1.0</td>\n",
       "    </tr>\n",
       "    <tr>\n",
       "      <th>3</th>\n",
       "      <td>3X4Q1O9UCP86BS7E0MSDJPZ25G47OP</td>\n",
       "      <td>A3TYCJO2DG3RMH</td>\n",
       "      <td>379_2-cassetteplayer_nonpruned.png</td>\n",
       "      <td>False</td>\n",
       "      <td>False</td>\n",
       "      <td>True</td>\n",
       "      <td>False</td>\n",
       "      <td>False</td>\n",
       "      <td>False</td>\n",
       "      <td>False</td>\n",
       "      <td>False</td>\n",
       "      <td>False</td>\n",
       "      <td>False</td>\n",
       "      <td>False</td>\n",
       "      <td>379</td>\n",
       "      <td>2-cassetteplayer</td>\n",
       "      <td>nonpruned</td>\n",
       "      <td>1.0</td>\n",
       "    </tr>\n",
       "    <tr>\n",
       "      <th>4</th>\n",
       "      <td>3X4Q1O9UCP86BS7E0MSDJPZ25G47OP</td>\n",
       "      <td>A1BZNPQ0H7ZSER</td>\n",
       "      <td>379_2-cassetteplayer_nonpruned.png</td>\n",
       "      <td>False</td>\n",
       "      <td>False</td>\n",
       "      <td>True</td>\n",
       "      <td>False</td>\n",
       "      <td>False</td>\n",
       "      <td>False</td>\n",
       "      <td>False</td>\n",
       "      <td>False</td>\n",
       "      <td>False</td>\n",
       "      <td>False</td>\n",
       "      <td>False</td>\n",
       "      <td>379</td>\n",
       "      <td>2-cassetteplayer</td>\n",
       "      <td>nonpruned</td>\n",
       "      <td>1.0</td>\n",
       "    </tr>\n",
       "  </tbody>\n",
       "</table>\n",
       "</div>"
      ],
      "text/plain": [
       "                            HITId        WorkerId  \\\n",
       "0  3X4Q1O9UCP86BS7E0MSDJPZ25G47OP   ARUXF7MD6PFIJ   \n",
       "1  3X4Q1O9UCP86BS7E0MSDJPZ25G47OP  A3OSGBQXGDDRT5   \n",
       "2  3X4Q1O9UCP86BS7E0MSDJPZ25G47OP  A18V8FRN40LJ4J   \n",
       "3  3X4Q1O9UCP86BS7E0MSDJPZ25G47OP  A3TYCJO2DG3RMH   \n",
       "4  3X4Q1O9UCP86BS7E0MSDJPZ25G47OP  A1BZNPQ0H7ZSER   \n",
       "\n",
       "                      Input.image_url  Answer.classes.0-fish  \\\n",
       "0  379_2-cassetteplayer_nonpruned.png                  False   \n",
       "1  379_2-cassetteplayer_nonpruned.png                  False   \n",
       "2  379_2-cassetteplayer_nonpruned.png                  False   \n",
       "3  379_2-cassetteplayer_nonpruned.png                  False   \n",
       "4  379_2-cassetteplayer_nonpruned.png                  False   \n",
       "\n",
       "   Answer.classes.1-dog  Answer.classes.2-cassetteplayer  \\\n",
       "0                 False                             True   \n",
       "1                 False                             True   \n",
       "2                 False                             True   \n",
       "3                 False                             True   \n",
       "4                 False                             True   \n",
       "\n",
       "   Answer.classes.3-chainsaw  Answer.classes.4-church  \\\n",
       "0                      False                    False   \n",
       "1                      False                    False   \n",
       "2                      False                    False   \n",
       "3                      False                    False   \n",
       "4                      False                    False   \n",
       "\n",
       "   Answer.classes.5-frenchhorn  Answer.classes.6-garbagetruck  \\\n",
       "0                        False                          False   \n",
       "1                        False                          False   \n",
       "2                        False                          False   \n",
       "3                        False                          False   \n",
       "4                        False                          False   \n",
       "\n",
       "   Answer.classes.7-gaspump  Answer.classes.8-golfball  \\\n",
       "0                     False                      False   \n",
       "1                     False                      False   \n",
       "2                     False                      False   \n",
       "3                     False                      False   \n",
       "4                     False                      False   \n",
       "\n",
       "   Answer.classes.9-parachute  Answer.classes.none img_id         img_class  \\\n",
       "0                       False                False    379  2-cassetteplayer   \n",
       "1                       False                False    379  2-cassetteplayer   \n",
       "2                       False                False    379  2-cassetteplayer   \n",
       "3                       False                False    379  2-cassetteplayer   \n",
       "4                       False                False    379  2-cassetteplayer   \n",
       "\n",
       "   algorithm  correct  \n",
       "0  nonpruned      1.0  \n",
       "1  nonpruned      1.0  \n",
       "2  nonpruned      1.0  \n",
       "3  nonpruned      1.0  \n",
       "4  nonpruned      1.0  "
      ]
     },
     "execution_count": 333,
     "metadata": {},
     "output_type": "execute_result"
    }
   ],
   "source": [
    "# Load CSV\n",
    "exp2 = preprocess_experiment2_results('experiments/experiment2-7500-results.csv')\n",
    "exp2.head(5)"
   ]
  },
  {
   "cell_type": "code",
   "execution_count": 320,
   "id": "7240f766-807f-4071-88aa-b79fe1538cd2",
   "metadata": {},
   "outputs": [
    {
     "data": {
      "text/plain": [
       "7500"
      ]
     },
     "execution_count": 320,
     "metadata": {},
     "output_type": "execute_result"
    }
   ],
   "source": [
    "# Total of 7500 answers\n",
    "len(exp2)"
   ]
  },
  {
   "cell_type": "code",
   "execution_count": 321,
   "id": "68a835cf-cb8a-4c4e-b025-244c52b258ef",
   "metadata": {},
   "outputs": [
    {
     "data": {
      "text/plain": [
       "5-frenchhorn        750\n",
       "6-garbagetruck      750\n",
       "7-gaspump           750\n",
       "2-cassetteplayer    750\n",
       "1-dog               750\n",
       "4-church            750\n",
       "8-golfball          750\n",
       "9-parachute         750\n",
       "3-chainsaw          750\n",
       "0-fish              750\n",
       "Name: img_class, dtype: int64"
      ]
     },
     "execution_count": 321,
     "metadata": {},
     "output_type": "execute_result"
    }
   ],
   "source": [
    "# Check if every class was answered 750 times\n",
    "exp2['img_class'].value_counts()"
   ]
  },
  {
   "cell_type": "markdown",
   "id": "d55d131b-4177-4418-9a09-8a6cec0b23c4",
   "metadata": {},
   "source": [
    "## Overall: Correct per Class and per Models"
   ]
  },
  {
   "cell_type": "code",
   "execution_count": 326,
   "id": "dca78edd-4c8b-4566-a56a-56dde2fdb3ca",
   "metadata": {},
   "outputs": [
    {
     "data": {
      "text/plain": [
       "5-frenchhorn        706\n",
       "1-dog               703\n",
       "8-golfball          702\n",
       "4-church            665\n",
       "0-fish              650\n",
       "6-garbagetruck      646\n",
       "9-parachute         613\n",
       "2-cassetteplayer    599\n",
       "7-gaspump           594\n",
       "3-chainsaw          461\n",
       "Name: img_class, dtype: int64"
      ]
     },
     "execution_count": 326,
     "metadata": {},
     "output_type": "execute_result"
    }
   ],
   "source": [
    "# Overview of how many correct per class for all three models, maximum = 750 per class\n",
    "exp2['img_class'].loc[(exp2['correct'] == 1)].value_counts()"
   ]
  },
  {
   "cell_type": "code",
   "execution_count": 327,
   "id": "5c0442d3-c3d0-4d5f-a080-8358fd0e3959",
   "metadata": {},
   "outputs": [
    {
     "data": {
      "text/plain": [
       "2pruned.png      2160\n",
       "nonpruned.png    2146\n",
       "32pruned.png     2033\n",
       "Name: algorithm, dtype: int64"
      ]
     },
     "execution_count": 327,
     "metadata": {},
     "output_type": "execute_result"
    }
   ],
   "source": [
    "# Overview of how many correct per model, per model maximum = 2500; total 7500\n",
    "exp2['algorithm'].loc[(exp2['correct'] == 1)].value_counts()"
   ]
  },
  {
   "cell_type": "code",
   "execution_count": 339,
   "id": "c73b5bcc-a59d-4b2c-84dc-aae0d9482f70",
   "metadata": {},
   "outputs": [
    {
     "name": "stdout",
     "output_type": "stream",
     "text": [
      "0-fish\n",
      "2pruned      231\n",
      "nonpruned    228\n",
      "32pruned     191\n",
      "Name: algorithm, dtype: int64\n",
      "1-dog\n",
      "32pruned     240\n",
      "2pruned      238\n",
      "nonpruned    225\n",
      "Name: algorithm, dtype: int64\n",
      "2-cassetteplayer\n",
      "2pruned      206\n",
      "nonpruned    199\n",
      "32pruned     194\n",
      "Name: algorithm, dtype: int64\n",
      "3-chainsaw\n",
      "nonpruned    165\n",
      "2pruned      165\n",
      "32pruned     131\n",
      "Name: algorithm, dtype: int64\n",
      "4-church\n",
      "2pruned      231\n",
      "32pruned     221\n",
      "nonpruned    213\n",
      "Name: algorithm, dtype: int64\n",
      "5-frenchhorn\n",
      "32pruned     236\n",
      "nonpruned    235\n",
      "2pruned      235\n",
      "Name: algorithm, dtype: int64\n",
      "6-garbagetruck\n",
      "2pruned      220\n",
      "nonpruned    215\n",
      "32pruned     211\n",
      "Name: algorithm, dtype: int64\n",
      "7-gaspump\n",
      "nonpruned    207\n",
      "32pruned     197\n",
      "2pruned      190\n",
      "Name: algorithm, dtype: int64\n",
      "8-golfball\n",
      "2pruned      243\n",
      "nonpruned    239\n",
      "32pruned     220\n",
      "Name: algorithm, dtype: int64\n",
      "9-parachute\n",
      "nonpruned    220\n",
      "2pruned      201\n",
      "32pruned     192\n",
      "Name: algorithm, dtype: int64\n"
     ]
    }
   ],
   "source": [
    "# For each class, how many corrects differ between models:\n",
    "for label in classes:\n",
    "    print(label)\n",
    "    print(exp2['algorithm'].loc[(exp2['correct'] == 1) & (exp2['img_class'] == label)].value_counts())"
   ]
  },
  {
   "cell_type": "code",
   "execution_count": null,
   "id": "5988dcc6-a726-4ecd-a392-1db46ff7e1cf",
   "metadata": {},
   "outputs": [],
   "source": []
  },
  {
   "cell_type": "markdown",
   "id": "23dcdc20-db9b-436d-8412-ca598ad89137",
   "metadata": {},
   "source": [
    "## Non-Pruned"
   ]
  },
  {
   "cell_type": "code",
   "execution_count": 334,
   "id": "558b13b4-e0b5-43ce-b2f4-c985b75f2603",
   "metadata": {},
   "outputs": [
    {
     "data": {
      "text/plain": [
       "8-golfball          239\n",
       "5-frenchhorn        235\n",
       "0-fish              228\n",
       "1-dog               225\n",
       "9-parachute         220\n",
       "6-garbagetruck      215\n",
       "4-church            213\n",
       "7-gaspump           207\n",
       "2-cassetteplayer    199\n",
       "3-chainsaw          165\n",
       "Name: img_class, dtype: int64"
      ]
     },
     "execution_count": 334,
     "metadata": {},
     "output_type": "execute_result"
    }
   ],
   "source": [
    "# Correct answers for non-pruned, splitted by every class, maximum 250 per class\n",
    "exp2['img_class'].loc[(exp2['correct'] == 1) & (exp2['algorithm'] == 'nonpruned')].value_counts()"
   ]
  },
  {
   "cell_type": "code",
   "execution_count": null,
   "id": "974ebf0b-bfae-4c4f-9cab-9b8bf1592f7c",
   "metadata": {},
   "outputs": [],
   "source": []
  },
  {
   "cell_type": "markdown",
   "id": "e311ea40-cced-45a7-bbd8-e09d5b47bb77",
   "metadata": {},
   "source": [
    "## 2-Pruned"
   ]
  },
  {
   "cell_type": "code",
   "execution_count": 335,
   "id": "78215bc2-2a3e-4379-b5ea-25d76eb5aeda",
   "metadata": {},
   "outputs": [
    {
     "data": {
      "text/plain": [
       "8-golfball          243\n",
       "1-dog               238\n",
       "5-frenchhorn        235\n",
       "0-fish              231\n",
       "4-church            231\n",
       "6-garbagetruck      220\n",
       "2-cassetteplayer    206\n",
       "9-parachute         201\n",
       "7-gaspump           190\n",
       "3-chainsaw          165\n",
       "Name: img_class, dtype: int64"
      ]
     },
     "execution_count": 335,
     "metadata": {},
     "output_type": "execute_result"
    }
   ],
   "source": [
    "# Correct answers for 2pruned, splitted by every class, maximum 250 per class\n",
    "exp2['img_class'].loc[(exp2['correct'] == 1) & (exp2['algorithm'] == '2pruned')].value_counts()"
   ]
  },
  {
   "cell_type": "code",
   "execution_count": null,
   "id": "f4d08884-3f84-4e8c-abe0-4ccec9344138",
   "metadata": {},
   "outputs": [],
   "source": []
  },
  {
   "cell_type": "markdown",
   "id": "acaf09b3-c46a-4a1f-bed9-cf09d5377b33",
   "metadata": {},
   "source": [
    "## 32pruned"
   ]
  },
  {
   "cell_type": "code",
   "execution_count": 336,
   "id": "c260ad4a-4f34-41cd-8c8c-e091f32fadbe",
   "metadata": {},
   "outputs": [
    {
     "data": {
      "text/plain": [
       "1-dog               240\n",
       "5-frenchhorn        236\n",
       "4-church            221\n",
       "8-golfball          220\n",
       "6-garbagetruck      211\n",
       "7-gaspump           197\n",
       "2-cassetteplayer    194\n",
       "9-parachute         192\n",
       "0-fish              191\n",
       "3-chainsaw          131\n",
       "Name: img_class, dtype: int64"
      ]
     },
     "execution_count": 336,
     "metadata": {},
     "output_type": "execute_result"
    }
   ],
   "source": [
    "# Correct answers for 32pruned, splitted by every class, maximum 250 per class\n",
    "exp2['img_class'].loc[(exp2['correct'] == 1) & (exp2['algorithm'] == '32pruned')].value_counts()"
   ]
  },
  {
   "cell_type": "code",
   "execution_count": null,
   "id": "10ba33b5-6f26-4351-9dba-e3334693a7b4",
   "metadata": {},
   "outputs": [],
   "source": []
  },
  {
   "cell_type": "code",
   "execution_count": null,
   "id": "c7a20b0e-5687-475a-824c-ff63431d9345",
   "metadata": {},
   "outputs": [],
   "source": [
    "chisquare([231, 191], [228, 228])"
   ]
  },
  {
   "cell_type": "code",
   "execution_count": null,
   "id": "684f8f19-99fc-4cd2-92b6-494c8e33ade2",
   "metadata": {},
   "outputs": [],
   "source": []
  }
 ],
 "metadata": {
  "kernelspec": {
   "display_name": "masterthesis",
   "language": "python",
   "name": "masterthesis"
  },
  "language_info": {
   "codemirror_mode": {
    "name": "ipython",
    "version": 3
   },
   "file_extension": ".py",
   "mimetype": "text/x-python",
   "name": "python",
   "nbconvert_exporter": "python",
   "pygments_lexer": "ipython3",
   "version": "3.8.8"
  }
 },
 "nbformat": 4,
 "nbformat_minor": 5
}
