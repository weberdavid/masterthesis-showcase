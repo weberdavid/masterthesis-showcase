{
 "cells": [
  {
   "cell_type": "markdown",
   "id": "8e4dbd6f-00da-4834-95b5-a39d1764f5d1",
   "metadata": {},
   "source": [
    "# TO DO\n",
    "- example pictures to support results\n",
    "    - experiment 2: images not recognized at all - always like that?\n",
    "- explorative analysis\n",
    "    - due to the novelty of the field\n",
    "    \n",
    "Experiment 1:\n",
    "\n",
    "Experiment 2:\n",
    "- Table with percentage differences among models and classes (+, 0, -)"
   ]
  },
  {
   "cell_type": "code",
   "execution_count": 493,
   "id": "0615eb3a-e9df-4e5c-bbc8-e8fe51b7f9b5",
   "metadata": {},
   "outputs": [],
   "source": [
    "import numpy as np\n",
    "import pandas as pd\n",
    "import matplotlib.pyplot as plt\n",
    "%matplotlib inline\n",
    "\n",
    "# Krippendorff's Alpha\n",
    "import simpledorff\n",
    "\n",
    "from scipy.stats import chisquare\n",
    "from sklearn.metrics import confusion_matrix, ConfusionMatrixDisplay"
   ]
  },
  {
   "cell_type": "code",
   "execution_count": 504,
   "id": "54757413-d70b-4523-a08d-89bd73847b87",
   "metadata": {},
   "outputs": [],
   "source": [
    "# Experiment 1 preprocessing of data\n",
    "def preprocess_experiment1_results(path):\n",
    "    data = pd.read_csv(path)\n",
    "    columns = ['HITId', 'WorkerId', 'Input.image_url', 'Answer.algorithms.alg1', 'Answer.algorithms.alg2', 'Answer.algorithms.none']\n",
    "    data = data[columns]\n",
    "    \n",
    "    # Extract the img_id, image_class and algorithms of the image_url\n",
    "    data['img_id'] = data['Input.image_url'].str.split('_').apply(lambda x: x[0])\n",
    "    data['img_class'] = data['Input.image_url'].str.split('_').apply(lambda x: x[2])\n",
    "    data['alg1'] = data['Input.image_url'].str.split('_').apply(lambda x: x[1])\n",
    "    data['alg2'] = data['Input.image_url'].str.split('_').apply(lambda x: x[3].split('.')[0])\n",
    "    \n",
    "    # Get all answers, where nonpruned was voted as more reasonable and set a new column 'nonpruned' to 1 for those cases, the others get 0\n",
    "    data.loc[((data['Answer.algorithms.alg1'] == True) & (data['alg1'] == 'nonpruned') |\n",
    "              (data['Answer.algorithms.alg2'] == True) & (data['alg2'] == 'nonpruned')), 'nonpruned'] = 1\n",
    "    data['nonpruned'].fillna(0, inplace=True)\n",
    "    \n",
    "    # Get all answers, where 2pruned was voted as more reasonable and set a new column '2pruned' to 1 for those cases, the others get 0\n",
    "    data.loc[((data['Answer.algorithms.alg1'] == True) & (data['alg1'] == '2pruned') |\n",
    "              (data['Answer.algorithms.alg2'] == True) & (data['alg2'] == '2pruned')), '2pruned'] = 1\n",
    "    data['2pruned'].fillna(0, inplace=True)\n",
    "    \n",
    "    # Get all answers, where 32pruned was voted as more reasonable and set a new column '32pruned' to 1 for those cases, the others get 0\n",
    "    data.loc[((data['Answer.algorithms.alg1'] == True) & (data['alg1'] == '32pruned') |\n",
    "              (data['Answer.algorithms.alg2'] == True) & (data['alg2'] == '32pruned')), '32pruned'] = 1\n",
    "    data['32pruned'].fillna(0, inplace=True)\n",
    "    \n",
    "    data.loc[data['Answer.algorithms.alg1']==True, 'annotation_result'] = 'alg1'\n",
    "    data.loc[data['Answer.algorithms.alg2']==True, 'annotation_result'] = 'alg2'\n",
    "    data.loc[data['Answer.algorithms.none']==True, 'annotation_result'] = 'none'\n",
    "    \n",
    "    return data"
   ]
  },
  {
   "cell_type": "markdown",
   "id": "9310c08d-0eb8-4396-b056-a14cd8722a82",
   "metadata": {},
   "source": [
    "# Experiment 1 - Class-Specific Image Parts \n",
    "This experiment investigates the reasonability of algorithms when they classify images. You will decide which of the algorithms makes a more reasonable decision based on the parts of the image it uses for its decision.\n",
    "\n",
    "This experiment investigates the reasonability of algorithms when they classify images.\n",
    "The image in the middle is the original image with its predicted class shown above the image.\n",
    "The images on the left and right show only parts of the image that seem most important to the algorithm.\n",
    "You will decide which of the algorithms makes a more reasonable decision based on the parts of the image it uses for its decision.\n",
    "If you think that none of the algorithms seems more reasonable than the other, select \"Both algorithms seem equally reasonable\"."
   ]
  },
  {
   "cell_type": "markdown",
   "id": "bb8dfa34-28d1-4c8d-9b32-1c152836ccab",
   "metadata": {},
   "source": [
    "Some rows not filled with any '1' show that \"Both algorithms equally reasonable\" were chosen. These are ignored / left for now.\n",
    "- Maybe they should be removed?\n",
    "- Somehow put into the calculation / test later on?"
   ]
  },
  {
   "cell_type": "code",
   "execution_count": 505,
   "id": "f264d6ac-8598-49ed-a3c2-3a5fd5eb53f4",
   "metadata": {},
   "outputs": [
    {
     "data": {
      "text/html": [
       "<div>\n",
       "<style scoped>\n",
       "    .dataframe tbody tr th:only-of-type {\n",
       "        vertical-align: middle;\n",
       "    }\n",
       "\n",
       "    .dataframe tbody tr th {\n",
       "        vertical-align: top;\n",
       "    }\n",
       "\n",
       "    .dataframe thead th {\n",
       "        text-align: right;\n",
       "    }\n",
       "</style>\n",
       "<table border=\"1\" class=\"dataframe\">\n",
       "  <thead>\n",
       "    <tr style=\"text-align: right;\">\n",
       "      <th></th>\n",
       "      <th>HITId</th>\n",
       "      <th>WorkerId</th>\n",
       "      <th>Input.image_url</th>\n",
       "      <th>Answer.algorithms.alg1</th>\n",
       "      <th>Answer.algorithms.alg2</th>\n",
       "      <th>Answer.algorithms.none</th>\n",
       "      <th>img_id</th>\n",
       "      <th>img_class</th>\n",
       "      <th>alg1</th>\n",
       "      <th>alg2</th>\n",
       "      <th>nonpruned</th>\n",
       "      <th>2pruned</th>\n",
       "      <th>32pruned</th>\n",
       "      <th>annotation_result</th>\n",
       "    </tr>\n",
       "  </thead>\n",
       "  <tbody>\n",
       "    <tr>\n",
       "      <th>0</th>\n",
       "      <td>3GITHABAD67H76AWTVB589IP4QCN29</td>\n",
       "      <td>A3A1PY8GLGYRR5</td>\n",
       "      <td>167_32pruned_2-cassetteplayer_nonpruned.png</td>\n",
       "      <td>False</td>\n",
       "      <td>False</td>\n",
       "      <td>True</td>\n",
       "      <td>167</td>\n",
       "      <td>2-cassetteplayer</td>\n",
       "      <td>32pruned</td>\n",
       "      <td>nonpruned</td>\n",
       "      <td>0.0</td>\n",
       "      <td>0.0</td>\n",
       "      <td>0.0</td>\n",
       "      <td>none</td>\n",
       "    </tr>\n",
       "    <tr>\n",
       "      <th>1</th>\n",
       "      <td>3D4BBDG70PIN1K9O85GWB8T5B0Y3CI</td>\n",
       "      <td>AV5TLLCULVF0P</td>\n",
       "      <td>8_2pruned_2-cassetteplayer_nonpruned.png</td>\n",
       "      <td>False</td>\n",
       "      <td>True</td>\n",
       "      <td>False</td>\n",
       "      <td>8</td>\n",
       "      <td>2-cassetteplayer</td>\n",
       "      <td>2pruned</td>\n",
       "      <td>nonpruned</td>\n",
       "      <td>1.0</td>\n",
       "      <td>0.0</td>\n",
       "      <td>0.0</td>\n",
       "      <td>alg2</td>\n",
       "    </tr>\n",
       "    <tr>\n",
       "      <th>2</th>\n",
       "      <td>3Z56AA6ELCMZ7P8X4W88L7A1F556MA</td>\n",
       "      <td>A250KKS1WKKUFY</td>\n",
       "      <td>360_2pruned_4-church_nonpruned.png</td>\n",
       "      <td>False</td>\n",
       "      <td>False</td>\n",
       "      <td>True</td>\n",
       "      <td>360</td>\n",
       "      <td>4-church</td>\n",
       "      <td>2pruned</td>\n",
       "      <td>nonpruned</td>\n",
       "      <td>0.0</td>\n",
       "      <td>0.0</td>\n",
       "      <td>0.0</td>\n",
       "      <td>none</td>\n",
       "    </tr>\n",
       "    <tr>\n",
       "      <th>3</th>\n",
       "      <td>3OKP4QVBQAJ02HOEJ6RPO7SQF2IAGV</td>\n",
       "      <td>A2U9OZCL9ULYLZ</td>\n",
       "      <td>235_32pruned_8-golfball_nonpruned.png</td>\n",
       "      <td>False</td>\n",
       "      <td>False</td>\n",
       "      <td>True</td>\n",
       "      <td>235</td>\n",
       "      <td>8-golfball</td>\n",
       "      <td>32pruned</td>\n",
       "      <td>nonpruned</td>\n",
       "      <td>0.0</td>\n",
       "      <td>0.0</td>\n",
       "      <td>0.0</td>\n",
       "      <td>none</td>\n",
       "    </tr>\n",
       "    <tr>\n",
       "      <th>4</th>\n",
       "      <td>36FQTHX30BD4RFHIU5K10ONNTFY3BB</td>\n",
       "      <td>A3NXNCQ5PD9LO2</td>\n",
       "      <td>62_32pruned_3-chainsaw_nonpruned.png</td>\n",
       "      <td>False</td>\n",
       "      <td>False</td>\n",
       "      <td>True</td>\n",
       "      <td>62</td>\n",
       "      <td>3-chainsaw</td>\n",
       "      <td>32pruned</td>\n",
       "      <td>nonpruned</td>\n",
       "      <td>0.0</td>\n",
       "      <td>0.0</td>\n",
       "      <td>0.0</td>\n",
       "      <td>none</td>\n",
       "    </tr>\n",
       "  </tbody>\n",
       "</table>\n",
       "</div>"
      ],
      "text/plain": [
       "                            HITId        WorkerId  \\\n",
       "0  3GITHABAD67H76AWTVB589IP4QCN29  A3A1PY8GLGYRR5   \n",
       "1  3D4BBDG70PIN1K9O85GWB8T5B0Y3CI   AV5TLLCULVF0P   \n",
       "2  3Z56AA6ELCMZ7P8X4W88L7A1F556MA  A250KKS1WKKUFY   \n",
       "3  3OKP4QVBQAJ02HOEJ6RPO7SQF2IAGV  A2U9OZCL9ULYLZ   \n",
       "4  36FQTHX30BD4RFHIU5K10ONNTFY3BB  A3NXNCQ5PD9LO2   \n",
       "\n",
       "                               Input.image_url  Answer.algorithms.alg1  \\\n",
       "0  167_32pruned_2-cassetteplayer_nonpruned.png                   False   \n",
       "1     8_2pruned_2-cassetteplayer_nonpruned.png                   False   \n",
       "2           360_2pruned_4-church_nonpruned.png                   False   \n",
       "3        235_32pruned_8-golfball_nonpruned.png                   False   \n",
       "4         62_32pruned_3-chainsaw_nonpruned.png                   False   \n",
       "\n",
       "   Answer.algorithms.alg2  Answer.algorithms.none img_id         img_class  \\\n",
       "0                   False                    True    167  2-cassetteplayer   \n",
       "1                    True                   False      8  2-cassetteplayer   \n",
       "2                   False                    True    360          4-church   \n",
       "3                   False                    True    235        8-golfball   \n",
       "4                   False                    True     62        3-chainsaw   \n",
       "\n",
       "       alg1       alg2  nonpruned  2pruned  32pruned annotation_result  \n",
       "0  32pruned  nonpruned        0.0      0.0       0.0              none  \n",
       "1   2pruned  nonpruned        1.0      0.0       0.0              alg2  \n",
       "2   2pruned  nonpruned        0.0      0.0       0.0              none  \n",
       "3  32pruned  nonpruned        0.0      0.0       0.0              none  \n",
       "4  32pruned  nonpruned        0.0      0.0       0.0              none  "
      ]
     },
     "execution_count": 505,
     "metadata": {},
     "output_type": "execute_result"
    }
   ],
   "source": [
    "# Load and pre-process CSV\n",
    "occ_results = preprocess_experiment1_results('experiments/experiment1-7500-results.csv')\n",
    "occ_results.head(5)"
   ]
  },
  {
   "cell_type": "code",
   "execution_count": 506,
   "id": "b9cd8ad3-c854-48a5-b9a8-ca47ad7acf73",
   "metadata": {},
   "outputs": [
    {
     "data": {
      "text/plain": [
       "0.23585289563692424"
      ]
     },
     "execution_count": 506,
     "metadata": {},
     "output_type": "execute_result"
    }
   ],
   "source": [
    "# Interannotator Agreement\n",
    "simpledorff.calculate_krippendorffs_alpha_for_df(occ_results,\n",
    "                                                 experiment_col='Input.image_url',\n",
    "                                                 annotator_col='WorkerId',\n",
    "                                                 class_col='annotation_result')"
   ]
  },
  {
   "cell_type": "code",
   "execution_count": 365,
   "id": "28a4f5f4-9f5c-43cd-8cbf-41bb2f5c1e7d",
   "metadata": {},
   "outputs": [
    {
     "data": {
      "text/plain": [
       "7500"
      ]
     },
     "execution_count": 365,
     "metadata": {},
     "output_type": "execute_result"
    }
   ],
   "source": [
    "# How many datapoints\n",
    "len(occ_results)"
   ]
  },
  {
   "cell_type": "code",
   "execution_count": 543,
   "id": "8c9e10dd-0387-40f4-afcc-4ee987652a9f",
   "metadata": {},
   "outputs": [
    {
     "data": {
      "text/plain": [
       "alg1    3\n",
       "none    2\n",
       "Name: annotation_result, dtype: int64"
      ]
     },
     "execution_count": 543,
     "metadata": {},
     "output_type": "execute_result"
    }
   ],
   "source": [
    "# Maximum 3 options: alg1, alg2, none\n",
    "occ_results[occ_results['Input.image_url'].apply(lambda x: 167_32pruned_2-cassetteplayer_nonpruned.png']['annotation_result'].value_counts()"
   ]
  },
  {
   "cell_type": "code",
   "execution_count": 555,
   "id": "5f20dae3-97c2-4a60-bd25-25c67b785377",
   "metadata": {},
   "outputs": [
    {
     "data": {
      "text/html": [
       "<div>\n",
       "<style scoped>\n",
       "    .dataframe tbody tr th:only-of-type {\n",
       "        vertical-align: middle;\n",
       "    }\n",
       "\n",
       "    .dataframe tbody tr th {\n",
       "        vertical-align: top;\n",
       "    }\n",
       "\n",
       "    .dataframe thead th {\n",
       "        text-align: right;\n",
       "    }\n",
       "</style>\n",
       "<table border=\"1\" class=\"dataframe\">\n",
       "  <thead>\n",
       "    <tr style=\"text-align: right;\">\n",
       "      <th></th>\n",
       "      <th>alg1</th>\n",
       "      <th>none</th>\n",
       "      <th>alg2</th>\n",
       "    </tr>\n",
       "  </thead>\n",
       "  <tbody>\n",
       "    <tr>\n",
       "      <th>0</th>\n",
       "      <td>3.0</td>\n",
       "      <td>2.0</td>\n",
       "      <td>NaN</td>\n",
       "    </tr>\n",
       "    <tr>\n",
       "      <th>1</th>\n",
       "      <td>3.0</td>\n",
       "      <td>1.0</td>\n",
       "      <td>1.0</td>\n",
       "    </tr>\n",
       "    <tr>\n",
       "      <th>2</th>\n",
       "      <td>1.0</td>\n",
       "      <td>3.0</td>\n",
       "      <td>1.0</td>\n",
       "    </tr>\n",
       "    <tr>\n",
       "      <th>3</th>\n",
       "      <td>2.0</td>\n",
       "      <td>3.0</td>\n",
       "      <td>NaN</td>\n",
       "    </tr>\n",
       "    <tr>\n",
       "      <th>4</th>\n",
       "      <td>2.0</td>\n",
       "      <td>1.0</td>\n",
       "      <td>2.0</td>\n",
       "    </tr>\n",
       "    <tr>\n",
       "      <th>...</th>\n",
       "      <td>...</td>\n",
       "      <td>...</td>\n",
       "      <td>...</td>\n",
       "    </tr>\n",
       "    <tr>\n",
       "      <th>7495</th>\n",
       "      <td>3.0</td>\n",
       "      <td>NaN</td>\n",
       "      <td>2.0</td>\n",
       "    </tr>\n",
       "    <tr>\n",
       "      <th>7496</th>\n",
       "      <td>3.0</td>\n",
       "      <td>NaN</td>\n",
       "      <td>2.0</td>\n",
       "    </tr>\n",
       "    <tr>\n",
       "      <th>7497</th>\n",
       "      <td>3.0</td>\n",
       "      <td>NaN</td>\n",
       "      <td>2.0</td>\n",
       "    </tr>\n",
       "    <tr>\n",
       "      <th>7498</th>\n",
       "      <td>3.0</td>\n",
       "      <td>NaN</td>\n",
       "      <td>2.0</td>\n",
       "    </tr>\n",
       "    <tr>\n",
       "      <th>7499</th>\n",
       "      <td>3.0</td>\n",
       "      <td>NaN</td>\n",
       "      <td>2.0</td>\n",
       "    </tr>\n",
       "  </tbody>\n",
       "</table>\n",
       "<p>7500 rows × 3 columns</p>\n",
       "</div>"
      ],
      "text/plain": [
       "      alg1  none  alg2\n",
       "0      3.0   2.0   NaN\n",
       "1      3.0   1.0   1.0\n",
       "2      1.0   3.0   1.0\n",
       "3      2.0   3.0   NaN\n",
       "4      2.0   1.0   2.0\n",
       "...    ...   ...   ...\n",
       "7495   3.0   NaN   2.0\n",
       "7496   3.0   NaN   2.0\n",
       "7497   3.0   NaN   2.0\n",
       "7498   3.0   NaN   2.0\n",
       "7499   3.0   NaN   2.0\n",
       "\n",
       "[7500 rows x 3 columns]"
      ]
     },
     "execution_count": 555,
     "metadata": {},
     "output_type": "execute_result"
    }
   ],
   "source": [
    "#Value Counts of Answers based on image_url\n",
    "occ_results['Input.image_url'].apply(lambda x: occ_results.loc[occ_results['Input.image_url']==x]['annotation_result'].value_counts())"
   ]
  },
  {
   "cell_type": "code",
   "execution_count": null,
   "id": "a24eb3b1-e0da-4b9a-aafa-7b72115b4237",
   "metadata": {},
   "outputs": [],
   "source": [
    "# Img IDs where Turkers agree least often (maximum 15)\n",
    "occ_results.loc[occ_results['img_id'].apply(lambda x: len(occ_results.loc[(occ_results['img_id']==x) & (occ_results['img_class']==occ_results['img_answer'])])) <= 5]['Input.image_url'].unique()"
   ]
  },
  {
   "cell_type": "code",
   "execution_count": 366,
   "id": "e0f9481e-8a8d-425e-8d36-858e35eb04f0",
   "metadata": {},
   "outputs": [
    {
     "data": {
      "text/plain": [
       "2pruned      0.666667\n",
       "32pruned     0.666667\n",
       "nonpruned    0.666667\n",
       "dtype: float64"
      ]
     },
     "execution_count": 366,
     "metadata": {},
     "output_type": "execute_result"
    }
   ],
   "source": [
    "# How often did the models appear - expected: all of them same occurance\n",
    "occ_results['alg1'].value_counts(normalize=True) + occ_results['alg2'].value_counts(normalize=True)"
   ]
  },
  {
   "cell_type": "code",
   "execution_count": 367,
   "id": "e2f8a578-b782-46df-9248-0f6abd59f509",
   "metadata": {},
   "outputs": [
    {
     "data": {
      "text/plain": [
       "False    0.660667\n",
       "True     0.339333\n",
       "Name: Answer.algorithms.none, dtype: float64"
      ]
     },
     "execution_count": 367,
     "metadata": {},
     "output_type": "execute_result"
    }
   ],
   "source": [
    "# 'Both algorithms equally reasonable'\n",
    "occ_results['Answer.algorithms.none'].value_counts(normalize=True)"
   ]
  },
  {
   "cell_type": "code",
   "execution_count": 389,
   "id": "ebb36884-1e37-4952-9e15-d5bba0dae938",
   "metadata": {},
   "outputs": [
    {
     "data": {
      "text/plain": [
       "5-frenchhorn        385\n",
       "8-golfball          330\n",
       "0-fish              281\n",
       "7-gaspump           274\n",
       "3-chainsaw          247\n",
       "6-garbagetruck      228\n",
       "2-cassetteplayer    227\n",
       "9-parachute         205\n",
       "1-dog               197\n",
       "4-church            171\n",
       "Name: img_class, dtype: int64"
      ]
     },
     "execution_count": 389,
     "metadata": {},
     "output_type": "execute_result"
    }
   ],
   "source": [
    "# 'Both equally' grouped by Class\n",
    "occ_results.loc[occ_results['Answer.algorithms.none'] == True]['img_class'].value_counts()"
   ]
  },
  {
   "cell_type": "markdown",
   "id": "5ad11e71-5371-44ec-9617-0c416a794a09",
   "metadata": {},
   "source": [
    "### 2Pruned VS Non-Pruned"
   ]
  },
  {
   "cell_type": "code",
   "execution_count": 375,
   "id": "bc02f9ac-86a7-486d-a549-d71ef16319db",
   "metadata": {},
   "outputs": [
    {
     "data": {
      "text/plain": [
       "2500"
      ]
     },
     "execution_count": 375,
     "metadata": {},
     "output_type": "execute_result"
    }
   ],
   "source": [
    "# Compare non-pruned VS 2pruned\n",
    "occ_results_np_2 = occ_results.loc[((occ_results['alg1'] == '2pruned') | (occ_results['alg2'] == '2pruned')) & ((occ_results['alg1'] == 'nonpruned') | (occ_results['alg2'] == 'nonpruned'))]\n",
    "len(occ_results_np_2)"
   ]
  },
  {
   "cell_type": "code",
   "execution_count": 376,
   "id": "bf64e027-a50b-44ef-a072-3a01ab81118a",
   "metadata": {},
   "outputs": [
    {
     "data": {
      "text/plain": [
       "(True     0.5372\n",
       " False    0.4628\n",
       " Name: Answer.algorithms.none, dtype: float64,\n",
       " True     1343\n",
       " False    1157\n",
       " Name: Answer.algorithms.none, dtype: int64)"
      ]
     },
     "execution_count": 376,
     "metadata": {},
     "output_type": "execute_result"
    }
   ],
   "source": [
    "# 'Both algorithms equally reasonable'\n",
    "occ_results_np_2['Answer.algorithms.none'].value_counts(normalize=True), occ_results_np_2['Answer.algorithms.none'].value_counts()"
   ]
  },
  {
   "cell_type": "code",
   "execution_count": 385,
   "id": "26918f2d-14bb-4931-a848-6c0b99e68a49",
   "metadata": {},
   "outputs": [
    {
     "data": {
      "text/plain": [
       "8-golfball          175\n",
       "0-fish              172\n",
       "5-frenchhorn        156\n",
       "3-chainsaw          141\n",
       "7-gaspump           140\n",
       "2-cassetteplayer    128\n",
       "9-parachute         123\n",
       "6-garbagetruck      121\n",
       "1-dog               109\n",
       "4-church             78\n",
       "Name: img_class, dtype: int64"
      ]
     },
     "execution_count": 385,
     "metadata": {},
     "output_type": "execute_result"
    }
   ],
   "source": [
    "# 'Both equally' grouped by Class\n",
    "occ_results_np_2.loc[occ_results_np_2['Answer.algorithms.none'] == True]['img_class'].value_counts()"
   ]
  },
  {
   "cell_type": "code",
   "execution_count": 377,
   "id": "e9550d44-7229-4934-a672-34170ca5fcf2",
   "metadata": {},
   "outputs": [
    {
     "data": {
      "text/plain": [
       "(0.0    636\n",
       " 1.0    521\n",
       " Name: nonpruned, dtype: int64,\n",
       " 1.0    0.549697\n",
       " 0.0    0.450303\n",
       " Name: 2pruned, dtype: float64)"
      ]
     },
     "execution_count": 377,
     "metadata": {},
     "output_type": "execute_result"
    }
   ],
   "source": [
    "# How often was non-pruned more reasonable than 2pruned?\n",
    "occ_results_np_2.loc[occ_results_np_2['Answer.algorithms.none'] == 0]['nonpruned'].value_counts(), occ_results_np_2.loc[occ_results_np_2['Answer.algorithms.none'] == 0]['2pruned'].value_counts(normalize=True)"
   ]
  },
  {
   "cell_type": "code",
   "execution_count": 390,
   "id": "107353a6-bec9-4206-9ee1-3a7ac245baec",
   "metadata": {},
   "outputs": [
    {
     "data": {
      "text/plain": [
       "(Power_divergenceResult(statistic=11.430423509075194, pvalue=0.0007225121524713656),\n",
       " Power_divergenceResult(statistic=11.430423509075194, pvalue=0.0007225121524713656))"
      ]
     },
     "execution_count": 390,
     "metadata": {},
     "output_type": "execute_result"
    }
   ],
   "source": [
    "# observed values, opt: expected values (otherwise every category same likely)\n",
    "chisquare([636, 521], [578.5, 578.5]), chisquare([636, 521])"
   ]
  },
  {
   "cell_type": "code",
   "execution_count": 401,
   "id": "50d5a12a-5f86-4260-85aa-b111b6381f70",
   "metadata": {},
   "outputs": [
    {
     "data": {
      "text/plain": [
       "0-fish              14\n",
       "3-chainsaw          -5\n",
       "7-gaspump            8\n",
       "8-golfball           3\n",
       "2-cassetteplayer    28\n",
       "1-dog               63\n",
       "5-frenchhorn       -16\n",
       "6-garbagetruck       9\n",
       "4-church            22\n",
       "9-parachute        -11\n",
       "Name: img_class, dtype: int64"
      ]
     },
     "execution_count": 401,
     "metadata": {},
     "output_type": "execute_result"
    }
   ],
   "source": [
    "# How often was non-pruned more reasonable than 2pruned? grouped by Class\n",
    "occ_results_np_2.loc[(occ_results_np_2['Answer.algorithms.none'] == 0) & (occ_results_np_2['2pruned'] == 1)]['img_class'].value_counts(sort=False) - \\\n",
    "occ_results_np_2.loc[(occ_results_np_2['Answer.algorithms.none'] == 0) & (occ_results_np_2['nonpruned'] == 1)]['img_class'].value_counts(sort=False)"
   ]
  },
  {
   "cell_type": "code",
   "execution_count": null,
   "id": "cda0c53f-01f3-42e0-8909-911362d746dc",
   "metadata": {},
   "outputs": [],
   "source": []
  },
  {
   "cell_type": "markdown",
   "id": "78cb2a3c-1855-430d-a1fb-580fed56aaa9",
   "metadata": {},
   "source": [
    "### 32Pruned VS Non-Pruned"
   ]
  },
  {
   "cell_type": "code",
   "execution_count": 380,
   "id": "61bde024-58cd-46a3-842c-ae90b1f3c948",
   "metadata": {},
   "outputs": [
    {
     "data": {
      "text/plain": [
       "2500"
      ]
     },
     "execution_count": 380,
     "metadata": {},
     "output_type": "execute_result"
    }
   ],
   "source": [
    "# Compare non-pruned VS 32pruned\n",
    "occ_results_np_32 = occ_results.loc[((occ_results['alg1'] == '32pruned') | (occ_results['alg2'] == '32pruned')) & ((occ_results['alg1'] == 'nonpruned') | (occ_results['alg2'] == 'nonpruned'))]\n",
    "len(occ_results_np_32)"
   ]
  },
  {
   "cell_type": "code",
   "execution_count": 381,
   "id": "d5ed1b7d-a86f-4079-9349-51a19ab2f56d",
   "metadata": {},
   "outputs": [
    {
     "data": {
      "text/plain": [
       "(False    1840\n",
       " True      660\n",
       " Name: Answer.algorithms.none, dtype: int64,\n",
       " False    0.736\n",
       " True     0.264\n",
       " Name: Answer.algorithms.none, dtype: float64)"
      ]
     },
     "execution_count": 381,
     "metadata": {},
     "output_type": "execute_result"
    }
   ],
   "source": [
    "# 'Both algorithms equally reasonable'\n",
    "occ_results_np_32['Answer.algorithms.none'].value_counts(), occ_results_np_32['Answer.algorithms.none'].value_counts(normalize=True)"
   ]
  },
  {
   "cell_type": "code",
   "execution_count": 386,
   "id": "de3ed9ed-0365-445d-b7d3-ad3988e38b52",
   "metadata": {},
   "outputs": [
    {
     "data": {
      "text/plain": [
       "5-frenchhorn        130\n",
       "8-golfball           88\n",
       "7-gaspump            79\n",
       "2-cassetteplayer     62\n",
       "3-chainsaw           59\n",
       "6-garbagetruck       58\n",
       "0-fish               57\n",
       "4-church             44\n",
       "9-parachute          42\n",
       "1-dog                41\n",
       "Name: img_class, dtype: int64"
      ]
     },
     "execution_count": 386,
     "metadata": {},
     "output_type": "execute_result"
    }
   ],
   "source": [
    "# 'Both equally' grouped by Class\n",
    "occ_results_np_32.loc[occ_results_np_32['Answer.algorithms.none'] == True]['img_class'].value_counts()"
   ]
  },
  {
   "cell_type": "code",
   "execution_count": 382,
   "id": "3332cd4d-f4b6-481f-be32-0dce5175110c",
   "metadata": {},
   "outputs": [
    {
     "data": {
      "text/plain": [
       "(1.0    997\n",
       " 0.0    843\n",
       " Name: nonpruned, dtype: int64,\n",
       " 0.0    0.541848\n",
       " 1.0    0.458152\n",
       " Name: 32pruned, dtype: float64)"
      ]
     },
     "execution_count": 382,
     "metadata": {},
     "output_type": "execute_result"
    }
   ],
   "source": [
    "# How often was non-pruned more reasonable than 32pruned?\n",
    "occ_results_np_32.loc[occ_results_np_32['Answer.algorithms.none'] == 0]['nonpruned'].value_counts(), occ_results_np_32.loc[occ_results_np_32['Answer.algorithms.none'] == 0]['32pruned'].value_counts(normalize=True)"
   ]
  },
  {
   "cell_type": "code",
   "execution_count": 383,
   "id": "df700a50-4e52-4714-afed-007dd9f3b0c1",
   "metadata": {},
   "outputs": [
    {
     "data": {
      "text/plain": [
       "Power_divergenceResult(statistic=12.889130434782608, pvalue=0.00033049594935793524)"
      ]
     },
     "execution_count": 383,
     "metadata": {},
     "output_type": "execute_result"
    }
   ],
   "source": [
    "chisquare([997, 843], [920, 920])"
   ]
  },
  {
   "cell_type": "code",
   "execution_count": 404,
   "id": "7a53e216-e0bb-4065-a912-93d7ee5db48d",
   "metadata": {},
   "outputs": [
    {
     "data": {
      "text/plain": [
       "0-fish              125\n",
       "7-gaspump            -1\n",
       "2-cassetteplayer     14\n",
       "1-dog               -57\n",
       "5-frenchhorn         12\n",
       "4-church            -10\n",
       "9-parachute         -40\n",
       "3-chainsaw            9\n",
       "8-golfball           62\n",
       "6-garbagetruck       40\n",
       "Name: img_class, dtype: int64"
      ]
     },
     "execution_count": 404,
     "metadata": {},
     "output_type": "execute_result"
    }
   ],
   "source": [
    "# How often was non-pruned more reasonable than 32pruned? grouped by Class\n",
    "occ_results_np_32.loc[(occ_results_np_32['Answer.algorithms.none'] == 0) & (occ_results_np_32['nonpruned'] == 1)]['img_class'].value_counts(sort=False) - \\\n",
    "occ_results_np_32.loc[(occ_results_np_32['Answer.algorithms.none'] == 0) & (occ_results_np_32['32pruned'] == 1)]['img_class'].value_counts(sort=False)"
   ]
  },
  {
   "cell_type": "code",
   "execution_count": null,
   "id": "1679ab5f-11b3-4a7c-ad3b-45c4473bf8c4",
   "metadata": {},
   "outputs": [],
   "source": []
  },
  {
   "cell_type": "code",
   "execution_count": null,
   "id": "04ef5652-3fd8-47ba-8988-f362203c5083",
   "metadata": {},
   "outputs": [],
   "source": []
  },
  {
   "cell_type": "markdown",
   "id": "5b36a1f7-c428-4d51-8615-624a2160ebb1",
   "metadata": {},
   "source": [
    "## 2pruned VS 32pruned - Sanity Check"
   ]
  },
  {
   "cell_type": "code",
   "execution_count": 368,
   "id": "af7ad6ac-1f0d-4fd3-82c8-7ebed8c54966",
   "metadata": {},
   "outputs": [
    {
     "data": {
      "text/plain": [
       "2500"
      ]
     },
     "execution_count": 368,
     "metadata": {},
     "output_type": "execute_result"
    }
   ],
   "source": [
    "# Compare 2pruned VS 32pruned\n",
    "occ_results_2_32 = occ_results.loc[((occ_results['alg1'] == '32pruned') | (occ_results['alg2'] == '32pruned')) & ((occ_results['alg1'] == '2pruned') | (occ_results['alg2'] == '2pruned'))]\n",
    "len(occ_results_2_32)"
   ]
  },
  {
   "cell_type": "code",
   "execution_count": 371,
   "id": "b724bc57-3099-42c1-88f0-a455a8ab84de",
   "metadata": {},
   "outputs": [
    {
     "data": {
      "text/plain": [
       "(False    1958\n",
       " True      542\n",
       " Name: Answer.algorithms.none, dtype: int64,\n",
       " False    0.7832\n",
       " True     0.2168\n",
       " Name: Answer.algorithms.none, dtype: float64)"
      ]
     },
     "execution_count": 371,
     "metadata": {},
     "output_type": "execute_result"
    }
   ],
   "source": [
    "# 'Both algorithms equally reasonable'\n",
    "occ_results_2_32['Answer.algorithms.none'].value_counts(), occ_results_2_32['Answer.algorithms.none'].value_counts(normalize=True)"
   ]
  },
  {
   "cell_type": "code",
   "execution_count": 387,
   "id": "fc9dac69-803c-4202-9d84-a549111ef896",
   "metadata": {},
   "outputs": [
    {
     "data": {
      "text/plain": [
       "5-frenchhorn        99\n",
       "8-golfball          67\n",
       "7-gaspump           55\n",
       "0-fish              52\n",
       "6-garbagetruck      49\n",
       "4-church            49\n",
       "3-chainsaw          47\n",
       "1-dog               47\n",
       "9-parachute         40\n",
       "2-cassetteplayer    37\n",
       "Name: img_class, dtype: int64"
      ]
     },
     "execution_count": 387,
     "metadata": {},
     "output_type": "execute_result"
    }
   ],
   "source": [
    "# 'Both equally' grouped by Class\n",
    "occ_results_2_32.loc[occ_results_2_32['Answer.algorithms.none'] == True]['img_class'].value_counts()"
   ]
  },
  {
   "cell_type": "code",
   "execution_count": 372,
   "id": "b927508b-8661-4c1c-818d-0c1c035b6dfe",
   "metadata": {},
   "outputs": [
    {
     "data": {
      "text/plain": [
       "(1.0    1082\n",
       " 0.0     876\n",
       " Name: 2pruned, dtype: int64,\n",
       " 0.0    0.552605\n",
       " 1.0    0.447395\n",
       " Name: 32pruned, dtype: float64)"
      ]
     },
     "execution_count": 372,
     "metadata": {},
     "output_type": "execute_result"
    }
   ],
   "source": [
    "# How often was 2pruned more reasonable than 32pruned?\n",
    "occ_results_2_32.loc[occ_results_2_32['Answer.algorithms.none'] == 0]['2pruned'].value_counts(), occ_results_2_32.loc[occ_results_2_32['Answer.algorithms.none'] == 0]['32pruned'].value_counts(normalize=True)"
   ]
  },
  {
   "cell_type": "code",
   "execution_count": 374,
   "id": "f47b1a44-9878-4ba1-9551-b47df35775df",
   "metadata": {},
   "outputs": [
    {
     "data": {
      "text/plain": [
       "Power_divergenceResult(statistic=21.673135852911134, pvalue=3.232871431540655e-06)"
      ]
     },
     "execution_count": 374,
     "metadata": {},
     "output_type": "execute_result"
    }
   ],
   "source": [
    "chisquare([1082, 876])"
   ]
  },
  {
   "cell_type": "code",
   "execution_count": 405,
   "id": "38668983-336c-4cdd-bcb2-9c6853024a1c",
   "metadata": {},
   "outputs": [
    {
     "data": {
      "text/plain": [
       "0-fish              74\n",
       "7-gaspump            7\n",
       "2-cassetteplayer    45\n",
       "1-dog                9\n",
       "5-frenchhorn         3\n",
       "4-church            11\n",
       "9-parachute        -44\n",
       "3-chainsaw          -3\n",
       "8-golfball          59\n",
       "6-garbagetruck      45\n",
       "Name: img_class, dtype: int64"
      ]
     },
     "execution_count": 405,
     "metadata": {},
     "output_type": "execute_result"
    }
   ],
   "source": [
    "# How often was 2pruned more reasonable than 32pruned? grouped by Class\n",
    "occ_results_2_32.loc[(occ_results_2_32['Answer.algorithms.none'] == 0) & (occ_results_2_32['2pruned'] == 1)]['img_class'].value_counts(sort=False) - \\\n",
    "occ_results_2_32.loc[(occ_results_2_32['Answer.algorithms.none'] == 0) & (occ_results_2_32['32pruned'] == 1)]['img_class'].value_counts(sort=False)"
   ]
  },
  {
   "cell_type": "code",
   "execution_count": null,
   "id": "9ffc3076-9f4f-4633-97e7-223daf9634b0",
   "metadata": {},
   "outputs": [],
   "source": []
  },
  {
   "cell_type": "markdown",
   "id": "cba93098-cb46-41a9-93b9-70e29af5921e",
   "metadata": {},
   "source": [
    "# Experiment 1 - Grad-CAM Heat-Maps\n",
    "This experiment investigates the reasonability of algorithms when they classify images. You will decide which of the algorithms makes a more reasonable decision based on the parts of the image it uses for its decision.\n",
    "\n",
    "The image in the middle is the original image with its predicted class shown above the image. The images on the left and right have a heatmap, ranging from blue to red, overlayed. The whole range of the heatmap is shown here.\n",
    "\n",
    "The blue areas indicate the least important parts of the image to the algorithm, the red areas indicate the most important parts of the image to the algorithm. Therefore, more important (red) areas help the algorithm to make its correct decision more than less important (blue) areas. You will decide which of the algorithms makes a more reasonable decision based on the parts of the image it uses most for its decision. If you think that none of the algorithms seems more reasonable than the other, select \"Both algorithms seem equally reasonable\"."
   ]
  },
  {
   "cell_type": "code",
   "execution_count": 507,
   "id": "19a83d76-0bc4-4717-b9cb-a932ca4644aa",
   "metadata": {},
   "outputs": [
    {
     "data": {
      "text/html": [
       "<div>\n",
       "<style scoped>\n",
       "    .dataframe tbody tr th:only-of-type {\n",
       "        vertical-align: middle;\n",
       "    }\n",
       "\n",
       "    .dataframe tbody tr th {\n",
       "        vertical-align: top;\n",
       "    }\n",
       "\n",
       "    .dataframe thead th {\n",
       "        text-align: right;\n",
       "    }\n",
       "</style>\n",
       "<table border=\"1\" class=\"dataframe\">\n",
       "  <thead>\n",
       "    <tr style=\"text-align: right;\">\n",
       "      <th></th>\n",
       "      <th>HITId</th>\n",
       "      <th>WorkerId</th>\n",
       "      <th>Input.image_url</th>\n",
       "      <th>Answer.algorithms.alg1</th>\n",
       "      <th>Answer.algorithms.alg2</th>\n",
       "      <th>Answer.algorithms.none</th>\n",
       "      <th>img_id</th>\n",
       "      <th>img_class</th>\n",
       "      <th>alg1</th>\n",
       "      <th>alg2</th>\n",
       "      <th>nonpruned</th>\n",
       "      <th>2pruned</th>\n",
       "      <th>32pruned</th>\n",
       "      <th>annotation_result</th>\n",
       "    </tr>\n",
       "  </thead>\n",
       "  <tbody>\n",
       "    <tr>\n",
       "      <th>0</th>\n",
       "      <td>3E9VAUV7C400O89EDCDVV7ZUK3VAYQ</td>\n",
       "      <td>A3U5D83UGFY23Y</td>\n",
       "      <td>388_2pruned_3-chainsaw_nonpruned.png</td>\n",
       "      <td>True</td>\n",
       "      <td>False</td>\n",
       "      <td>False</td>\n",
       "      <td>388</td>\n",
       "      <td>3-chainsaw</td>\n",
       "      <td>2pruned</td>\n",
       "      <td>nonpruned</td>\n",
       "      <td>0.0</td>\n",
       "      <td>1.0</td>\n",
       "      <td>0.0</td>\n",
       "      <td>alg1</td>\n",
       "    </tr>\n",
       "    <tr>\n",
       "      <th>1</th>\n",
       "      <td>3ZUE82NE1ING5TZ4BO1TAVMJO458FN</td>\n",
       "      <td>A2KLWSLNAXJUAZ</td>\n",
       "      <td>64_32pruned_7-gaspump_nonpruned.png</td>\n",
       "      <td>True</td>\n",
       "      <td>False</td>\n",
       "      <td>False</td>\n",
       "      <td>64</td>\n",
       "      <td>7-gaspump</td>\n",
       "      <td>32pruned</td>\n",
       "      <td>nonpruned</td>\n",
       "      <td>0.0</td>\n",
       "      <td>0.0</td>\n",
       "      <td>1.0</td>\n",
       "      <td>alg1</td>\n",
       "    </tr>\n",
       "    <tr>\n",
       "      <th>2</th>\n",
       "      <td>3CVDZS289PMVQI185PBCFDNE89UFMI</td>\n",
       "      <td>A3T1M3NZ5UIA56</td>\n",
       "      <td>221_2pruned_8-golfball_nonpruned.png</td>\n",
       "      <td>False</td>\n",
       "      <td>True</td>\n",
       "      <td>False</td>\n",
       "      <td>221</td>\n",
       "      <td>8-golfball</td>\n",
       "      <td>2pruned</td>\n",
       "      <td>nonpruned</td>\n",
       "      <td>1.0</td>\n",
       "      <td>0.0</td>\n",
       "      <td>0.0</td>\n",
       "      <td>alg2</td>\n",
       "    </tr>\n",
       "    <tr>\n",
       "      <th>3</th>\n",
       "      <td>38O9DZ0A7A990L44UEPO6YW395A62F</td>\n",
       "      <td>A1HDYTLK36Y0G5</td>\n",
       "      <td>219_2pruned_7-gaspump_nonpruned.png</td>\n",
       "      <td>True</td>\n",
       "      <td>False</td>\n",
       "      <td>False</td>\n",
       "      <td>219</td>\n",
       "      <td>7-gaspump</td>\n",
       "      <td>2pruned</td>\n",
       "      <td>nonpruned</td>\n",
       "      <td>0.0</td>\n",
       "      <td>1.0</td>\n",
       "      <td>0.0</td>\n",
       "      <td>alg1</td>\n",
       "    </tr>\n",
       "    <tr>\n",
       "      <th>4</th>\n",
       "      <td>3SD15I2WEAGYL30NYE3TP81VFJA63Q</td>\n",
       "      <td>A6B55HA085S5V</td>\n",
       "      <td>361_2pruned_5-frenchhorn_nonpruned.png</td>\n",
       "      <td>False</td>\n",
       "      <td>True</td>\n",
       "      <td>False</td>\n",
       "      <td>361</td>\n",
       "      <td>5-frenchhorn</td>\n",
       "      <td>2pruned</td>\n",
       "      <td>nonpruned</td>\n",
       "      <td>1.0</td>\n",
       "      <td>0.0</td>\n",
       "      <td>0.0</td>\n",
       "      <td>alg2</td>\n",
       "    </tr>\n",
       "  </tbody>\n",
       "</table>\n",
       "</div>"
      ],
      "text/plain": [
       "                            HITId        WorkerId  \\\n",
       "0  3E9VAUV7C400O89EDCDVV7ZUK3VAYQ  A3U5D83UGFY23Y   \n",
       "1  3ZUE82NE1ING5TZ4BO1TAVMJO458FN  A2KLWSLNAXJUAZ   \n",
       "2  3CVDZS289PMVQI185PBCFDNE89UFMI  A3T1M3NZ5UIA56   \n",
       "3  38O9DZ0A7A990L44UEPO6YW395A62F  A1HDYTLK36Y0G5   \n",
       "4  3SD15I2WEAGYL30NYE3TP81VFJA63Q   A6B55HA085S5V   \n",
       "\n",
       "                          Input.image_url  Answer.algorithms.alg1  \\\n",
       "0    388_2pruned_3-chainsaw_nonpruned.png                    True   \n",
       "1     64_32pruned_7-gaspump_nonpruned.png                    True   \n",
       "2    221_2pruned_8-golfball_nonpruned.png                   False   \n",
       "3     219_2pruned_7-gaspump_nonpruned.png                    True   \n",
       "4  361_2pruned_5-frenchhorn_nonpruned.png                   False   \n",
       "\n",
       "   Answer.algorithms.alg2  Answer.algorithms.none img_id     img_class  \\\n",
       "0                   False                   False    388    3-chainsaw   \n",
       "1                   False                   False     64     7-gaspump   \n",
       "2                    True                   False    221    8-golfball   \n",
       "3                   False                   False    219     7-gaspump   \n",
       "4                    True                   False    361  5-frenchhorn   \n",
       "\n",
       "       alg1       alg2  nonpruned  2pruned  32pruned annotation_result  \n",
       "0   2pruned  nonpruned        0.0      1.0       0.0              alg1  \n",
       "1  32pruned  nonpruned        0.0      0.0       1.0              alg1  \n",
       "2   2pruned  nonpruned        1.0      0.0       0.0              alg2  \n",
       "3   2pruned  nonpruned        0.0      1.0       0.0              alg1  \n",
       "4   2pruned  nonpruned        1.0      0.0       0.0              alg2  "
      ]
     },
     "execution_count": 507,
     "metadata": {},
     "output_type": "execute_result"
    }
   ],
   "source": [
    "hm_results = preprocess_experiment1_results('experiments/experiment1-jet-5000-results.csv')\n",
    "hm_results.head()"
   ]
  },
  {
   "cell_type": "code",
   "execution_count": 508,
   "id": "f81b5a55-0a39-4073-8c95-d28d3c40817a",
   "metadata": {},
   "outputs": [
    {
     "data": {
      "text/plain": [
       "0.12591366696173134"
      ]
     },
     "execution_count": 508,
     "metadata": {},
     "output_type": "execute_result"
    }
   ],
   "source": [
    "# Interannotator Agreement\n",
    "simpledorff.calculate_krippendorffs_alpha_for_df(hm_results,\n",
    "                                                 experiment_col='Input.image_url',\n",
    "                                                 annotator_col='WorkerId',\n",
    "                                                 class_col='annotation_result')"
   ]
  },
  {
   "cell_type": "code",
   "execution_count": 461,
   "id": "521514a4-9107-4d38-9deb-f26f5bd5d3dd",
   "metadata": {},
   "outputs": [
    {
     "data": {
      "text/plain": [
       "5000"
      ]
     },
     "execution_count": 461,
     "metadata": {},
     "output_type": "execute_result"
    }
   ],
   "source": [
    "# How many datapoints\n",
    "len(hm_results)"
   ]
  },
  {
   "cell_type": "code",
   "execution_count": 462,
   "id": "ea516c0c-438b-4ac7-994f-024f5bda2c86",
   "metadata": {},
   "outputs": [
    {
     "data": {
      "text/plain": [
       "False    0.7408\n",
       "True     0.2592\n",
       "Name: Answer.algorithms.none, dtype: float64"
      ]
     },
     "execution_count": 462,
     "metadata": {},
     "output_type": "execute_result"
    }
   ],
   "source": [
    "# 'Both algorithms equally reasonable'\n",
    "# A lot less equally reasonable than with occlusion maps on top!\n",
    "hm_results['Answer.algorithms.none'].value_counts(normalize=True)"
   ]
  },
  {
   "cell_type": "code",
   "execution_count": 472,
   "id": "58ef0f54-22fd-4506-ad45-ecba499913d0",
   "metadata": {},
   "outputs": [
    {
     "data": {
      "text/plain": [
       "5-frenchhorn        189\n",
       "0-fish              157\n",
       "8-golfball          157\n",
       "6-garbagetruck      142\n",
       "7-gaspump           127\n",
       "9-parachute         125\n",
       "1-dog               109\n",
       "3-chainsaw          108\n",
       "2-cassetteplayer    105\n",
       "4-church             77\n",
       "Name: img_class, dtype: int64"
      ]
     },
     "execution_count": 472,
     "metadata": {},
     "output_type": "execute_result"
    }
   ],
   "source": [
    "# 'Both equally' grouped by Class\n",
    "hm_results.loc[hm_results['Answer.algorithms.none'] == True]['img_class'].value_counts()"
   ]
  },
  {
   "cell_type": "code",
   "execution_count": null,
   "id": "02d61477-f406-4721-8b03-1e84a3e392f9",
   "metadata": {},
   "outputs": [],
   "source": []
  },
  {
   "cell_type": "markdown",
   "id": "33adb0f5-6f9c-4189-8fcc-642e0a418a63",
   "metadata": {},
   "source": [
    "### 2Pruned VS Non-Pruned"
   ]
  },
  {
   "cell_type": "code",
   "execution_count": 509,
   "id": "2f6f54dc-35c0-4b25-b722-54de1c88b547",
   "metadata": {},
   "outputs": [
    {
     "data": {
      "text/plain": [
       "2500"
      ]
     },
     "execution_count": 509,
     "metadata": {},
     "output_type": "execute_result"
    }
   ],
   "source": [
    "# Compare non-pruned VS 2pruned\n",
    "hm_results_np_2 = hm_results.loc[(hm_results['alg1'] == '2pruned') | (hm_results['alg2'] == '2pruned')]\n",
    "len(hm_results_np_2)"
   ]
  },
  {
   "cell_type": "code",
   "execution_count": 464,
   "id": "4882922b-517f-472b-9339-d780fa629c7c",
   "metadata": {},
   "outputs": [
    {
     "data": {
      "text/plain": [
       "(False    0.6132\n",
       " True     0.3868\n",
       " Name: Answer.algorithms.none, dtype: float64,\n",
       " False    1533\n",
       " True      967\n",
       " Name: Answer.algorithms.none, dtype: int64)"
      ]
     },
     "execution_count": 464,
     "metadata": {},
     "output_type": "execute_result"
    }
   ],
   "source": [
    "# 'Both algorithms equally reasonable'\n",
    "hm_results_np_2['Answer.algorithms.none'].value_counts(normalize=True), hm_results_np_2['Answer.algorithms.none'].value_counts()"
   ]
  },
  {
   "cell_type": "code",
   "execution_count": 473,
   "id": "dd7f2546-3669-4ae9-a36a-b2ef96f53312",
   "metadata": {},
   "outputs": [
    {
     "data": {
      "text/plain": [
       "5-frenchhorn        126\n",
       "0-fish              125\n",
       "8-golfball          124\n",
       "6-garbagetruck      102\n",
       "7-gaspump            99\n",
       "9-parachute          99\n",
       "3-chainsaw           85\n",
       "2-cassetteplayer     79\n",
       "1-dog                79\n",
       "4-church             49\n",
       "Name: img_class, dtype: int64"
      ]
     },
     "execution_count": 473,
     "metadata": {},
     "output_type": "execute_result"
    }
   ],
   "source": [
    "# 'Both equally' grouped by Class\n",
    "hm_results_np_2.loc[hm_results_np_2['Answer.algorithms.none'] == True]['img_class'].value_counts()"
   ]
  },
  {
   "cell_type": "code",
   "execution_count": 465,
   "id": "e3719c7f-bece-4c69-acbc-944125f9757b",
   "metadata": {},
   "outputs": [
    {
     "data": {
      "text/plain": [
       "(0.0    818\n",
       " 1.0    715\n",
       " Name: nonpruned, dtype: int64,\n",
       " 1.0    0.533594\n",
       " 0.0    0.466406\n",
       " Name: 2pruned, dtype: float64)"
      ]
     },
     "execution_count": 465,
     "metadata": {},
     "output_type": "execute_result"
    }
   ],
   "source": [
    "# How often was non-pruned more reasonable than 2pruned?\n",
    "hm_results_np_2.loc[hm_results_np_2['Answer.algorithms.none'] == 0]['nonpruned'].value_counts(), hm_results_np_2.loc[hm_results_np_2['Answer.algorithms.none'] == 0]['2pruned'].value_counts(normalize=True)"
   ]
  },
  {
   "cell_type": "code",
   "execution_count": 466,
   "id": "13e7231b-93cd-4325-ab96-7c6304923fe1",
   "metadata": {},
   "outputs": [
    {
     "data": {
      "text/plain": [
       "Power_divergenceResult(statistic=6.920417482061318, pvalue=0.008521707920673275)"
      ]
     },
     "execution_count": 466,
     "metadata": {},
     "output_type": "execute_result"
    }
   ],
   "source": [
    "chisquare([818, 715], [766.5, 766.5])"
   ]
  },
  {
   "cell_type": "code",
   "execution_count": 477,
   "id": "19386698-f489-45b9-95c4-3bb67415643c",
   "metadata": {},
   "outputs": [
    {
     "data": {
      "text/plain": [
       "0-fish             -13\n",
       "7-gaspump           -7\n",
       "2-cassetteplayer    17\n",
       "1-dog               33\n",
       "5-frenchhorn         8\n",
       "4-church            -3\n",
       "9-parachute         15\n",
       "3-chainsaw           9\n",
       "8-golfball          26\n",
       "6-garbagetruck      18\n",
       "Name: img_class, dtype: int64"
      ]
     },
     "execution_count": 477,
     "metadata": {},
     "output_type": "execute_result"
    }
   ],
   "source": [
    "# How often was non-pruned more reasonable than 2pruned? grouped by Class\n",
    "# Negatives: nonpruned was more reasonable; Positive: 2pruned is more reasonable\n",
    "hm_results_np_2.loc[(hm_results_np_2['Answer.algorithms.none'] == 0) & (hm_results_np_2['2pruned'] == 1)]['img_class'].value_counts(sort=False) - \\\n",
    "hm_results_np_2.loc[(hm_results_np_2['Answer.algorithms.none'] == 0) & (hm_results_np_2['nonpruned'] == 1)]['img_class'].value_counts(sort=False)"
   ]
  },
  {
   "cell_type": "code",
   "execution_count": null,
   "id": "e15612cc-36b8-4765-803b-e7e201d7be8d",
   "metadata": {},
   "outputs": [],
   "source": []
  },
  {
   "cell_type": "markdown",
   "id": "4841c219-bdec-4f15-a064-4ad7f6578ef7",
   "metadata": {},
   "source": [
    "### 32Pruned VS Non-Pruned"
   ]
  },
  {
   "cell_type": "code",
   "execution_count": 512,
   "id": "27c39bab-9921-4346-8fcd-48d1835c8cbb",
   "metadata": {},
   "outputs": [
    {
     "data": {
      "text/plain": [
       "2500"
      ]
     },
     "execution_count": 512,
     "metadata": {},
     "output_type": "execute_result"
    }
   ],
   "source": [
    "# Compare non-pruned VS 32pruned\n",
    "hm_results_np_32 = hm_results.loc[(hm_results['alg1'] == '32pruned') | (hm_results['alg2'] == '32pruned')]\n",
    "len(np_32)"
   ]
  },
  {
   "cell_type": "code",
   "execution_count": 468,
   "id": "6f640a80-96b7-4a47-89c6-c9533cf8586c",
   "metadata": {},
   "outputs": [
    {
     "data": {
      "text/plain": [
       "(False    2171\n",
       " True      329\n",
       " Name: Answer.algorithms.none, dtype: int64,\n",
       " False    0.8684\n",
       " True     0.1316\n",
       " Name: Answer.algorithms.none, dtype: float64)"
      ]
     },
     "execution_count": 468,
     "metadata": {},
     "output_type": "execute_result"
    }
   ],
   "source": [
    "# 'Both algorithms equally reasonable'\n",
    "hm_results_np_32['Answer.algorithms.none'].value_counts(), hm_results_np_32['Answer.algorithms.none'].value_counts(normalize=True)"
   ]
  },
  {
   "cell_type": "code",
   "execution_count": 474,
   "id": "fb86d305-26c8-470c-96cb-1184969c4e43",
   "metadata": {},
   "outputs": [
    {
     "data": {
      "text/plain": [
       "5-frenchhorn        63\n",
       "6-garbagetruck      40\n",
       "8-golfball          33\n",
       "0-fish              32\n",
       "1-dog               30\n",
       "7-gaspump           28\n",
       "4-church            28\n",
       "2-cassetteplayer    26\n",
       "9-parachute         26\n",
       "3-chainsaw          23\n",
       "Name: img_class, dtype: int64"
      ]
     },
     "execution_count": 474,
     "metadata": {},
     "output_type": "execute_result"
    }
   ],
   "source": [
    "# 'Both equally' grouped by Class\n",
    "hm_results_np_32.loc[hm_results_np_32['Answer.algorithms.none'] == True]['img_class'].value_counts()"
   ]
  },
  {
   "cell_type": "code",
   "execution_count": 469,
   "id": "69980a4b-58dc-4b39-b9ed-84351df22fd3",
   "metadata": {},
   "outputs": [
    {
     "data": {
      "text/plain": [
       "(1.0    1148\n",
       " 0.0    1023\n",
       " Name: nonpruned, dtype: int64,\n",
       " 0.0    0.528789\n",
       " 1.0    0.471211\n",
       " Name: 32pruned, dtype: float64)"
      ]
     },
     "execution_count": 469,
     "metadata": {},
     "output_type": "execute_result"
    }
   ],
   "source": [
    "# How often was non-pruned more reasonable than 32pruned?\n",
    "hm_results_np_32.loc[hm_results_np_32['Answer.algorithms.none'] == 0]['nonpruned'].value_counts(), hm_results_np_32.loc[hm_results_np_32['Answer.algorithms.none'] == 0]['32pruned'].value_counts(normalize=True)"
   ]
  },
  {
   "cell_type": "code",
   "execution_count": 470,
   "id": "caab247e-8f3c-4131-b0a5-78f943964817",
   "metadata": {},
   "outputs": [
    {
     "data": {
      "text/plain": [
       "Power_divergenceResult(statistic=7.197144173192077, pvalue=0.007301969067732467)"
      ]
     },
     "execution_count": 470,
     "metadata": {},
     "output_type": "execute_result"
    }
   ],
   "source": [
    "chisquare([1148, 1023], [1085.5, 1085.5])"
   ]
  },
  {
   "cell_type": "code",
   "execution_count": 480,
   "id": "413fab2c-3517-437f-9383-3843603fc714",
   "metadata": {},
   "outputs": [
    {
     "data": {
      "text/plain": [
       "0-fish              12\n",
       "7-gaspump            2\n",
       "2-cassetteplayer    -8\n",
       "1-dog               28\n",
       "5-frenchhorn        39\n",
       "4-church            26\n",
       "9-parachute        -12\n",
       "3-chainsaw         -15\n",
       "8-golfball          37\n",
       "6-garbagetruck      16\n",
       "Name: img_class, dtype: int64"
      ]
     },
     "execution_count": 480,
     "metadata": {},
     "output_type": "execute_result"
    }
   ],
   "source": [
    "# How often was non-pruned more reasonable than 32pruned? grouped by Class\n",
    "# Negatives: 32pruned was more reasonable; Positive: nonpruned is more reasonable\n",
    "hm_results_np_32.loc[(hm_results_np_32['Answer.algorithms.none'] == 0) & (hm_results_np_32['nonpruned'] == 1)]['img_class'].value_counts(sort=False) - \\\n",
    "hm_results_np_32.loc[(hm_results_np_32['Answer.algorithms.none'] == 0) & (hm_results_np_32['32pruned'] == 1)]['img_class'].value_counts(sort=False)"
   ]
  },
  {
   "cell_type": "code",
   "execution_count": null,
   "id": "d8d6e7a5-be71-4d91-928e-4dcb4a9700b0",
   "metadata": {},
   "outputs": [],
   "source": []
  },
  {
   "cell_type": "code",
   "execution_count": null,
   "id": "a8980368-2d24-4794-8650-52e39f7876a8",
   "metadata": {},
   "outputs": [],
   "source": []
  },
  {
   "cell_type": "markdown",
   "id": "3cc410c5-5741-448d-9790-cf66417f0fb9",
   "metadata": {},
   "source": [
    "# Experiment 2 - What is on the picture?\n",
    "Given Parts of an Image, choose what you see on the Image\n",
    "\n",
    "You will be shown parts of an image. Based on what you see on the image, choose one of the ten categories.\n",
    "\n",
    "You will be shown parts of an image. Based on what you see on the image, choose one of the ten categories below.\n",
    "If you are not sure what is on the image, choose 'I don't know / None of the above'."
   ]
  },
  {
   "cell_type": "code",
   "execution_count": 331,
   "id": "9605f33c-24d3-49a4-8b35-a38c2a465b9f",
   "metadata": {},
   "outputs": [],
   "source": [
    "def preprocess_experiment2_results(path):\n",
    "    exp2 = pd.read_csv(path)\n",
    "    columns = ['HITId'\n",
    "           , 'WorkerId'\n",
    "           , 'Input.image_url'\n",
    "           , 'Answer.classes.0-fish'\n",
    "           , 'Answer.classes.1-dog'\n",
    "           , 'Answer.classes.2-cassetteplayer'\n",
    "           , 'Answer.classes.3-chainsaw'\n",
    "           , 'Answer.classes.4-church'\n",
    "           , 'Answer.classes.5-frenchhorn'\n",
    "           , 'Answer.classes.6-garbagetruck'\n",
    "           , 'Answer.classes.7-gaspump'\n",
    "           , 'Answer.classes.8-golfball'\n",
    "           , 'Answer.classes.9-parachute'\n",
    "           , 'Answer.classes.none']\n",
    "    exp2 = exp2[columns]\n",
    "    \n",
    "    # Extract the img_id, image_class and algorithms of the image_url\n",
    "    exp2['img_id'] = exp2['Input.image_url'].str.split('_').apply(lambda x: x[0])\n",
    "    exp2['img_class'] = exp2['Input.image_url'].str.split('_').apply(lambda x: x[1])\n",
    "    exp2['algorithm'] = exp2['Input.image_url'].str.split('_').apply(lambda x: x[2])\n",
    "    exp2['algorithm'] = exp2['algorithm'].str.split('.').apply(lambda x: x[0])\n",
    "    \n",
    "    # Create column with 1.0 for correct, 0.0 for wrong\n",
    "    for label in classes:\n",
    "        exp2.loc[(exp2['img_class'] == label) & (exp2['Answer.classes.{}'.format(label)] == True), 'correct'] = 1\n",
    "        exp2['correct'].fillna(0, inplace=True)\n",
    "    \n",
    "    return exp2"
   ]
  },
  {
   "cell_type": "code",
   "execution_count": 332,
   "id": "e171ca00-7c2a-42d9-9a9b-bbed663f8d2a",
   "metadata": {},
   "outputs": [],
   "source": [
    "# Imagenette Classes\n",
    "classes = ['0-fish', \n",
    "           '1-dog', \n",
    "           '2-cassetteplayer', \n",
    "           '3-chainsaw',\n",
    "           '4-church', \n",
    "           '5-frenchhorn', \n",
    "           '6-garbagetruck', \n",
    "           '7-gaspump', \n",
    "           '8-golfball', \n",
    "           '9-parachute']"
   ]
  },
  {
   "cell_type": "code",
   "execution_count": 333,
   "id": "d6bfb7b0-a2f9-4b67-9107-bc5062f769d4",
   "metadata": {
    "collapsed": true,
    "jupyter": {
     "outputs_hidden": true
    },
    "tags": []
   },
   "outputs": [
    {
     "data": {
      "text/html": [
       "<div>\n",
       "<style scoped>\n",
       "    .dataframe tbody tr th:only-of-type {\n",
       "        vertical-align: middle;\n",
       "    }\n",
       "\n",
       "    .dataframe tbody tr th {\n",
       "        vertical-align: top;\n",
       "    }\n",
       "\n",
       "    .dataframe thead th {\n",
       "        text-align: right;\n",
       "    }\n",
       "</style>\n",
       "<table border=\"1\" class=\"dataframe\">\n",
       "  <thead>\n",
       "    <tr style=\"text-align: right;\">\n",
       "      <th></th>\n",
       "      <th>HITId</th>\n",
       "      <th>WorkerId</th>\n",
       "      <th>Input.image_url</th>\n",
       "      <th>Answer.classes.0-fish</th>\n",
       "      <th>Answer.classes.1-dog</th>\n",
       "      <th>Answer.classes.2-cassetteplayer</th>\n",
       "      <th>Answer.classes.3-chainsaw</th>\n",
       "      <th>Answer.classes.4-church</th>\n",
       "      <th>Answer.classes.5-frenchhorn</th>\n",
       "      <th>Answer.classes.6-garbagetruck</th>\n",
       "      <th>Answer.classes.7-gaspump</th>\n",
       "      <th>Answer.classes.8-golfball</th>\n",
       "      <th>Answer.classes.9-parachute</th>\n",
       "      <th>Answer.classes.none</th>\n",
       "      <th>img_id</th>\n",
       "      <th>img_class</th>\n",
       "      <th>algorithm</th>\n",
       "      <th>correct</th>\n",
       "    </tr>\n",
       "  </thead>\n",
       "  <tbody>\n",
       "    <tr>\n",
       "      <th>0</th>\n",
       "      <td>3X4Q1O9UCP86BS7E0MSDJPZ25G47OP</td>\n",
       "      <td>ARUXF7MD6PFIJ</td>\n",
       "      <td>379_2-cassetteplayer_nonpruned.png</td>\n",
       "      <td>False</td>\n",
       "      <td>False</td>\n",
       "      <td>True</td>\n",
       "      <td>False</td>\n",
       "      <td>False</td>\n",
       "      <td>False</td>\n",
       "      <td>False</td>\n",
       "      <td>False</td>\n",
       "      <td>False</td>\n",
       "      <td>False</td>\n",
       "      <td>False</td>\n",
       "      <td>379</td>\n",
       "      <td>2-cassetteplayer</td>\n",
       "      <td>nonpruned</td>\n",
       "      <td>1.0</td>\n",
       "    </tr>\n",
       "    <tr>\n",
       "      <th>1</th>\n",
       "      <td>3X4Q1O9UCP86BS7E0MSDJPZ25G47OP</td>\n",
       "      <td>A3OSGBQXGDDRT5</td>\n",
       "      <td>379_2-cassetteplayer_nonpruned.png</td>\n",
       "      <td>False</td>\n",
       "      <td>False</td>\n",
       "      <td>True</td>\n",
       "      <td>False</td>\n",
       "      <td>False</td>\n",
       "      <td>False</td>\n",
       "      <td>False</td>\n",
       "      <td>False</td>\n",
       "      <td>False</td>\n",
       "      <td>False</td>\n",
       "      <td>False</td>\n",
       "      <td>379</td>\n",
       "      <td>2-cassetteplayer</td>\n",
       "      <td>nonpruned</td>\n",
       "      <td>1.0</td>\n",
       "    </tr>\n",
       "    <tr>\n",
       "      <th>2</th>\n",
       "      <td>3X4Q1O9UCP86BS7E0MSDJPZ25G47OP</td>\n",
       "      <td>A18V8FRN40LJ4J</td>\n",
       "      <td>379_2-cassetteplayer_nonpruned.png</td>\n",
       "      <td>False</td>\n",
       "      <td>False</td>\n",
       "      <td>True</td>\n",
       "      <td>False</td>\n",
       "      <td>False</td>\n",
       "      <td>False</td>\n",
       "      <td>False</td>\n",
       "      <td>False</td>\n",
       "      <td>False</td>\n",
       "      <td>False</td>\n",
       "      <td>False</td>\n",
       "      <td>379</td>\n",
       "      <td>2-cassetteplayer</td>\n",
       "      <td>nonpruned</td>\n",
       "      <td>1.0</td>\n",
       "    </tr>\n",
       "    <tr>\n",
       "      <th>3</th>\n",
       "      <td>3X4Q1O9UCP86BS7E0MSDJPZ25G47OP</td>\n",
       "      <td>A3TYCJO2DG3RMH</td>\n",
       "      <td>379_2-cassetteplayer_nonpruned.png</td>\n",
       "      <td>False</td>\n",
       "      <td>False</td>\n",
       "      <td>True</td>\n",
       "      <td>False</td>\n",
       "      <td>False</td>\n",
       "      <td>False</td>\n",
       "      <td>False</td>\n",
       "      <td>False</td>\n",
       "      <td>False</td>\n",
       "      <td>False</td>\n",
       "      <td>False</td>\n",
       "      <td>379</td>\n",
       "      <td>2-cassetteplayer</td>\n",
       "      <td>nonpruned</td>\n",
       "      <td>1.0</td>\n",
       "    </tr>\n",
       "    <tr>\n",
       "      <th>4</th>\n",
       "      <td>3X4Q1O9UCP86BS7E0MSDJPZ25G47OP</td>\n",
       "      <td>A1BZNPQ0H7ZSER</td>\n",
       "      <td>379_2-cassetteplayer_nonpruned.png</td>\n",
       "      <td>False</td>\n",
       "      <td>False</td>\n",
       "      <td>True</td>\n",
       "      <td>False</td>\n",
       "      <td>False</td>\n",
       "      <td>False</td>\n",
       "      <td>False</td>\n",
       "      <td>False</td>\n",
       "      <td>False</td>\n",
       "      <td>False</td>\n",
       "      <td>False</td>\n",
       "      <td>379</td>\n",
       "      <td>2-cassetteplayer</td>\n",
       "      <td>nonpruned</td>\n",
       "      <td>1.0</td>\n",
       "    </tr>\n",
       "  </tbody>\n",
       "</table>\n",
       "</div>"
      ],
      "text/plain": [
       "                            HITId        WorkerId  \\\n",
       "0  3X4Q1O9UCP86BS7E0MSDJPZ25G47OP   ARUXF7MD6PFIJ   \n",
       "1  3X4Q1O9UCP86BS7E0MSDJPZ25G47OP  A3OSGBQXGDDRT5   \n",
       "2  3X4Q1O9UCP86BS7E0MSDJPZ25G47OP  A18V8FRN40LJ4J   \n",
       "3  3X4Q1O9UCP86BS7E0MSDJPZ25G47OP  A3TYCJO2DG3RMH   \n",
       "4  3X4Q1O9UCP86BS7E0MSDJPZ25G47OP  A1BZNPQ0H7ZSER   \n",
       "\n",
       "                      Input.image_url  Answer.classes.0-fish  \\\n",
       "0  379_2-cassetteplayer_nonpruned.png                  False   \n",
       "1  379_2-cassetteplayer_nonpruned.png                  False   \n",
       "2  379_2-cassetteplayer_nonpruned.png                  False   \n",
       "3  379_2-cassetteplayer_nonpruned.png                  False   \n",
       "4  379_2-cassetteplayer_nonpruned.png                  False   \n",
       "\n",
       "   Answer.classes.1-dog  Answer.classes.2-cassetteplayer  \\\n",
       "0                 False                             True   \n",
       "1                 False                             True   \n",
       "2                 False                             True   \n",
       "3                 False                             True   \n",
       "4                 False                             True   \n",
       "\n",
       "   Answer.classes.3-chainsaw  Answer.classes.4-church  \\\n",
       "0                      False                    False   \n",
       "1                      False                    False   \n",
       "2                      False                    False   \n",
       "3                      False                    False   \n",
       "4                      False                    False   \n",
       "\n",
       "   Answer.classes.5-frenchhorn  Answer.classes.6-garbagetruck  \\\n",
       "0                        False                          False   \n",
       "1                        False                          False   \n",
       "2                        False                          False   \n",
       "3                        False                          False   \n",
       "4                        False                          False   \n",
       "\n",
       "   Answer.classes.7-gaspump  Answer.classes.8-golfball  \\\n",
       "0                     False                      False   \n",
       "1                     False                      False   \n",
       "2                     False                      False   \n",
       "3                     False                      False   \n",
       "4                     False                      False   \n",
       "\n",
       "   Answer.classes.9-parachute  Answer.classes.none img_id         img_class  \\\n",
       "0                       False                False    379  2-cassetteplayer   \n",
       "1                       False                False    379  2-cassetteplayer   \n",
       "2                       False                False    379  2-cassetteplayer   \n",
       "3                       False                False    379  2-cassetteplayer   \n",
       "4                       False                False    379  2-cassetteplayer   \n",
       "\n",
       "   algorithm  correct  \n",
       "0  nonpruned      1.0  \n",
       "1  nonpruned      1.0  \n",
       "2  nonpruned      1.0  \n",
       "3  nonpruned      1.0  \n",
       "4  nonpruned      1.0  "
      ]
     },
     "execution_count": 333,
     "metadata": {},
     "output_type": "execute_result"
    }
   ],
   "source": [
    "# Load CSV\n",
    "exp2 = preprocess_experiment2_results('experiments/experiment2-7500-results.csv')"
   ]
  },
  {
   "cell_type": "code",
   "execution_count": 439,
   "id": "dc468f9b-79f7-4b3d-8da1-c3f38cd42da3",
   "metadata": {},
   "outputs": [
    {
     "data": {
      "text/html": [
       "<div>\n",
       "<style scoped>\n",
       "    .dataframe tbody tr th:only-of-type {\n",
       "        vertical-align: middle;\n",
       "    }\n",
       "\n",
       "    .dataframe tbody tr th {\n",
       "        vertical-align: top;\n",
       "    }\n",
       "\n",
       "    .dataframe thead th {\n",
       "        text-align: right;\n",
       "    }\n",
       "</style>\n",
       "<table border=\"1\" class=\"dataframe\">\n",
       "  <thead>\n",
       "    <tr style=\"text-align: right;\">\n",
       "      <th></th>\n",
       "      <th>HITId</th>\n",
       "      <th>WorkerId</th>\n",
       "      <th>Input.image_url</th>\n",
       "      <th>Answer.classes.0-fish</th>\n",
       "      <th>Answer.classes.1-dog</th>\n",
       "      <th>Answer.classes.2-cassetteplayer</th>\n",
       "      <th>Answer.classes.3-chainsaw</th>\n",
       "      <th>Answer.classes.4-church</th>\n",
       "      <th>Answer.classes.5-frenchhorn</th>\n",
       "      <th>Answer.classes.6-garbagetruck</th>\n",
       "      <th>Answer.classes.7-gaspump</th>\n",
       "      <th>Answer.classes.8-golfball</th>\n",
       "      <th>Answer.classes.9-parachute</th>\n",
       "      <th>Answer.classes.none</th>\n",
       "      <th>img_id</th>\n",
       "      <th>img_class</th>\n",
       "      <th>algorithm</th>\n",
       "      <th>correct</th>\n",
       "      <th>img_answer</th>\n",
       "    </tr>\n",
       "  </thead>\n",
       "  <tbody>\n",
       "    <tr>\n",
       "      <th>0</th>\n",
       "      <td>3X4Q1O9UCP86BS7E0MSDJPZ25G47OP</td>\n",
       "      <td>ARUXF7MD6PFIJ</td>\n",
       "      <td>379_2-cassetteplayer_nonpruned.png</td>\n",
       "      <td>False</td>\n",
       "      <td>False</td>\n",
       "      <td>True</td>\n",
       "      <td>False</td>\n",
       "      <td>False</td>\n",
       "      <td>False</td>\n",
       "      <td>False</td>\n",
       "      <td>False</td>\n",
       "      <td>False</td>\n",
       "      <td>False</td>\n",
       "      <td>False</td>\n",
       "      <td>379</td>\n",
       "      <td>2-cassetteplayer</td>\n",
       "      <td>nonpruned</td>\n",
       "      <td>1.0</td>\n",
       "      <td>2-cassetteplayer</td>\n",
       "    </tr>\n",
       "    <tr>\n",
       "      <th>1</th>\n",
       "      <td>3X4Q1O9UCP86BS7E0MSDJPZ25G47OP</td>\n",
       "      <td>A3OSGBQXGDDRT5</td>\n",
       "      <td>379_2-cassetteplayer_nonpruned.png</td>\n",
       "      <td>False</td>\n",
       "      <td>False</td>\n",
       "      <td>True</td>\n",
       "      <td>False</td>\n",
       "      <td>False</td>\n",
       "      <td>False</td>\n",
       "      <td>False</td>\n",
       "      <td>False</td>\n",
       "      <td>False</td>\n",
       "      <td>False</td>\n",
       "      <td>False</td>\n",
       "      <td>379</td>\n",
       "      <td>2-cassetteplayer</td>\n",
       "      <td>nonpruned</td>\n",
       "      <td>1.0</td>\n",
       "      <td>2-cassetteplayer</td>\n",
       "    </tr>\n",
       "    <tr>\n",
       "      <th>2</th>\n",
       "      <td>3X4Q1O9UCP86BS7E0MSDJPZ25G47OP</td>\n",
       "      <td>A18V8FRN40LJ4J</td>\n",
       "      <td>379_2-cassetteplayer_nonpruned.png</td>\n",
       "      <td>False</td>\n",
       "      <td>False</td>\n",
       "      <td>True</td>\n",
       "      <td>False</td>\n",
       "      <td>False</td>\n",
       "      <td>False</td>\n",
       "      <td>False</td>\n",
       "      <td>False</td>\n",
       "      <td>False</td>\n",
       "      <td>False</td>\n",
       "      <td>False</td>\n",
       "      <td>379</td>\n",
       "      <td>2-cassetteplayer</td>\n",
       "      <td>nonpruned</td>\n",
       "      <td>1.0</td>\n",
       "      <td>2-cassetteplayer</td>\n",
       "    </tr>\n",
       "    <tr>\n",
       "      <th>3</th>\n",
       "      <td>3X4Q1O9UCP86BS7E0MSDJPZ25G47OP</td>\n",
       "      <td>A3TYCJO2DG3RMH</td>\n",
       "      <td>379_2-cassetteplayer_nonpruned.png</td>\n",
       "      <td>False</td>\n",
       "      <td>False</td>\n",
       "      <td>True</td>\n",
       "      <td>False</td>\n",
       "      <td>False</td>\n",
       "      <td>False</td>\n",
       "      <td>False</td>\n",
       "      <td>False</td>\n",
       "      <td>False</td>\n",
       "      <td>False</td>\n",
       "      <td>False</td>\n",
       "      <td>379</td>\n",
       "      <td>2-cassetteplayer</td>\n",
       "      <td>nonpruned</td>\n",
       "      <td>1.0</td>\n",
       "      <td>2-cassetteplayer</td>\n",
       "    </tr>\n",
       "    <tr>\n",
       "      <th>4</th>\n",
       "      <td>3X4Q1O9UCP86BS7E0MSDJPZ25G47OP</td>\n",
       "      <td>A1BZNPQ0H7ZSER</td>\n",
       "      <td>379_2-cassetteplayer_nonpruned.png</td>\n",
       "      <td>False</td>\n",
       "      <td>False</td>\n",
       "      <td>True</td>\n",
       "      <td>False</td>\n",
       "      <td>False</td>\n",
       "      <td>False</td>\n",
       "      <td>False</td>\n",
       "      <td>False</td>\n",
       "      <td>False</td>\n",
       "      <td>False</td>\n",
       "      <td>False</td>\n",
       "      <td>379</td>\n",
       "      <td>2-cassetteplayer</td>\n",
       "      <td>nonpruned</td>\n",
       "      <td>1.0</td>\n",
       "      <td>2-cassetteplayer</td>\n",
       "    </tr>\n",
       "  </tbody>\n",
       "</table>\n",
       "</div>"
      ],
      "text/plain": [
       "                            HITId        WorkerId  \\\n",
       "0  3X4Q1O9UCP86BS7E0MSDJPZ25G47OP   ARUXF7MD6PFIJ   \n",
       "1  3X4Q1O9UCP86BS7E0MSDJPZ25G47OP  A3OSGBQXGDDRT5   \n",
       "2  3X4Q1O9UCP86BS7E0MSDJPZ25G47OP  A18V8FRN40LJ4J   \n",
       "3  3X4Q1O9UCP86BS7E0MSDJPZ25G47OP  A3TYCJO2DG3RMH   \n",
       "4  3X4Q1O9UCP86BS7E0MSDJPZ25G47OP  A1BZNPQ0H7ZSER   \n",
       "\n",
       "                      Input.image_url  Answer.classes.0-fish  \\\n",
       "0  379_2-cassetteplayer_nonpruned.png                  False   \n",
       "1  379_2-cassetteplayer_nonpruned.png                  False   \n",
       "2  379_2-cassetteplayer_nonpruned.png                  False   \n",
       "3  379_2-cassetteplayer_nonpruned.png                  False   \n",
       "4  379_2-cassetteplayer_nonpruned.png                  False   \n",
       "\n",
       "   Answer.classes.1-dog  Answer.classes.2-cassetteplayer  \\\n",
       "0                 False                             True   \n",
       "1                 False                             True   \n",
       "2                 False                             True   \n",
       "3                 False                             True   \n",
       "4                 False                             True   \n",
       "\n",
       "   Answer.classes.3-chainsaw  Answer.classes.4-church  \\\n",
       "0                      False                    False   \n",
       "1                      False                    False   \n",
       "2                      False                    False   \n",
       "3                      False                    False   \n",
       "4                      False                    False   \n",
       "\n",
       "   Answer.classes.5-frenchhorn  Answer.classes.6-garbagetruck  \\\n",
       "0                        False                          False   \n",
       "1                        False                          False   \n",
       "2                        False                          False   \n",
       "3                        False                          False   \n",
       "4                        False                          False   \n",
       "\n",
       "   Answer.classes.7-gaspump  Answer.classes.8-golfball  \\\n",
       "0                     False                      False   \n",
       "1                     False                      False   \n",
       "2                     False                      False   \n",
       "3                     False                      False   \n",
       "4                     False                      False   \n",
       "\n",
       "   Answer.classes.9-parachute  Answer.classes.none img_id         img_class  \\\n",
       "0                       False                False    379  2-cassetteplayer   \n",
       "1                       False                False    379  2-cassetteplayer   \n",
       "2                       False                False    379  2-cassetteplayer   \n",
       "3                       False                False    379  2-cassetteplayer   \n",
       "4                       False                False    379  2-cassetteplayer   \n",
       "\n",
       "   algorithm  correct        img_answer  \n",
       "0  nonpruned      1.0  2-cassetteplayer  \n",
       "1  nonpruned      1.0  2-cassetteplayer  \n",
       "2  nonpruned      1.0  2-cassetteplayer  \n",
       "3  nonpruned      1.0  2-cassetteplayer  \n",
       "4  nonpruned      1.0  2-cassetteplayer  "
      ]
     },
     "execution_count": 439,
     "metadata": {},
     "output_type": "execute_result"
    }
   ],
   "source": [
    "exp2.head(5)"
   ]
  },
  {
   "cell_type": "code",
   "execution_count": 514,
   "id": "ef839419-5030-4274-a943-18c241d4e301",
   "metadata": {},
   "outputs": [
    {
     "data": {
      "text/plain": [
       "0.7782570935370703"
      ]
     },
     "execution_count": 514,
     "metadata": {},
     "output_type": "execute_result"
    }
   ],
   "source": [
    "# Interannotator Agreement\n",
    "simpledorff.calculate_krippendorffs_alpha_for_df(exp2,\n",
    "                                                 experiment_col='Input.image_url',\n",
    "                                                 annotator_col='WorkerId',\n",
    "                                                 class_col='img_answer')"
   ]
  },
  {
   "cell_type": "code",
   "execution_count": 446,
   "id": "34c5e94c-ed78-40df-b09b-7e39bbf7bf15",
   "metadata": {},
   "outputs": [
    {
     "data": {
      "text/plain": [
       "array(['325', '382', '313', '15', '439', '154', '388', '239', '410', '89',\n",
       "       '248', '204', '106', '352', '499', '383', '339', '312', '369',\n",
       "       '54', '105', '370'], dtype=object)"
      ]
     },
     "execution_count": 446,
     "metadata": {},
     "output_type": "execute_result"
    }
   ],
   "source": [
    "# Img IDs where Turkers agree least often (maximum 15)\n",
    "exp2.loc[exp2['img_id'].apply(lambda x: len(exp2.loc[(exp2['img_id']==x) & (exp2['img_class']==exp2['img_answer'])])) <= 5]['img_id'].unique()"
   ]
  },
  {
   "cell_type": "code",
   "execution_count": null,
   "id": "bb0ec01c-547a-4edc-95b7-0d03faec8552",
   "metadata": {},
   "outputs": [],
   "source": []
  },
  {
   "cell_type": "code",
   "execution_count": 427,
   "id": "c687105c-ccdd-4e25-a716-3be94a492ae2",
   "metadata": {},
   "outputs": [
    {
     "data": {
      "text/plain": [
       "<sklearn.metrics._plot.confusion_matrix.ConfusionMatrixDisplay at 0x7facacceadc0>"
      ]
     },
     "execution_count": 427,
     "metadata": {},
     "output_type": "execute_result"
    },
    {
     "data": {
      "image/png": "[encoded data removed]",
      "text/plain": [
       "<Figure size 576x576 with 2 Axes>"
      ]
     },
     "metadata": {
      "needs_background": "light"
     },
     "output_type": "display_data"
    }
   ],
   "source": [
    "# create \"img_answer\" column for confusion matrix\n",
    "# Imagenette Classes\n",
    "conf_classes = ['0-fish', \n",
    "                '1-dog', \n",
    "                '2-cassetteplayer', \n",
    "                '3-chainsaw',\n",
    "                '4-church', \n",
    "                '5-frenchhorn', \n",
    "                '6-garbagetruck', \n",
    "                '7-gaspump', \n",
    "                '8-golfball', \n",
    "                '9-parachute',\n",
    "                'none']\n",
    "\n",
    "for label in conf_classes:\n",
    "    exp2.loc[exp2['Answer.classes.{}'.format(label)] == True, 'img_answer'] = label\n",
    "\n",
    "# Create Confusion Matrix\n",
    "cmatrix = confusion_matrix(exp2['img_class'], exp2['img_answer'], labels=conf_classes)\n",
    "\n",
    "# Plot Confusion Matrix\n",
    "disp = ConfusionMatrixDisplay(confusion_matrix=cmatrix, display_labels=conf_classes)\n",
    "fig, ax = plt.subplots(figsize=(8, 8))\n",
    "disp.plot(xticks_rotation='vertical', ax=ax)"
   ]
  },
  {
   "cell_type": "code",
   "execution_count": 320,
   "id": "7240f766-807f-4071-88aa-b79fe1538cd2",
   "metadata": {},
   "outputs": [
    {
     "data": {
      "text/plain": [
       "7500"
      ]
     },
     "execution_count": 320,
     "metadata": {},
     "output_type": "execute_result"
    }
   ],
   "source": [
    "# Total of 7500 answers\n",
    "len(exp2)"
   ]
  },
  {
   "cell_type": "code",
   "execution_count": 321,
   "id": "68a835cf-cb8a-4c4e-b025-244c52b258ef",
   "metadata": {},
   "outputs": [
    {
     "data": {
      "text/plain": [
       "5-frenchhorn        750\n",
       "6-garbagetruck      750\n",
       "7-gaspump           750\n",
       "2-cassetteplayer    750\n",
       "1-dog               750\n",
       "4-church            750\n",
       "8-golfball          750\n",
       "9-parachute         750\n",
       "3-chainsaw          750\n",
       "0-fish              750\n",
       "Name: img_class, dtype: int64"
      ]
     },
     "execution_count": 321,
     "metadata": {},
     "output_type": "execute_result"
    }
   ],
   "source": [
    "# Check if every class was answered 750 times\n",
    "exp2['img_class'].value_counts()"
   ]
  },
  {
   "cell_type": "code",
   "execution_count": 362,
   "id": "7bc54728-132a-4f96-a28d-8a1cd4ac7e29",
   "metadata": {},
   "outputs": [
    {
     "data": {
      "text/plain": [
       "False    6676\n",
       "True      824\n",
       "Name: Answer.classes.none, dtype: int64"
      ]
     },
     "execution_count": 362,
     "metadata": {},
     "output_type": "execute_result"
    }
   ],
   "source": [
    "exp2['Answer.classes.none'].value_counts()"
   ]
  },
  {
   "cell_type": "markdown",
   "id": "d55d131b-4177-4418-9a09-8a6cec0b23c4",
   "metadata": {},
   "source": [
    "## Overall: Correct per Class and per Models"
   ]
  },
  {
   "cell_type": "code",
   "execution_count": 326,
   "id": "dca78edd-4c8b-4566-a56a-56dde2fdb3ca",
   "metadata": {},
   "outputs": [
    {
     "data": {
      "text/plain": [
       "5-frenchhorn        706\n",
       "1-dog               703\n",
       "8-golfball          702\n",
       "4-church            665\n",
       "0-fish              650\n",
       "6-garbagetruck      646\n",
       "9-parachute         613\n",
       "2-cassetteplayer    599\n",
       "7-gaspump           594\n",
       "3-chainsaw          461\n",
       "Name: img_class, dtype: int64"
      ]
     },
     "execution_count": 326,
     "metadata": {},
     "output_type": "execute_result"
    }
   ],
   "source": [
    "# Overview of how many correct per class for all three models, maximum = 750 per class\n",
    "exp2['img_class'].loc[(exp2['correct'] == 1)].value_counts()"
   ]
  },
  {
   "cell_type": "code",
   "execution_count": 327,
   "id": "5c0442d3-c3d0-4d5f-a080-8358fd0e3959",
   "metadata": {},
   "outputs": [
    {
     "data": {
      "text/plain": [
       "2pruned.png      2160\n",
       "nonpruned.png    2146\n",
       "32pruned.png     2033\n",
       "Name: algorithm, dtype: int64"
      ]
     },
     "execution_count": 327,
     "metadata": {},
     "output_type": "execute_result"
    }
   ],
   "source": [
    "# Overview of how many correct per model, per model maximum = 2500; total 7500\n",
    "exp2['algorithm'].loc[(exp2['correct'] == 1)].value_counts()"
   ]
  },
  {
   "cell_type": "code",
   "execution_count": 339,
   "id": "c73b5bcc-a59d-4b2c-84dc-aae0d9482f70",
   "metadata": {
    "collapsed": true,
    "jupyter": {
     "outputs_hidden": true
    },
    "tags": []
   },
   "outputs": [
    {
     "name": "stdout",
     "output_type": "stream",
     "text": [
      "0-fish\n",
      "2pruned      231\n",
      "nonpruned    228\n",
      "32pruned     191\n",
      "Name: algorithm, dtype: int64\n",
      "1-dog\n",
      "32pruned     240\n",
      "2pruned      238\n",
      "nonpruned    225\n",
      "Name: algorithm, dtype: int64\n",
      "2-cassetteplayer\n",
      "2pruned      206\n",
      "nonpruned    199\n",
      "32pruned     194\n",
      "Name: algorithm, dtype: int64\n",
      "3-chainsaw\n",
      "nonpruned    165\n",
      "2pruned      165\n",
      "32pruned     131\n",
      "Name: algorithm, dtype: int64\n",
      "4-church\n",
      "2pruned      231\n",
      "32pruned     221\n",
      "nonpruned    213\n",
      "Name: algorithm, dtype: int64\n",
      "5-frenchhorn\n",
      "32pruned     236\n",
      "nonpruned    235\n",
      "2pruned      235\n",
      "Name: algorithm, dtype: int64\n",
      "6-garbagetruck\n",
      "2pruned      220\n",
      "nonpruned    215\n",
      "32pruned     211\n",
      "Name: algorithm, dtype: int64\n",
      "7-gaspump\n",
      "nonpruned    207\n",
      "32pruned     197\n",
      "2pruned      190\n",
      "Name: algorithm, dtype: int64\n",
      "8-golfball\n",
      "2pruned      243\n",
      "nonpruned    239\n",
      "32pruned     220\n",
      "Name: algorithm, dtype: int64\n",
      "9-parachute\n",
      "nonpruned    220\n",
      "2pruned      201\n",
      "32pruned     192\n",
      "Name: algorithm, dtype: int64\n"
     ]
    }
   ],
   "source": [
    "# For each class, how many corrects differ between models:\n",
    "for label in classes:\n",
    "    print(label)\n",
    "    print(exp2['algorithm'].loc[(exp2['correct'] == 1) & (exp2['img_class'] == label)].value_counts())"
   ]
  },
  {
   "cell_type": "code",
   "execution_count": null,
   "id": "5988dcc6-a726-4ecd-a392-1db46ff7e1cf",
   "metadata": {},
   "outputs": [],
   "source": []
  },
  {
   "cell_type": "markdown",
   "id": "23dcdc20-db9b-436d-8412-ca598ad89137",
   "metadata": {},
   "source": [
    "## Non-Pruned"
   ]
  },
  {
   "cell_type": "code",
   "execution_count": 447,
   "id": "74056da9-9ad8-4214-9220-331331b1435a",
   "metadata": {},
   "outputs": [
    {
     "data": {
      "text/plain": [
       "2500"
      ]
     },
     "execution_count": 447,
     "metadata": {},
     "output_type": "execute_result"
    }
   ],
   "source": [
    "exp2_np = exp2.loc[exp2['algorithm'] == 'nonpruned']\n",
    "len(exp2_np)"
   ]
  },
  {
   "cell_type": "code",
   "execution_count": 449,
   "id": "c4bedf62-ad9d-45ac-9b06-12c0f949bcc8",
   "metadata": {},
   "outputs": [
    {
     "data": {
      "text/plain": [
       "array(['325', '176', '15', '172', '47', '478', '29', '449', '19', '248',\n",
       "       '460', '204', '486', '499', '158', '106', '219', '357', '107',\n",
       "       '439', '170', '312', '284', '229', '222', '383', '322', '239',\n",
       "       '253', '352', '410', '54', '105', '146', '369', '370', '201',\n",
       "       '108', '304', '342', '60', '313', '339', '119', '56', '43'],\n",
       "      dtype=object)"
      ]
     },
     "execution_count": 449,
     "metadata": {},
     "output_type": "execute_result"
    }
   ],
   "source": [
    "# Img IDs where Turkers agree least often (maximum 5)\n",
    "exp2_np.loc[exp2_np['img_id'].apply(lambda x: len(exp2_np.loc[(exp2_np['img_id']==x) & (exp2_np['img_class'] == exp2_np['img_answer'])])) <= 2]['img_id'].unique()"
   ]
  },
  {
   "cell_type": "code",
   "execution_count": 520,
   "id": "47e7ed67-2798-40d8-8ede-68778fa91715",
   "metadata": {},
   "outputs": [
    {
     "data": {
      "text/plain": [
       "(2146, 0.8584)"
      ]
     },
     "execution_count": 520,
     "metadata": {},
     "output_type": "execute_result"
    }
   ],
   "source": [
    "# Total correct\n",
    "len(exp2_np.loc[(exp2_np['correct'] == 1)]), len(exp2_np.loc[(exp2_np['correct'] == 1)]) / len(exp2_np)"
   ]
  },
  {
   "cell_type": "code",
   "execution_count": 451,
   "id": "558b13b4-e0b5-43ce-b2f4-c985b75f2603",
   "metadata": {},
   "outputs": [
    {
     "data": {
      "text/plain": [
       "8-golfball          239\n",
       "5-frenchhorn        235\n",
       "0-fish              228\n",
       "1-dog               225\n",
       "9-parachute         220\n",
       "6-garbagetruck      215\n",
       "4-church            213\n",
       "7-gaspump           207\n",
       "2-cassetteplayer    199\n",
       "3-chainsaw          165\n",
       "Name: img_class, dtype: int64"
      ]
     },
     "execution_count": 451,
     "metadata": {},
     "output_type": "execute_result"
    }
   ],
   "source": [
    "# Correct answers for non-pruned, splitted by every class, maximum 250 per class\n",
    "exp2_np['img_class'].loc[(exp2_np['correct'] == 1)].value_counts()"
   ]
  },
  {
   "cell_type": "code",
   "execution_count": 515,
   "id": "71e34318-4c71-4991-908e-311f87d069b5",
   "metadata": {},
   "outputs": [
    {
     "data": {
      "text/plain": [
       "<sklearn.metrics._plot.confusion_matrix.ConfusionMatrixDisplay at 0x7facaec3bfd0>"
      ]
     },
     "execution_count": 515,
     "metadata": {},
     "output_type": "execute_result"
    },
    {
     "data": {
      "image/png": "[encoded data removed]",
      "text/plain": [
       "<Figure size 576x576 with 2 Axes>"
      ]
     },
     "metadata": {
      "needs_background": "light"
     },
     "output_type": "display_data"
    }
   ],
   "source": [
    "# Create Confusion Matrix\n",
    "cmatrix = confusion_matrix(exp2_np['img_class'], exp2_np['img_answer'], labels=conf_classes)\n",
    "\n",
    "# Plot Confusion Matrix\n",
    "disp = ConfusionMatrixDisplay(confusion_matrix=cmatrix, display_labels=conf_classes)\n",
    "fig, ax = plt.subplots(figsize=(8, 8))\n",
    "disp.plot(xticks_rotation='vertical', ax=ax)"
   ]
  },
  {
   "cell_type": "code",
   "execution_count": null,
   "id": "974ebf0b-bfae-4c4f-9cab-9b8bf1592f7c",
   "metadata": {},
   "outputs": [],
   "source": []
  },
  {
   "cell_type": "markdown",
   "id": "e311ea40-cced-45a7-bbd8-e09d5b47bb77",
   "metadata": {},
   "source": [
    "## 2-Pruned"
   ]
  },
  {
   "cell_type": "code",
   "execution_count": 450,
   "id": "0d558fa6-c9d4-4667-b0df-012e8bbd9083",
   "metadata": {},
   "outputs": [
    {
     "data": {
      "text/plain": [
       "2500"
      ]
     },
     "execution_count": 450,
     "metadata": {},
     "output_type": "execute_result"
    }
   ],
   "source": [
    "exp2_2p = exp2.loc[exp2['algorithm'] == '2pruned']\n",
    "len(exp2_2p)"
   ]
  },
  {
   "cell_type": "code",
   "execution_count": 452,
   "id": "963aacc4-f23e-4fe6-a1a2-c3cdcf5d3049",
   "metadata": {},
   "outputs": [
    {
     "data": {
      "text/plain": [
       "array(['219', '172', '222', '460', '439', '388', '239', '119', '242',\n",
       "       '481', '437', '204', '106', '352', '465', '231', '355', '96',\n",
       "       '457', '383', '339', '495', '486', '369', '126', '330', '496',\n",
       "       '136', '313', '284', '105', '183', '478', '427', '83', '252',\n",
       "       '381', '499', '211', '342', '395', '325', '154', '370', '141',\n",
       "       '54', '382', '89'], dtype=object)"
      ]
     },
     "execution_count": 452,
     "metadata": {},
     "output_type": "execute_result"
    }
   ],
   "source": [
    "# Img IDs where Turkers agree least often (maximum 5)\n",
    "exp2_2p.loc[exp2_2p['img_id'].apply(lambda x: len(exp2_2p.loc[(exp2_2p['img_id']==x) & (exp2_2p['img_class'] == exp2_2p['img_answer'])])) <= 2]['img_id'].unique()"
   ]
  },
  {
   "cell_type": "code",
   "execution_count": 521,
   "id": "9f7fa745-eea6-420a-b166-f339fd5d3424",
   "metadata": {},
   "outputs": [
    {
     "data": {
      "text/plain": [
       "(2160, 0.864)"
      ]
     },
     "execution_count": 521,
     "metadata": {},
     "output_type": "execute_result"
    }
   ],
   "source": [
    "# Total correct\n",
    "len(exp2_2p.loc[(exp2_2p['correct'] == 1)]), len(exp2_2p.loc[(exp2_2p['correct'] == 1)]) / len(exp2_2p)"
   ]
  },
  {
   "cell_type": "code",
   "execution_count": 453,
   "id": "78215bc2-2a3e-4379-b5ea-25d76eb5aeda",
   "metadata": {},
   "outputs": [
    {
     "data": {
      "text/plain": [
       "8-golfball          243\n",
       "1-dog               238\n",
       "5-frenchhorn        235\n",
       "0-fish              231\n",
       "4-church            231\n",
       "6-garbagetruck      220\n",
       "2-cassetteplayer    206\n",
       "9-parachute         201\n",
       "7-gaspump           190\n",
       "3-chainsaw          165\n",
       "Name: img_class, dtype: int64"
      ]
     },
     "execution_count": 453,
     "metadata": {},
     "output_type": "execute_result"
    }
   ],
   "source": [
    "# Correct answers for 2pruned, splitted by every class, maximum 250 per class\n",
    "exp2_2p['img_class'].loc[(exp2_2p['correct'] == 1)].value_counts()"
   ]
  },
  {
   "cell_type": "code",
   "execution_count": 516,
   "id": "f4d08884-3f84-4e8c-abe0-4ccec9344138",
   "metadata": {},
   "outputs": [
    {
     "data": {
      "text/plain": [
       "<sklearn.metrics._plot.confusion_matrix.ConfusionMatrixDisplay at 0x7facb057cdf0>"
      ]
     },
     "execution_count": 516,
     "metadata": {},
     "output_type": "execute_result"
    },
    {
     "data": {
      "image/png": "[encoded data removed]",
      "text/plain": [
       "<Figure size 576x576 with 2 Axes>"
      ]
     },
     "metadata": {
      "needs_background": "light"
     },
     "output_type": "display_data"
    }
   ],
   "source": [
    "# Create Confusion Matrix\n",
    "cmatrix = confusion_matrix(exp2_2p['img_class'], exp2_2p['img_answer'], labels=conf_classes)\n",
    "\n",
    "# Plot Confusion Matrix\n",
    "disp = ConfusionMatrixDisplay(confusion_matrix=cmatrix, display_labels=conf_classes)\n",
    "fig, ax = plt.subplots(figsize=(8, 8))\n",
    "disp.plot(xticks_rotation='vertical', ax=ax)"
   ]
  },
  {
   "cell_type": "code",
   "execution_count": null,
   "id": "eeb06d6e-7687-4fc4-8247-45950b2ef212",
   "metadata": {},
   "outputs": [],
   "source": []
  },
  {
   "cell_type": "markdown",
   "id": "acaf09b3-c46a-4a1f-bed9-cf09d5377b33",
   "metadata": {},
   "source": [
    "## 32pruned"
   ]
  },
  {
   "cell_type": "code",
   "execution_count": 456,
   "id": "04cabb62-1329-4e72-aa96-84c50f40e9e5",
   "metadata": {},
   "outputs": [
    {
     "data": {
      "text/plain": [
       "2500"
      ]
     },
     "execution_count": 456,
     "metadata": {},
     "output_type": "execute_result"
    }
   ],
   "source": [
    "exp2_32p = exp2.loc[exp2['algorithm'] == '32pruned']\n",
    "len(exp2_32p)"
   ]
  },
  {
   "cell_type": "code",
   "execution_count": 458,
   "id": "1f5d6a3f-f8d9-4205-b836-cc2c186829b6",
   "metadata": {},
   "outputs": [
    {
     "data": {
      "text/plain": [
       "array(['382', '313', '302', '439', '372', '201', '388', '229', '104',\n",
       "       '410', '438', '67', '263', '274', '177', '60', '174', '225', '39',\n",
       "       '318', '456', '485', '383', '203', '480', '50', '405', '417',\n",
       "       '164', '330', '369', '54', '173', '122', '339', '347', '481',\n",
       "       '366', '20', '153', '81', '154', '273', '457', '293', '248', '319',\n",
       "       '322', '486', '89', '355', '325', '499', '331', '105', '239',\n",
       "       '309', '115', '350', '312', '264', '352', '189', '46', '15'],\n",
       "      dtype=object)"
      ]
     },
     "execution_count": 458,
     "metadata": {},
     "output_type": "execute_result"
    }
   ],
   "source": [
    "# Img IDs where Turkers agree least often (maximum 5)\n",
    "exp2_32p.loc[exp2_32p['img_id'].apply(lambda x: len(exp2_32p.loc[(exp2_32p['img_id']==x) & (exp2_32p['img_class'] == exp2_32p['img_answer'])])) <= 2]['img_id'].unique()"
   ]
  },
  {
   "cell_type": "code",
   "execution_count": 522,
   "id": "e5e918c0-c2be-4b00-9467-1b8974d7560b",
   "metadata": {},
   "outputs": [
    {
     "data": {
      "text/plain": [
       "(2033, 0.8132)"
      ]
     },
     "execution_count": 522,
     "metadata": {},
     "output_type": "execute_result"
    }
   ],
   "source": [
    "# Total correct\n",
    "len(exp2_32p.loc[(exp2_32p['correct'] == 1)]), len(exp2_32p.loc[(exp2_32p['correct'] == 1)]) / len(exp2_32p)"
   ]
  },
  {
   "cell_type": "code",
   "execution_count": 459,
   "id": "c260ad4a-4f34-41cd-8c8c-e091f32fadbe",
   "metadata": {},
   "outputs": [
    {
     "data": {
      "text/plain": [
       "1-dog               240\n",
       "5-frenchhorn        236\n",
       "4-church            221\n",
       "8-golfball          220\n",
       "6-garbagetruck      211\n",
       "7-gaspump           197\n",
       "2-cassetteplayer    194\n",
       "9-parachute         192\n",
       "0-fish              191\n",
       "3-chainsaw          131\n",
       "Name: img_class, dtype: int64"
      ]
     },
     "execution_count": 459,
     "metadata": {},
     "output_type": "execute_result"
    }
   ],
   "source": [
    "# Correct answers for 32pruned, splitted by every class, maximum 250 per class\n",
    "exp2_32p['img_class'].loc[(exp2_32p['correct'] == 1)].value_counts()"
   ]
  },
  {
   "cell_type": "code",
   "execution_count": 518,
   "id": "10ba33b5-6f26-4351-9dba-e3334693a7b4",
   "metadata": {},
   "outputs": [
    {
     "data": {
      "text/plain": [
       "<sklearn.metrics._plot.confusion_matrix.ConfusionMatrixDisplay at 0x7facb0b7a400>"
      ]
     },
     "execution_count": 518,
     "metadata": {},
     "output_type": "execute_result"
    },
    {
     "data": {
      "image/png": "[encoded data removed]",
      "text/plain": [
       "<Figure size 576x576 with 2 Axes>"
      ]
     },
     "metadata": {
      "needs_background": "light"
     },
     "output_type": "display_data"
    }
   ],
   "source": [
    "# Create Confusion Matrix\n",
    "cmatrix = confusion_matrix(exp2_32p['img_class'], exp2_32p['img_answer'], labels=conf_classes)\n",
    "\n",
    "# Plot Confusion Matrix\n",
    "disp = ConfusionMatrixDisplay(confusion_matrix=cmatrix, display_labels=conf_classes)\n",
    "fig, ax = plt.subplots(figsize=(8, 8))\n",
    "disp.plot(xticks_rotation='vertical', ax=ax)"
   ]
  },
  {
   "cell_type": "code",
   "execution_count": 528,
   "id": "684f8f19-99fc-4cd2-92b6-494c8e33ade2",
   "metadata": {},
   "outputs": [
    {
     "data": {
      "text/plain": [
       "Power_divergenceResult(statistic=6.434506353861193, pvalue=0.011192425842613596)"
      ]
     },
     "execution_count": 528,
     "metadata": {},
     "output_type": "execute_result"
    }
   ],
   "source": [
    "# Chisquare: Whether correct results are significant:\n",
    "# correct for 2pruned, 32pruned - expected: as much correct as in nonpruned\n",
    "chisquare([2160, 2033], [2046, 2046])"
   ]
  },
  {
   "cell_type": "code",
   "execution_count": null,
   "id": "aa0cc294-3e01-4d42-88e1-f20a0f6a9e51",
   "metadata": {},
   "outputs": [],
   "source": []
  },
  {
   "cell_type": "code",
   "execution_count": null,
   "id": "7551befa-2ff2-43fd-84e7-0469d8601e6b",
   "metadata": {},
   "outputs": [],
   "source": []
  }
 ],
 "metadata": {
  "kernelspec": {
   "display_name": "masterthesis",
   "language": "python",
   "name": "masterthesis"
  },
  "language_info": {
   "codemirror_mode": {
    "name": "ipython",
    "version": 3
   },
   "file_extension": ".py",
   "mimetype": "text/x-python",
   "name": "python",
   "nbconvert_exporter": "python",
   "pygments_lexer": "ipython3",
   "version": "3.8.8"
  }
 },
 "nbformat": 4,
 "nbformat_minor": 5
}
